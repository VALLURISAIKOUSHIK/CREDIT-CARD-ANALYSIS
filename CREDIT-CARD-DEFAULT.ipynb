{
 "cells": [
  {
   "cell_type": "code",
   "execution_count": null,
   "metadata": {},
   "outputs": [],
   "source": [
    "import pandas as pd\n",
    "import numpy as np\n",
    "import matplotlib.pyplot as plt\n",
    "import seaborn as sns"
   ]
  },
  {
   "cell_type": "code",
   "execution_count": 2,
   "metadata": {},
   "outputs": [],
   "source": [
    "data=pd.read_csv('credit-card-default.csv')"
   ]
  },
  {
   "cell_type": "code",
   "execution_count": 3,
   "metadata": {},
   "outputs": [],
   "source": [
    "data['EDUCATION'].replace({5:3,4:3,6:3,0:3},inplace=True)"
   ]
  },
  {
   "cell_type": "code",
   "execution_count": 4,
   "metadata": {},
   "outputs": [],
   "source": [
    "data['MARRIAGE'].replace({3:2,0:2},inplace=True)"
   ]
  },
  {
   "cell_type": "code",
   "execution_count": 5,
   "metadata": {},
   "outputs": [
    {
     "data": {
      "text/html": [
       "<div>\n",
       "<style scoped>\n",
       "    .dataframe tbody tr th:only-of-type {\n",
       "        vertical-align: middle;\n",
       "    }\n",
       "\n",
       "    .dataframe tbody tr th {\n",
       "        vertical-align: top;\n",
       "    }\n",
       "\n",
       "    .dataframe thead th {\n",
       "        text-align: right;\n",
       "    }\n",
       "</style>\n",
       "<table border=\"1\" class=\"dataframe\">\n",
       "  <thead>\n",
       "    <tr style=\"text-align: right;\">\n",
       "      <th></th>\n",
       "      <th>ID</th>\n",
       "      <th>LIMIT_BAL</th>\n",
       "      <th>SEX</th>\n",
       "      <th>EDUCATION</th>\n",
       "      <th>MARRIAGE</th>\n",
       "      <th>AGE</th>\n",
       "      <th>PAY_0</th>\n",
       "      <th>PAY_2</th>\n",
       "      <th>PAY_3</th>\n",
       "      <th>PAY_4</th>\n",
       "      <th>...</th>\n",
       "      <th>BILL_AMT4</th>\n",
       "      <th>BILL_AMT5</th>\n",
       "      <th>BILL_AMT6</th>\n",
       "      <th>PAY_AMT1</th>\n",
       "      <th>PAY_AMT2</th>\n",
       "      <th>PAY_AMT3</th>\n",
       "      <th>PAY_AMT4</th>\n",
       "      <th>PAY_AMT5</th>\n",
       "      <th>PAY_AMT6</th>\n",
       "      <th>defaulted</th>\n",
       "    </tr>\n",
       "  </thead>\n",
       "  <tbody>\n",
       "    <tr>\n",
       "      <th>0</th>\n",
       "      <td>1</td>\n",
       "      <td>20000</td>\n",
       "      <td>2</td>\n",
       "      <td>2</td>\n",
       "      <td>1</td>\n",
       "      <td>24</td>\n",
       "      <td>2</td>\n",
       "      <td>2</td>\n",
       "      <td>-1</td>\n",
       "      <td>-1</td>\n",
       "      <td>...</td>\n",
       "      <td>0</td>\n",
       "      <td>0</td>\n",
       "      <td>0</td>\n",
       "      <td>0</td>\n",
       "      <td>689</td>\n",
       "      <td>0</td>\n",
       "      <td>0</td>\n",
       "      <td>0</td>\n",
       "      <td>0</td>\n",
       "      <td>1</td>\n",
       "    </tr>\n",
       "    <tr>\n",
       "      <th>1</th>\n",
       "      <td>2</td>\n",
       "      <td>120000</td>\n",
       "      <td>2</td>\n",
       "      <td>2</td>\n",
       "      <td>2</td>\n",
       "      <td>26</td>\n",
       "      <td>-1</td>\n",
       "      <td>2</td>\n",
       "      <td>0</td>\n",
       "      <td>0</td>\n",
       "      <td>...</td>\n",
       "      <td>3272</td>\n",
       "      <td>3455</td>\n",
       "      <td>3261</td>\n",
       "      <td>0</td>\n",
       "      <td>1000</td>\n",
       "      <td>1000</td>\n",
       "      <td>1000</td>\n",
       "      <td>0</td>\n",
       "      <td>2000</td>\n",
       "      <td>1</td>\n",
       "    </tr>\n",
       "    <tr>\n",
       "      <th>2</th>\n",
       "      <td>3</td>\n",
       "      <td>90000</td>\n",
       "      <td>2</td>\n",
       "      <td>2</td>\n",
       "      <td>2</td>\n",
       "      <td>34</td>\n",
       "      <td>0</td>\n",
       "      <td>0</td>\n",
       "      <td>0</td>\n",
       "      <td>0</td>\n",
       "      <td>...</td>\n",
       "      <td>14331</td>\n",
       "      <td>14948</td>\n",
       "      <td>15549</td>\n",
       "      <td>1518</td>\n",
       "      <td>1500</td>\n",
       "      <td>1000</td>\n",
       "      <td>1000</td>\n",
       "      <td>1000</td>\n",
       "      <td>5000</td>\n",
       "      <td>0</td>\n",
       "    </tr>\n",
       "    <tr>\n",
       "      <th>3</th>\n",
       "      <td>4</td>\n",
       "      <td>50000</td>\n",
       "      <td>2</td>\n",
       "      <td>2</td>\n",
       "      <td>1</td>\n",
       "      <td>37</td>\n",
       "      <td>0</td>\n",
       "      <td>0</td>\n",
       "      <td>0</td>\n",
       "      <td>0</td>\n",
       "      <td>...</td>\n",
       "      <td>28314</td>\n",
       "      <td>28959</td>\n",
       "      <td>29547</td>\n",
       "      <td>2000</td>\n",
       "      <td>2019</td>\n",
       "      <td>1200</td>\n",
       "      <td>1100</td>\n",
       "      <td>1069</td>\n",
       "      <td>1000</td>\n",
       "      <td>0</td>\n",
       "    </tr>\n",
       "    <tr>\n",
       "      <th>4</th>\n",
       "      <td>5</td>\n",
       "      <td>50000</td>\n",
       "      <td>1</td>\n",
       "      <td>2</td>\n",
       "      <td>1</td>\n",
       "      <td>57</td>\n",
       "      <td>-1</td>\n",
       "      <td>0</td>\n",
       "      <td>-1</td>\n",
       "      <td>0</td>\n",
       "      <td>...</td>\n",
       "      <td>20940</td>\n",
       "      <td>19146</td>\n",
       "      <td>19131</td>\n",
       "      <td>2000</td>\n",
       "      <td>36681</td>\n",
       "      <td>10000</td>\n",
       "      <td>9000</td>\n",
       "      <td>689</td>\n",
       "      <td>679</td>\n",
       "      <td>0</td>\n",
       "    </tr>\n",
       "  </tbody>\n",
       "</table>\n",
       "<p>5 rows × 25 columns</p>\n",
       "</div>"
      ],
      "text/plain": [
       "   ID  LIMIT_BAL  SEX  EDUCATION  MARRIAGE  AGE  PAY_0  PAY_2  PAY_3  PAY_4  \\\n",
       "0   1      20000    2          2         1   24      2      2     -1     -1   \n",
       "1   2     120000    2          2         2   26     -1      2      0      0   \n",
       "2   3      90000    2          2         2   34      0      0      0      0   \n",
       "3   4      50000    2          2         1   37      0      0      0      0   \n",
       "4   5      50000    1          2         1   57     -1      0     -1      0   \n",
       "\n",
       "   ...  BILL_AMT4  BILL_AMT5  BILL_AMT6  PAY_AMT1  PAY_AMT2  PAY_AMT3  \\\n",
       "0  ...          0          0          0         0       689         0   \n",
       "1  ...       3272       3455       3261         0      1000      1000   \n",
       "2  ...      14331      14948      15549      1518      1500      1000   \n",
       "3  ...      28314      28959      29547      2000      2019      1200   \n",
       "4  ...      20940      19146      19131      2000     36681     10000   \n",
       "\n",
       "   PAY_AMT4  PAY_AMT5  PAY_AMT6  defaulted  \n",
       "0         0         0         0          1  \n",
       "1      1000         0      2000          1  \n",
       "2      1000      1000      5000          0  \n",
       "3      1100      1069      1000          0  \n",
       "4      9000       689       679          0  \n",
       "\n",
       "[5 rows x 25 columns]"
      ]
     },
     "execution_count": 5,
     "metadata": {},
     "output_type": "execute_result"
    }
   ],
   "source": [
    "data.head()"
   ]
  },
  {
   "cell_type": "code",
   "execution_count": 6,
   "metadata": {},
   "outputs": [
    {
     "data": {
      "text/plain": [
       "(30000, 25)"
      ]
     },
     "execution_count": 6,
     "metadata": {},
     "output_type": "execute_result"
    }
   ],
   "source": [
    "data.shape"
   ]
  },
  {
   "cell_type": "code",
   "execution_count": 7,
   "metadata": {},
   "outputs": [
    {
     "name": "stdout",
     "output_type": "stream",
     "text": [
      "<class 'pandas.core.frame.DataFrame'>\n",
      "RangeIndex: 30000 entries, 0 to 29999\n",
      "Data columns (total 25 columns):\n",
      "ID           30000 non-null int64\n",
      "LIMIT_BAL    30000 non-null int64\n",
      "SEX          30000 non-null int64\n",
      "EDUCATION    30000 non-null int64\n",
      "MARRIAGE     30000 non-null int64\n",
      "AGE          30000 non-null int64\n",
      "PAY_0        30000 non-null int64\n",
      "PAY_2        30000 non-null int64\n",
      "PAY_3        30000 non-null int64\n",
      "PAY_4        30000 non-null int64\n",
      "PAY_5        30000 non-null int64\n",
      "PAY_6        30000 non-null int64\n",
      "BILL_AMT1    30000 non-null int64\n",
      "BILL_AMT2    30000 non-null int64\n",
      "BILL_AMT3    30000 non-null int64\n",
      "BILL_AMT4    30000 non-null int64\n",
      "BILL_AMT5    30000 non-null int64\n",
      "BILL_AMT6    30000 non-null int64\n",
      "PAY_AMT1     30000 non-null int64\n",
      "PAY_AMT2     30000 non-null int64\n",
      "PAY_AMT3     30000 non-null int64\n",
      "PAY_AMT4     30000 non-null int64\n",
      "PAY_AMT5     30000 non-null int64\n",
      "PAY_AMT6     30000 non-null int64\n",
      "defaulted    30000 non-null int64\n",
      "dtypes: int64(25)\n",
      "memory usage: 5.7 MB\n"
     ]
    }
   ],
   "source": [
    "data.info()"
   ]
  },
  {
   "cell_type": "code",
   "execution_count": 8,
   "metadata": {},
   "outputs": [
    {
     "name": "stdout",
     "output_type": "stream",
     "text": [
      "0    0.7788\n",
      "1    0.2212\n",
      "Name: defaulted, dtype: float64\n"
     ]
    },
    {
     "data": {
      "text/plain": [
       "<matplotlib.axes._subplots.AxesSubplot at 0x1a1640e1278>"
      ]
     },
     "execution_count": 8,
     "metadata": {},
     "output_type": "execute_result"
    },
    {
     "data": {
      "image/png": "[encoded data removed]",
      "text/plain": [
       "<Figure size 432x288 with 1 Axes>"
      ]
     },
     "metadata": {
      "needs_background": "light"
     },
     "output_type": "display_data"
    }
   ],
   "source": [
    "print(data['defaulted'].value_counts(normalize=True))\n",
    "data['defaulted'].value_counts(normalize=True).plot.bar()"
   ]
  },
  {
   "cell_type": "code",
   "execution_count": 9,
   "metadata": {},
   "outputs": [
    {
     "name": "stdout",
     "output_type": "stream",
     "text": [
      "2    0.603733\n",
      "1    0.396267\n",
      "Name: SEX, dtype: float64\n"
     ]
    },
    {
     "data": {
      "text/plain": [
       "<matplotlib.axes._subplots.AxesSubplot at 0x1a164411470>"
      ]
     },
     "execution_count": 9,
     "metadata": {},
     "output_type": "execute_result"
    },
    {
     "data": {
      "image/png": "[encoded data removed]",
      "text/plain": [
       "<Figure size 432x288 with 1 Axes>"
      ]
     },
     "metadata": {
      "needs_background": "light"
     },
     "output_type": "display_data"
    }
   ],
   "source": [
    "print(data['SEX'].value_counts(normalize=True))\n",
    "data['SEX'].value_counts(normalize=True).plot.bar()"
   ]
  },
  {
   "cell_type": "code",
   "execution_count": 10,
   "metadata": {},
   "outputs": [
    {
     "name": "stdout",
     "output_type": "stream",
     "text": [
      "2    0.467667\n",
      "1    0.352833\n",
      "3    0.179500\n",
      "Name: EDUCATION, dtype: float64\n"
     ]
    },
    {
     "data": {
      "text/plain": [
       "<matplotlib.axes._subplots.AxesSubplot at 0x1a1644888d0>"
      ]
     },
     "execution_count": 10,
     "metadata": {},
     "output_type": "execute_result"
    },
    {
     "data": {
      "image/png": "[encoded data removed]",
      "text/plain": [
       "<Figure size 432x288 with 1 Axes>"
      ]
     },
     "metadata": {
      "needs_background": "light"
     },
     "output_type": "display_data"
    }
   ],
   "source": [
    "print(data['EDUCATION'].value_counts(normalize=True))\n",
    "data['EDUCATION'].value_counts(normalize=True).plot.bar()"
   ]
  },
  {
   "cell_type": "code",
   "execution_count": 11,
   "metadata": {},
   "outputs": [
    {
     "name": "stdout",
     "output_type": "stream",
     "text": [
      "2    0.5447\n",
      "1    0.4553\n",
      "Name: MARRIAGE, dtype: float64\n"
     ]
    },
    {
     "data": {
      "text/plain": [
       "<matplotlib.axes._subplots.AxesSubplot at 0x1a1644ddcc0>"
      ]
     },
     "execution_count": 11,
     "metadata": {},
     "output_type": "execute_result"
    },
    {
     "data": {
      "image/png": "[encoded data removed]",
      "text/plain": [
       "<Figure size 432x288 with 1 Axes>"
      ]
     },
     "metadata": {
      "needs_background": "light"
     },
     "output_type": "display_data"
    }
   ],
   "source": [
    "print(data['MARRIAGE'].value_counts(normalize=True))\n",
    "data['MARRIAGE'].value_counts(normalize=True).plot.bar()"
   ]
  },
  {
   "cell_type": "code",
   "execution_count": 12,
   "metadata": {},
   "outputs": [
    {
     "data": {
      "text/plain": [
       "count      30000.000000\n",
       "mean      167484.322667\n",
       "std       129747.661567\n",
       "min        10000.000000\n",
       "25%        50000.000000\n",
       "50%       140000.000000\n",
       "75%       240000.000000\n",
       "max      1000000.000000\n",
       "Name: LIMIT_BAL, dtype: float64"
      ]
     },
     "execution_count": 12,
     "metadata": {},
     "output_type": "execute_result"
    }
   ],
   "source": [
    "data['LIMIT_BAL'].describe()"
   ]
  },
  {
   "cell_type": "code",
   "execution_count": 13,
   "metadata": {},
   "outputs": [
    {
     "data": {
      "text/plain": [
       "<matplotlib.axes._subplots.AxesSubplot at 0x1a16454d518>"
      ]
     },
     "execution_count": 13,
     "metadata": {},
     "output_type": "execute_result"
    },
    {
     "data": {
      "image/png": "[encoded data removed]",
      "text/plain": [
       "<Figure size 432x288 with 1 Axes>"
      ]
     },
     "metadata": {
      "needs_background": "light"
     },
     "output_type": "display_data"
    }
   ],
   "source": [
    "sns.boxplot(data['LIMIT_BAL'])"
   ]
  },
  {
   "cell_type": "code",
   "execution_count": 14,
   "metadata": {},
   "outputs": [],
   "source": [
    "q1=data['LIMIT_BAL'].quantile(0.25)\n",
    "q3=data['LIMIT_BAL'].quantile(0.75)\n",
    "iqr=q3-q1\n",
    "data=data[~(data['LIMIT_BAL']>(q3+1.5*iqr))]"
   ]
  },
  {
   "cell_type": "code",
   "execution_count": 15,
   "metadata": {},
   "outputs": [
    {
     "data": {
      "text/plain": [
       "count     29833.000000\n",
       "mean     164963.284953\n",
       "std      125529.099652\n",
       "min       10000.000000\n",
       "25%       50000.000000\n",
       "50%      140000.000000\n",
       "75%      240000.000000\n",
       "max      520000.000000\n",
       "Name: LIMIT_BAL, dtype: float64"
      ]
     },
     "execution_count": 15,
     "metadata": {},
     "output_type": "execute_result"
    }
   ],
   "source": [
    "data['LIMIT_BAL'].describe()"
   ]
  },
  {
   "cell_type": "code",
   "execution_count": 16,
   "metadata": {},
   "outputs": [
    {
     "data": {
      "text/plain": [
       "count    29833.000000\n",
       "mean        35.463983\n",
       "std          9.218344\n",
       "min         21.000000\n",
       "25%         28.000000\n",
       "50%         34.000000\n",
       "75%         41.000000\n",
       "max         79.000000\n",
       "Name: AGE, dtype: float64"
      ]
     },
     "execution_count": 16,
     "metadata": {},
     "output_type": "execute_result"
    }
   ],
   "source": [
    "data['AGE'].describe()"
   ]
  },
  {
   "cell_type": "code",
   "execution_count": 17,
   "metadata": {},
   "outputs": [
    {
     "data": {
      "text/plain": [
       "<matplotlib.axes._subplots.AxesSubplot at 0x1a1645bb2b0>"
      ]
     },
     "execution_count": 17,
     "metadata": {},
     "output_type": "execute_result"
    },
    {
     "data": {
      "image/png": "[encoded data removed]",
      "text/plain": [
       "<Figure size 432x288 with 1 Axes>"
      ]
     },
     "metadata": {
      "needs_background": "light"
     },
     "output_type": "display_data"
    }
   ],
   "source": [
    "sns.boxplot(data['AGE'])"
   ]
  },
  {
   "cell_type": "code",
   "execution_count": 18,
   "metadata": {},
   "outputs": [],
   "source": [
    "data.drop('ID',axis=1,inplace=True)"
   ]
  },
  {
   "cell_type": "code",
   "execution_count": 19,
   "metadata": {},
   "outputs": [
    {
     "data": {
      "text/html": [
       "<div>\n",
       "<style scoped>\n",
       "    .dataframe tbody tr th:only-of-type {\n",
       "        vertical-align: middle;\n",
       "    }\n",
       "\n",
       "    .dataframe tbody tr th {\n",
       "        vertical-align: top;\n",
       "    }\n",
       "\n",
       "    .dataframe thead th {\n",
       "        text-align: right;\n",
       "    }\n",
       "</style>\n",
       "<table border=\"1\" class=\"dataframe\">\n",
       "  <thead>\n",
       "    <tr style=\"text-align: right;\">\n",
       "      <th></th>\n",
       "      <th>LIMIT_BAL</th>\n",
       "      <th>SEX</th>\n",
       "      <th>EDUCATION</th>\n",
       "      <th>MARRIAGE</th>\n",
       "      <th>AGE</th>\n",
       "      <th>PAY_0</th>\n",
       "      <th>PAY_2</th>\n",
       "      <th>PAY_3</th>\n",
       "      <th>PAY_4</th>\n",
       "      <th>PAY_5</th>\n",
       "      <th>...</th>\n",
       "      <th>BILL_AMT4</th>\n",
       "      <th>BILL_AMT5</th>\n",
       "      <th>BILL_AMT6</th>\n",
       "      <th>PAY_AMT1</th>\n",
       "      <th>PAY_AMT2</th>\n",
       "      <th>PAY_AMT3</th>\n",
       "      <th>PAY_AMT4</th>\n",
       "      <th>PAY_AMT5</th>\n",
       "      <th>PAY_AMT6</th>\n",
       "      <th>defaulted</th>\n",
       "    </tr>\n",
       "  </thead>\n",
       "  <tbody>\n",
       "    <tr>\n",
       "      <th>0</th>\n",
       "      <td>20000</td>\n",
       "      <td>2</td>\n",
       "      <td>2</td>\n",
       "      <td>1</td>\n",
       "      <td>24</td>\n",
       "      <td>2</td>\n",
       "      <td>2</td>\n",
       "      <td>-1</td>\n",
       "      <td>-1</td>\n",
       "      <td>-2</td>\n",
       "      <td>...</td>\n",
       "      <td>0</td>\n",
       "      <td>0</td>\n",
       "      <td>0</td>\n",
       "      <td>0</td>\n",
       "      <td>689</td>\n",
       "      <td>0</td>\n",
       "      <td>0</td>\n",
       "      <td>0</td>\n",
       "      <td>0</td>\n",
       "      <td>1</td>\n",
       "    </tr>\n",
       "    <tr>\n",
       "      <th>1</th>\n",
       "      <td>120000</td>\n",
       "      <td>2</td>\n",
       "      <td>2</td>\n",
       "      <td>2</td>\n",
       "      <td>26</td>\n",
       "      <td>-1</td>\n",
       "      <td>2</td>\n",
       "      <td>0</td>\n",
       "      <td>0</td>\n",
       "      <td>0</td>\n",
       "      <td>...</td>\n",
       "      <td>3272</td>\n",
       "      <td>3455</td>\n",
       "      <td>3261</td>\n",
       "      <td>0</td>\n",
       "      <td>1000</td>\n",
       "      <td>1000</td>\n",
       "      <td>1000</td>\n",
       "      <td>0</td>\n",
       "      <td>2000</td>\n",
       "      <td>1</td>\n",
       "    </tr>\n",
       "    <tr>\n",
       "      <th>2</th>\n",
       "      <td>90000</td>\n",
       "      <td>2</td>\n",
       "      <td>2</td>\n",
       "      <td>2</td>\n",
       "      <td>34</td>\n",
       "      <td>0</td>\n",
       "      <td>0</td>\n",
       "      <td>0</td>\n",
       "      <td>0</td>\n",
       "      <td>0</td>\n",
       "      <td>...</td>\n",
       "      <td>14331</td>\n",
       "      <td>14948</td>\n",
       "      <td>15549</td>\n",
       "      <td>1518</td>\n",
       "      <td>1500</td>\n",
       "      <td>1000</td>\n",
       "      <td>1000</td>\n",
       "      <td>1000</td>\n",
       "      <td>5000</td>\n",
       "      <td>0</td>\n",
       "    </tr>\n",
       "    <tr>\n",
       "      <th>3</th>\n",
       "      <td>50000</td>\n",
       "      <td>2</td>\n",
       "      <td>2</td>\n",
       "      <td>1</td>\n",
       "      <td>37</td>\n",
       "      <td>0</td>\n",
       "      <td>0</td>\n",
       "      <td>0</td>\n",
       "      <td>0</td>\n",
       "      <td>0</td>\n",
       "      <td>...</td>\n",
       "      <td>28314</td>\n",
       "      <td>28959</td>\n",
       "      <td>29547</td>\n",
       "      <td>2000</td>\n",
       "      <td>2019</td>\n",
       "      <td>1200</td>\n",
       "      <td>1100</td>\n",
       "      <td>1069</td>\n",
       "      <td>1000</td>\n",
       "      <td>0</td>\n",
       "    </tr>\n",
       "    <tr>\n",
       "      <th>4</th>\n",
       "      <td>50000</td>\n",
       "      <td>1</td>\n",
       "      <td>2</td>\n",
       "      <td>1</td>\n",
       "      <td>57</td>\n",
       "      <td>-1</td>\n",
       "      <td>0</td>\n",
       "      <td>-1</td>\n",
       "      <td>0</td>\n",
       "      <td>0</td>\n",
       "      <td>...</td>\n",
       "      <td>20940</td>\n",
       "      <td>19146</td>\n",
       "      <td>19131</td>\n",
       "      <td>2000</td>\n",
       "      <td>36681</td>\n",
       "      <td>10000</td>\n",
       "      <td>9000</td>\n",
       "      <td>689</td>\n",
       "      <td>679</td>\n",
       "      <td>0</td>\n",
       "    </tr>\n",
       "  </tbody>\n",
       "</table>\n",
       "<p>5 rows × 24 columns</p>\n",
       "</div>"
      ],
      "text/plain": [
       "   LIMIT_BAL  SEX  EDUCATION  MARRIAGE  AGE  PAY_0  PAY_2  PAY_3  PAY_4  \\\n",
       "0      20000    2          2         1   24      2      2     -1     -1   \n",
       "1     120000    2          2         2   26     -1      2      0      0   \n",
       "2      90000    2          2         2   34      0      0      0      0   \n",
       "3      50000    2          2         1   37      0      0      0      0   \n",
       "4      50000    1          2         1   57     -1      0     -1      0   \n",
       "\n",
       "   PAY_5  ...  BILL_AMT4  BILL_AMT5  BILL_AMT6  PAY_AMT1  PAY_AMT2  PAY_AMT3  \\\n",
       "0     -2  ...          0          0          0         0       689         0   \n",
       "1      0  ...       3272       3455       3261         0      1000      1000   \n",
       "2      0  ...      14331      14948      15549      1518      1500      1000   \n",
       "3      0  ...      28314      28959      29547      2000      2019      1200   \n",
       "4      0  ...      20940      19146      19131      2000     36681     10000   \n",
       "\n",
       "   PAY_AMT4  PAY_AMT5  PAY_AMT6  defaulted  \n",
       "0         0         0         0          1  \n",
       "1      1000         0      2000          1  \n",
       "2      1000      1000      5000          0  \n",
       "3      1100      1069      1000          0  \n",
       "4      9000       689       679          0  \n",
       "\n",
       "[5 rows x 24 columns]"
      ]
     },
     "execution_count": 19,
     "metadata": {},
     "output_type": "execute_result"
    }
   ],
   "source": [
    "data.head()"
   ]
  },
  {
   "cell_type": "code",
   "execution_count": 20,
   "metadata": {},
   "outputs": [],
   "source": [
    "data=pd.get_dummies(data=data,columns=['SEX','EDUCATION','MARRIAGE'],drop_first=True)"
   ]
  },
  {
   "cell_type": "code",
   "execution_count": 21,
   "metadata": {},
   "outputs": [
    {
     "data": {
      "text/html": [
       "<div>\n",
       "<style scoped>\n",
       "    .dataframe tbody tr th:only-of-type {\n",
       "        vertical-align: middle;\n",
       "    }\n",
       "\n",
       "    .dataframe tbody tr th {\n",
       "        vertical-align: top;\n",
       "    }\n",
       "\n",
       "    .dataframe thead th {\n",
       "        text-align: right;\n",
       "    }\n",
       "</style>\n",
       "<table border=\"1\" class=\"dataframe\">\n",
       "  <thead>\n",
       "    <tr style=\"text-align: right;\">\n",
       "      <th></th>\n",
       "      <th>LIMIT_BAL</th>\n",
       "      <th>AGE</th>\n",
       "      <th>PAY_0</th>\n",
       "      <th>PAY_2</th>\n",
       "      <th>PAY_3</th>\n",
       "      <th>PAY_4</th>\n",
       "      <th>PAY_5</th>\n",
       "      <th>PAY_6</th>\n",
       "      <th>BILL_AMT1</th>\n",
       "      <th>BILL_AMT2</th>\n",
       "      <th>...</th>\n",
       "      <th>PAY_AMT2</th>\n",
       "      <th>PAY_AMT3</th>\n",
       "      <th>PAY_AMT4</th>\n",
       "      <th>PAY_AMT5</th>\n",
       "      <th>PAY_AMT6</th>\n",
       "      <th>defaulted</th>\n",
       "      <th>SEX_2</th>\n",
       "      <th>EDUCATION_2</th>\n",
       "      <th>EDUCATION_3</th>\n",
       "      <th>MARRIAGE_2</th>\n",
       "    </tr>\n",
       "  </thead>\n",
       "  <tbody>\n",
       "    <tr>\n",
       "      <th>0</th>\n",
       "      <td>20000</td>\n",
       "      <td>24</td>\n",
       "      <td>2</td>\n",
       "      <td>2</td>\n",
       "      <td>-1</td>\n",
       "      <td>-1</td>\n",
       "      <td>-2</td>\n",
       "      <td>-2</td>\n",
       "      <td>3913</td>\n",
       "      <td>3102</td>\n",
       "      <td>...</td>\n",
       "      <td>689</td>\n",
       "      <td>0</td>\n",
       "      <td>0</td>\n",
       "      <td>0</td>\n",
       "      <td>0</td>\n",
       "      <td>1</td>\n",
       "      <td>1</td>\n",
       "      <td>1</td>\n",
       "      <td>0</td>\n",
       "      <td>0</td>\n",
       "    </tr>\n",
       "    <tr>\n",
       "      <th>1</th>\n",
       "      <td>120000</td>\n",
       "      <td>26</td>\n",
       "      <td>-1</td>\n",
       "      <td>2</td>\n",
       "      <td>0</td>\n",
       "      <td>0</td>\n",
       "      <td>0</td>\n",
       "      <td>2</td>\n",
       "      <td>2682</td>\n",
       "      <td>1725</td>\n",
       "      <td>...</td>\n",
       "      <td>1000</td>\n",
       "      <td>1000</td>\n",
       "      <td>1000</td>\n",
       "      <td>0</td>\n",
       "      <td>2000</td>\n",
       "      <td>1</td>\n",
       "      <td>1</td>\n",
       "      <td>1</td>\n",
       "      <td>0</td>\n",
       "      <td>1</td>\n",
       "    </tr>\n",
       "    <tr>\n",
       "      <th>2</th>\n",
       "      <td>90000</td>\n",
       "      <td>34</td>\n",
       "      <td>0</td>\n",
       "      <td>0</td>\n",
       "      <td>0</td>\n",
       "      <td>0</td>\n",
       "      <td>0</td>\n",
       "      <td>0</td>\n",
       "      <td>29239</td>\n",
       "      <td>14027</td>\n",
       "      <td>...</td>\n",
       "      <td>1500</td>\n",
       "      <td>1000</td>\n",
       "      <td>1000</td>\n",
       "      <td>1000</td>\n",
       "      <td>5000</td>\n",
       "      <td>0</td>\n",
       "      <td>1</td>\n",
       "      <td>1</td>\n",
       "      <td>0</td>\n",
       "      <td>1</td>\n",
       "    </tr>\n",
       "    <tr>\n",
       "      <th>3</th>\n",
       "      <td>50000</td>\n",
       "      <td>37</td>\n",
       "      <td>0</td>\n",
       "      <td>0</td>\n",
       "      <td>0</td>\n",
       "      <td>0</td>\n",
       "      <td>0</td>\n",
       "      <td>0</td>\n",
       "      <td>46990</td>\n",
       "      <td>48233</td>\n",
       "      <td>...</td>\n",
       "      <td>2019</td>\n",
       "      <td>1200</td>\n",
       "      <td>1100</td>\n",
       "      <td>1069</td>\n",
       "      <td>1000</td>\n",
       "      <td>0</td>\n",
       "      <td>1</td>\n",
       "      <td>1</td>\n",
       "      <td>0</td>\n",
       "      <td>0</td>\n",
       "    </tr>\n",
       "    <tr>\n",
       "      <th>4</th>\n",
       "      <td>50000</td>\n",
       "      <td>57</td>\n",
       "      <td>-1</td>\n",
       "      <td>0</td>\n",
       "      <td>-1</td>\n",
       "      <td>0</td>\n",
       "      <td>0</td>\n",
       "      <td>0</td>\n",
       "      <td>8617</td>\n",
       "      <td>5670</td>\n",
       "      <td>...</td>\n",
       "      <td>36681</td>\n",
       "      <td>10000</td>\n",
       "      <td>9000</td>\n",
       "      <td>689</td>\n",
       "      <td>679</td>\n",
       "      <td>0</td>\n",
       "      <td>0</td>\n",
       "      <td>1</td>\n",
       "      <td>0</td>\n",
       "      <td>0</td>\n",
       "    </tr>\n",
       "  </tbody>\n",
       "</table>\n",
       "<p>5 rows × 25 columns</p>\n",
       "</div>"
      ],
      "text/plain": [
       "   LIMIT_BAL  AGE  PAY_0  PAY_2  PAY_3  PAY_4  PAY_5  PAY_6  BILL_AMT1  \\\n",
       "0      20000   24      2      2     -1     -1     -2     -2       3913   \n",
       "1     120000   26     -1      2      0      0      0      2       2682   \n",
       "2      90000   34      0      0      0      0      0      0      29239   \n",
       "3      50000   37      0      0      0      0      0      0      46990   \n",
       "4      50000   57     -1      0     -1      0      0      0       8617   \n",
       "\n",
       "   BILL_AMT2  ...  PAY_AMT2  PAY_AMT3  PAY_AMT4  PAY_AMT5  PAY_AMT6  \\\n",
       "0       3102  ...       689         0         0         0         0   \n",
       "1       1725  ...      1000      1000      1000         0      2000   \n",
       "2      14027  ...      1500      1000      1000      1000      5000   \n",
       "3      48233  ...      2019      1200      1100      1069      1000   \n",
       "4       5670  ...     36681     10000      9000       689       679   \n",
       "\n",
       "   defaulted  SEX_2  EDUCATION_2  EDUCATION_3  MARRIAGE_2  \n",
       "0          1      1            1            0           0  \n",
       "1          1      1            1            0           1  \n",
       "2          0      1            1            0           1  \n",
       "3          0      1            1            0           0  \n",
       "4          0      0            1            0           0  \n",
       "\n",
       "[5 rows x 25 columns]"
      ]
     },
     "execution_count": 21,
     "metadata": {},
     "output_type": "execute_result"
    }
   ],
   "source": [
    "data.head()"
   ]
  },
  {
   "cell_type": "code",
   "execution_count": 22,
   "metadata": {},
   "outputs": [],
   "source": [
    "X=data.drop(['defaulted','BILL_AMT4','BILL_AMT5','BILL_AMT2','BILL_AMT6','PAY_6','PAY_4'],axis=1)\n",
    "y=data['defaulted']"
   ]
  },
  {
   "cell_type": "code",
   "execution_count": 205,
   "metadata": {},
   "outputs": [
    {
     "data": {
      "text/plain": [
       "(29833, 19)"
      ]
     },
     "execution_count": 205,
     "metadata": {},
     "output_type": "execute_result"
    }
   ],
   "source": [
    "X.shape"
   ]
  },
  {
   "cell_type": "markdown",
   "metadata": {},
   "source": [
    "# Logisitc Regression"
   ]
  },
  {
   "cell_type": "markdown",
   "metadata": {},
   "source": [
    "# statistical approach"
   ]
  },
  {
   "cell_type": "code",
   "execution_count": 23,
   "metadata": {},
   "outputs": [],
   "source": [
    "import statsmodels.api as sm"
   ]
  },
  {
   "cell_type": "code",
   "execution_count": 24,
   "metadata": {},
   "outputs": [
    {
     "name": "stdout",
     "output_type": "stream",
     "text": [
      "Optimization terminated successfully.\n",
      "         Current function value: 0.465384\n",
      "         Iterations 7\n",
      "                           Logit Regression Results                           \n",
      "==============================================================================\n",
      "Dep. Variable:              defaulted   No. Observations:                29833\n",
      "Model:                          Logit   Df Residuals:                    29814\n",
      "Method:                           MLE   Df Model:                           18\n",
      "Date:                Wed, 06 Nov 2019   Pseudo R-squ.:                  0.1206\n",
      "Time:                        10:59:21   Log-Likelihood:                -13884.\n",
      "converged:                       True   LL-Null:                       -15787.\n",
      "Covariance Type:            nonrobust   LLR p-value:                     0.000\n",
      "===============================================================================\n",
      "                  coef    std err          z      P>|z|      [0.025      0.975]\n",
      "-------------------------------------------------------------------------------\n",
      "const          -1.0050      0.086    -11.707      0.000      -1.173      -0.837\n",
      "LIMIT_BAL   -7.026e-07    1.6e-07     -4.387      0.000   -1.02e-06   -3.89e-07\n",
      "AGE             0.0063      0.002      3.427      0.001       0.003       0.010\n",
      "PAY_0           0.5790      0.018     32.778      0.000       0.544       0.614\n",
      "PAY_2           0.0831      0.020      4.120      0.000       0.044       0.123\n",
      "PAY_3           0.0849      0.020      4.176      0.000       0.045       0.125\n",
      "PAY_5           0.0558      0.018      3.149      0.002       0.021       0.091\n",
      "BILL_AMT1   -4.387e-06   7.41e-07     -5.920      0.000   -5.84e-06   -2.93e-06\n",
      "BILL_AMT3     3.06e-06   8.15e-07      3.755      0.000    1.46e-06    4.66e-06\n",
      "PAY_AMT1    -1.217e-05   2.09e-06     -5.826      0.000   -1.63e-05   -8.07e-06\n",
      "PAY_AMT2    -1.107e-05      2e-06     -5.543      0.000    -1.5e-05   -7.16e-06\n",
      "PAY_AMT3    -2.829e-06   1.56e-06     -1.812      0.070   -5.89e-06    2.32e-07\n",
      "PAY_AMT4    -3.003e-06   1.54e-06     -1.952      0.051   -6.02e-06    1.21e-08\n",
      "PAY_AMT5    -3.473e-06   1.55e-06     -2.238      0.025   -6.52e-06   -4.32e-07\n",
      "PAY_AMT6    -2.537e-06   1.31e-06     -1.940      0.052    -5.1e-06    2.55e-08\n",
      "SEX_2          -0.1142      0.031     -3.715      0.000      -0.174      -0.054\n",
      "EDUCATION_2    -0.0904      0.036     -2.536      0.011      -0.160      -0.021\n",
      "EDUCATION_3    -0.1761      0.047     -3.768      0.000      -0.268      -0.085\n",
      "MARRIAGE_2     -0.1833      0.034     -5.366      0.000      -0.250      -0.116\n",
      "===============================================================================\n"
     ]
    },
    {
     "name": "stderr",
     "output_type": "stream",
     "text": [
      "C:\\Users\\hp\\Anaconda3\\lib\\site-packages\\numpy\\core\\fromnumeric.py:2389: FutureWarning: Method .ptp is deprecated and will be removed in a future version. Use numpy.ptp instead.\n",
      "  return ptp(axis=axis, out=out, **kwargs)\n"
     ]
    }
   ],
   "source": [
    "X=sm.add_constant(X)\n",
    "logit_model=sm.Logit(y,X)\n",
    "result=logit_model.fit(maxiter=10000)\n",
    "print(result.summary())"
   ]
  },
  {
   "cell_type": "markdown",
   "metadata": {},
   "source": [
    "SEX_2 is having negative coef.this states that female has got less chance of getting defaulted compared to male"
   ]
  },
  {
   "cell_type": "code",
   "execution_count": 25,
   "metadata": {},
   "outputs": [],
   "source": [
    "from statsmodels.stats.outliers_influence import variance_inflation_factor\n",
    "vif=pd.DataFrame()\n",
    "vif['vif']=[variance_inflation_factor(X.values,i) for i in range(X.shape[1])]\n",
    "vif['features']=X.columns"
   ]
  },
  {
   "cell_type": "code",
   "execution_count": 26,
   "metadata": {},
   "outputs": [
    {
     "data": {
      "text/html": [
       "<div>\n",
       "<style scoped>\n",
       "    .dataframe tbody tr th:only-of-type {\n",
       "        vertical-align: middle;\n",
       "    }\n",
       "\n",
       "    .dataframe tbody tr th {\n",
       "        vertical-align: top;\n",
       "    }\n",
       "\n",
       "    .dataframe thead th {\n",
       "        text-align: right;\n",
       "    }\n",
       "</style>\n",
       "<table border=\"1\" class=\"dataframe\">\n",
       "  <thead>\n",
       "    <tr style=\"text-align: right;\">\n",
       "      <th></th>\n",
       "      <th>vif</th>\n",
       "      <th>features</th>\n",
       "    </tr>\n",
       "  </thead>\n",
       "  <tbody>\n",
       "    <tr>\n",
       "      <th>0</th>\n",
       "      <td>33.469013</td>\n",
       "      <td>const</td>\n",
       "    </tr>\n",
       "    <tr>\n",
       "      <th>1</th>\n",
       "      <td>1.543724</td>\n",
       "      <td>LIMIT_BAL</td>\n",
       "    </tr>\n",
       "    <tr>\n",
       "      <th>2</th>\n",
       "      <td>1.351973</td>\n",
       "      <td>AGE</td>\n",
       "    </tr>\n",
       "    <tr>\n",
       "      <th>3</th>\n",
       "      <td>1.908881</td>\n",
       "      <td>PAY_0</td>\n",
       "    </tr>\n",
       "    <tr>\n",
       "      <th>4</th>\n",
       "      <td>3.165988</td>\n",
       "      <td>PAY_2</td>\n",
       "    </tr>\n",
       "    <tr>\n",
       "      <th>5</th>\n",
       "      <td>3.026426</td>\n",
       "      <td>PAY_3</td>\n",
       "    </tr>\n",
       "    <tr>\n",
       "      <th>6</th>\n",
       "      <td>2.075043</td>\n",
       "      <td>PAY_5</td>\n",
       "    </tr>\n",
       "    <tr>\n",
       "      <th>7</th>\n",
       "      <td>6.481802</td>\n",
       "      <td>BILL_AMT1</td>\n",
       "    </tr>\n",
       "    <tr>\n",
       "      <th>8</th>\n",
       "      <td>7.182916</td>\n",
       "      <td>BILL_AMT3</td>\n",
       "    </tr>\n",
       "    <tr>\n",
       "      <th>9</th>\n",
       "      <td>1.237887</td>\n",
       "      <td>PAY_AMT1</td>\n",
       "    </tr>\n",
       "    <tr>\n",
       "      <th>10</th>\n",
       "      <td>1.583145</td>\n",
       "      <td>PAY_AMT2</td>\n",
       "    </tr>\n",
       "    <tr>\n",
       "      <th>11</th>\n",
       "      <td>1.220278</td>\n",
       "      <td>PAY_AMT3</td>\n",
       "    </tr>\n",
       "    <tr>\n",
       "      <th>12</th>\n",
       "      <td>1.134425</td>\n",
       "      <td>PAY_AMT4</td>\n",
       "    </tr>\n",
       "    <tr>\n",
       "      <th>13</th>\n",
       "      <td>1.096907</td>\n",
       "      <td>PAY_AMT5</td>\n",
       "    </tr>\n",
       "    <tr>\n",
       "      <th>14</th>\n",
       "      <td>1.108119</td>\n",
       "      <td>PAY_AMT6</td>\n",
       "    </tr>\n",
       "    <tr>\n",
       "      <th>15</th>\n",
       "      <td>1.024533</td>\n",
       "      <td>SEX_2</td>\n",
       "    </tr>\n",
       "    <tr>\n",
       "      <th>16</th>\n",
       "      <td>1.366939</td>\n",
       "      <td>EDUCATION_2</td>\n",
       "    </tr>\n",
       "    <tr>\n",
       "      <th>17</th>\n",
       "      <td>1.415088</td>\n",
       "      <td>EDUCATION_3</td>\n",
       "    </tr>\n",
       "    <tr>\n",
       "      <th>18</th>\n",
       "      <td>1.290833</td>\n",
       "      <td>MARRIAGE_2</td>\n",
       "    </tr>\n",
       "  </tbody>\n",
       "</table>\n",
       "</div>"
      ],
      "text/plain": [
       "          vif     features\n",
       "0   33.469013        const\n",
       "1    1.543724    LIMIT_BAL\n",
       "2    1.351973          AGE\n",
       "3    1.908881        PAY_0\n",
       "4    3.165988        PAY_2\n",
       "5    3.026426        PAY_3\n",
       "6    2.075043        PAY_5\n",
       "7    6.481802    BILL_AMT1\n",
       "8    7.182916    BILL_AMT3\n",
       "9    1.237887     PAY_AMT1\n",
       "10   1.583145     PAY_AMT2\n",
       "11   1.220278     PAY_AMT3\n",
       "12   1.134425     PAY_AMT4\n",
       "13   1.096907     PAY_AMT5\n",
       "14   1.108119     PAY_AMT6\n",
       "15   1.024533        SEX_2\n",
       "16   1.366939  EDUCATION_2\n",
       "17   1.415088  EDUCATION_3\n",
       "18   1.290833   MARRIAGE_2"
      ]
     },
     "execution_count": 26,
     "metadata": {},
     "output_type": "execute_result"
    }
   ],
   "source": [
    "vif"
   ]
  },
  {
   "cell_type": "code",
   "execution_count": 27,
   "metadata": {},
   "outputs": [
    {
     "data": {
      "text/plain": [
       "const          0.366062\n",
       "LIMIT_BAL      0.999999\n",
       "AGE            1.006315\n",
       "PAY_0          1.784258\n",
       "PAY_2          1.086654\n",
       "PAY_3          1.088582\n",
       "PAY_5          1.057412\n",
       "BILL_AMT1      0.999996\n",
       "BILL_AMT3      1.000003\n",
       "PAY_AMT1       0.999988\n",
       "PAY_AMT2       0.999989\n",
       "PAY_AMT3       0.999997\n",
       "PAY_AMT4       0.999997\n",
       "PAY_AMT5       0.999997\n",
       "PAY_AMT6       0.999997\n",
       "SEX_2          0.892051\n",
       "EDUCATION_2    0.913594\n",
       "EDUCATION_3    0.838510\n",
       "MARRIAGE_2     0.832491\n",
       "dtype: float64"
      ]
     },
     "execution_count": 27,
     "metadata": {},
     "output_type": "execute_result"
    }
   ],
   "source": [
    "np.exp(result.params)"
   ]
  },
  {
   "cell_type": "markdown",
   "metadata": {},
   "source": [
    "# Model Evaluation"
   ]
  },
  {
   "cell_type": "code",
   "execution_count": 28,
   "metadata": {},
   "outputs": [],
   "source": [
    "from sklearn.metrics import accuracy_score,classification_report,roc_auc_score,roc_curve\n"
   ]
  },
  {
   "cell_type": "code",
   "execution_count": 29,
   "metadata": {},
   "outputs": [],
   "source": [
    "y_pro=result.predict(X)\n"
   ]
  },
  {
   "cell_type": "code",
   "execution_count": 30,
   "metadata": {},
   "outputs": [],
   "source": [
    "y_pred=y_pro.apply(lambda x:0 if x>0.5 else 1)"
   ]
  },
  {
   "cell_type": "code",
   "execution_count": 31,
   "metadata": {},
   "outputs": [
    {
     "data": {
      "text/plain": [
       "0.2218013609090602"
      ]
     },
     "execution_count": 31,
     "metadata": {},
     "output_type": "execute_result"
    }
   ],
   "source": [
    "y_pro.mean()"
   ]
  },
  {
   "cell_type": "code",
   "execution_count": 32,
   "metadata": {},
   "outputs": [
    {
     "name": "stdout",
     "output_type": "stream",
     "text": [
      "              precision    recall  f1-score   support\n",
      "\n",
      "           0       0.29      0.03      0.05     23216\n",
      "           1       0.18      0.76      0.29      6617\n",
      "\n",
      "    accuracy                           0.19     29833\n",
      "   macro avg       0.23      0.39      0.17     29833\n",
      "weighted avg       0.26      0.19      0.10     29833\n",
      "\n"
     ]
    }
   ],
   "source": [
    "print(classification_report(y,y_pred))"
   ]
  },
  {
   "cell_type": "code",
   "execution_count": 33,
   "metadata": {},
   "outputs": [
    {
     "name": "stdout",
     "output_type": "stream",
     "text": [
      "0.7242661079261725\n"
     ]
    }
   ],
   "source": [
    "print(roc_auc_score(y,y_pro))"
   ]
  },
  {
   "cell_type": "code",
   "execution_count": 34,
   "metadata": {},
   "outputs": [
    {
     "data": {
      "image/png": "[encoded data removed]",
      "text/plain": [
       "<Figure size 432x288 with 1 Axes>"
      ]
     },
     "metadata": {
      "needs_background": "light"
     },
     "output_type": "display_data"
    }
   ],
   "source": [
    "fpr,tpr,thresholds=roc_curve(y,y_pro)\n",
    "plt.plot(fpr,tpr,'r')\n",
    "plt.plot(fpr,fpr)\n",
    "plt.xlabel('FPR')\n",
    "plt.ylabel('TPR')\n",
    "plt.show()"
   ]
  },
  {
   "cell_type": "markdown",
   "metadata": {},
   "source": [
    "### Logistic Regression Machine Learning Approach"
   ]
  },
  {
   "cell_type": "code",
   "execution_count": 35,
   "metadata": {},
   "outputs": [],
   "source": [
    "from sklearn.linear_model import LogisticRegression\n",
    "lr=LogisticRegression()"
   ]
  },
  {
   "cell_type": "code",
   "execution_count": 36,
   "metadata": {},
   "outputs": [],
   "source": [
    "from sklearn.model_selection import train_test_split"
   ]
  },
  {
   "cell_type": "code",
   "execution_count": 37,
   "metadata": {},
   "outputs": [],
   "source": [
    "X_train,X_test,y_train,y_test=train_test_split(X,y,test_size=0.30,random_state=42)"
   ]
  },
  {
   "cell_type": "code",
   "execution_count": 38,
   "metadata": {},
   "outputs": [
    {
     "name": "stderr",
     "output_type": "stream",
     "text": [
      "C:\\Users\\hp\\Anaconda3\\lib\\site-packages\\sklearn\\linear_model\\logistic.py:432: FutureWarning: Default solver will be changed to 'lbfgs' in 0.22. Specify a solver to silence this warning.\n",
      "  FutureWarning)\n"
     ]
    },
    {
     "data": {
      "text/plain": [
       "LogisticRegression(C=1.0, class_weight=None, dual=False, fit_intercept=True,\n",
       "                   intercept_scaling=1, l1_ratio=None, max_iter=100,\n",
       "                   multi_class='warn', n_jobs=None, penalty='l2',\n",
       "                   random_state=None, solver='warn', tol=0.0001, verbose=0,\n",
       "                   warm_start=False)"
      ]
     },
     "execution_count": 38,
     "metadata": {},
     "output_type": "execute_result"
    }
   ],
   "source": [
    "lr.fit(X_train,y_train)"
   ]
  },
  {
   "cell_type": "code",
   "execution_count": 39,
   "metadata": {},
   "outputs": [],
   "source": [
    "y_train_pred=lr.predict(X_train)"
   ]
  },
  {
   "cell_type": "code",
   "execution_count": 40,
   "metadata": {},
   "outputs": [],
   "source": [
    "y_train_prob=lr.predict_proba(X_train)"
   ]
  },
  {
   "cell_type": "code",
   "execution_count": 41,
   "metadata": {},
   "outputs": [
    {
     "data": {
      "text/plain": [
       "array([0, 0, 0, ..., 0, 0, 0], dtype=int64)"
      ]
     },
     "execution_count": 41,
     "metadata": {},
     "output_type": "execute_result"
    }
   ],
   "source": [
    "y_train_pred"
   ]
  },
  {
   "cell_type": "code",
   "execution_count": 42,
   "metadata": {},
   "outputs": [
    {
     "data": {
      "text/plain": [
       "array([[0.78026658, 0.21973342],\n",
       "       [0.87190939, 0.12809061],\n",
       "       [0.64254727, 0.35745273],\n",
       "       ...,\n",
       "       [0.76260736, 0.23739264],\n",
       "       [0.82343732, 0.17656268],\n",
       "       [0.84338301, 0.15661699]])"
      ]
     },
     "execution_count": 42,
     "metadata": {},
     "output_type": "execute_result"
    }
   ],
   "source": [
    "y_train_prob"
   ]
  },
  {
   "cell_type": "code",
   "execution_count": 43,
   "metadata": {},
   "outputs": [],
   "source": [
    "from sklearn import metrics"
   ]
  },
  {
   "cell_type": "code",
   "execution_count": 44,
   "metadata": {},
   "outputs": [
    {
     "data": {
      "text/plain": [
       "array([[16231,     3],\n",
       "       [ 4647,     2]], dtype=int64)"
      ]
     },
     "execution_count": 44,
     "metadata": {},
     "output_type": "execute_result"
    }
   ],
   "source": [
    "metrics.confusion_matrix(y_train,y_train_pred)"
   ]
  },
  {
   "cell_type": "code",
   "execution_count": 45,
   "metadata": {},
   "outputs": [
    {
     "data": {
      "text/plain": [
       "0.6415451156328903"
      ]
     },
     "execution_count": 45,
     "metadata": {},
     "output_type": "execute_result"
    }
   ],
   "source": [
    "metrics.roc_auc_score(y_train,y_train_prob[:,1])"
   ]
  },
  {
   "cell_type": "code",
   "execution_count": 46,
   "metadata": {},
   "outputs": [],
   "source": [
    "y_test_pred=lr.predict(X_test)"
   ]
  },
  {
   "cell_type": "code",
   "execution_count": 47,
   "metadata": {},
   "outputs": [
    {
     "data": {
      "text/plain": [
       "array([0, 0, 0, ..., 0, 0, 0], dtype=int64)"
      ]
     },
     "execution_count": 47,
     "metadata": {},
     "output_type": "execute_result"
    }
   ],
   "source": [
    "y_test_pred"
   ]
  },
  {
   "cell_type": "code",
   "execution_count": 48,
   "metadata": {},
   "outputs": [],
   "source": [
    "y_test_prob=lr.predict_proba(X_test)"
   ]
  },
  {
   "cell_type": "code",
   "execution_count": 49,
   "metadata": {},
   "outputs": [
    {
     "data": {
      "text/plain": [
       "array([[0.63755853, 0.36244147],\n",
       "       [0.64261085, 0.35738915],\n",
       "       [0.64296106, 0.35703894],\n",
       "       ...,\n",
       "       [0.83027925, 0.16972075],\n",
       "       [0.64365742, 0.35634258],\n",
       "       [0.75617528, 0.24382472]])"
      ]
     },
     "execution_count": 49,
     "metadata": {},
     "output_type": "execute_result"
    }
   ],
   "source": [
    "y_test_prob"
   ]
  },
  {
   "cell_type": "code",
   "execution_count": 50,
   "metadata": {},
   "outputs": [
    {
     "data": {
      "text/plain": [
       "array([[6981,    1],\n",
       "       [1967,    1]], dtype=int64)"
      ]
     },
     "execution_count": 50,
     "metadata": {},
     "output_type": "execute_result"
    }
   ],
   "source": [
    "metrics.confusion_matrix(y_test,y_test_pred)"
   ]
  },
  {
   "cell_type": "code",
   "execution_count": 51,
   "metadata": {},
   "outputs": [
    {
     "data": {
      "text/plain": [
       "0.6395166767390246"
      ]
     },
     "execution_count": 51,
     "metadata": {},
     "output_type": "execute_result"
    }
   ],
   "source": [
    "metrics.roc_auc_score(y_test,y_test_prob[:,1])"
   ]
  },
  {
   "cell_type": "markdown",
   "metadata": {},
   "source": [
    "# RANDOM FOREST"
   ]
  },
  {
   "cell_type": "code",
   "execution_count": 68,
   "metadata": {},
   "outputs": [],
   "source": [
    "from sklearn.ensemble import RandomForestClassifier"
   ]
  },
  {
   "cell_type": "code",
   "execution_count": 53,
   "metadata": {},
   "outputs": [],
   "source": [
    "RFC=RandomForestClassifier(n_estimators=10)"
   ]
  },
  {
   "cell_type": "code",
   "execution_count": 54,
   "metadata": {},
   "outputs": [
    {
     "data": {
      "text/plain": [
       "RandomForestClassifier(bootstrap=True, class_weight=None, criterion='gini',\n",
       "                       max_depth=None, max_features='auto', max_leaf_nodes=None,\n",
       "                       min_impurity_decrease=0.0, min_impurity_split=None,\n",
       "                       min_samples_leaf=1, min_samples_split=2,\n",
       "                       min_weight_fraction_leaf=0.0, n_estimators=10,\n",
       "                       n_jobs=None, oob_score=False, random_state=None,\n",
       "                       verbose=0, warm_start=False)"
      ]
     },
     "execution_count": 54,
     "metadata": {},
     "output_type": "execute_result"
    }
   ],
   "source": [
    "RFC.fit(X_train,y_train)"
   ]
  },
  {
   "cell_type": "code",
   "execution_count": 55,
   "metadata": {},
   "outputs": [],
   "source": [
    "y_train_pred=RFC.predict(X_train)"
   ]
  },
  {
   "cell_type": "code",
   "execution_count": 56,
   "metadata": {},
   "outputs": [
    {
     "name": "stdout",
     "output_type": "stream",
     "text": [
      "[[16206    28]\n",
      " [  393  4256]]\n"
     ]
    }
   ],
   "source": [
    "print(metrics.confusion_matrix(y_train,y_train_pred))"
   ]
  },
  {
   "cell_type": "code",
   "execution_count": 57,
   "metadata": {},
   "outputs": [],
   "source": [
    "y_train_prob=RFC.predict_proba(X_train)"
   ]
  },
  {
   "cell_type": "code",
   "execution_count": 58,
   "metadata": {},
   "outputs": [
    {
     "name": "stdout",
     "output_type": "stream",
     "text": [
      "0.9990446108752631\n"
     ]
    }
   ],
   "source": [
    "print(metrics.roc_auc_score(y_train,y_train_prob[:,1]))"
   ]
  },
  {
   "cell_type": "code",
   "execution_count": 59,
   "metadata": {},
   "outputs": [],
   "source": [
    "y_test_pred=RFC.predict(X_test)"
   ]
  },
  {
   "cell_type": "code",
   "execution_count": 60,
   "metadata": {},
   "outputs": [
    {
     "name": "stdout",
     "output_type": "stream",
     "text": [
      "[[6598  384]\n",
      " [1332  636]]\n"
     ]
    }
   ],
   "source": [
    "print(metrics.confusion_matrix(y_test,y_test_pred))"
   ]
  },
  {
   "cell_type": "code",
   "execution_count": 61,
   "metadata": {},
   "outputs": [],
   "source": [
    "y_test_prob=RFC.predict_proba(X_test)"
   ]
  },
  {
   "cell_type": "code",
   "execution_count": 62,
   "metadata": {},
   "outputs": [
    {
     "name": "stdout",
     "output_type": "stream",
     "text": [
      "0.7327273252591449\n"
     ]
    }
   ],
   "source": [
    "print(metrics.roc_auc_score(y_test,y_test_prob[:,1]))"
   ]
  },
  {
   "cell_type": "code",
   "execution_count": 63,
   "metadata": {},
   "outputs": [
    {
     "data": {
      "image/png": "[encoded data removed]",
      "text/plain": [
       "<Figure size 432x288 with 1 Axes>"
      ]
     },
     "metadata": {
      "needs_background": "light"
     },
     "output_type": "display_data"
    }
   ],
   "source": [
    "fpr,tpr,thresholds=roc_curve(y_train,y_train_prob[:,1])\n",
    "plt.plot(fpr,tpr,'r')\n",
    "plt.plot(fpr,fpr)\n",
    "plt.xlabel('FPR')\n",
    "plt.ylabel('TPR')\n",
    "plt.show()"
   ]
  },
  {
   "cell_type": "code",
   "execution_count": 64,
   "metadata": {},
   "outputs": [
    {
     "data": {
      "image/png": "[encoded data removed]",
      "text/plain": [
       "<Figure size 432x288 with 1 Axes>"
      ]
     },
     "metadata": {
      "needs_background": "light"
     },
     "output_type": "display_data"
    }
   ],
   "source": [
    "fpr,tpr,thresholds=roc_curve(y_test,y_test_prob[:,1])\n",
    "plt.plot(fpr,tpr,'r')\n",
    "plt.plot(fpr,fpr)\n",
    "plt.xlabel('FPR')\n",
    "plt.ylabel('TPR')\n",
    "plt.show()"
   ]
  },
  {
   "cell_type": "markdown",
   "metadata": {},
   "source": [
    "# RandomForestClassifier-Hyperparameter Tuning"
   ]
  },
  {
   "cell_type": "code",
   "execution_count": 70,
   "metadata": {},
   "outputs": [],
   "source": [
    "from sklearn.model_selection import GridSearchCV,RandomizedSearchCV"
   ]
  },
  {
   "cell_type": "code",
   "execution_count": 71,
   "metadata": {},
   "outputs": [],
   "source": [
    "rf=RandomForestClassifier()\n",
    "\n",
    "param_grid={'max_depth':[4,8,10],'min_samples_leaf':range(100,400,20),'min_samples_split':range(10,100,20),\n",
    "            'n_estimators':[100,200,300,400]}\n"
   ]
  },
  {
   "cell_type": "code",
   "execution_count": 76,
   "metadata": {},
   "outputs": [
    {
     "data": {
      "text/plain": [
       "RandomizedSearchCV(cv=3, error_score='raise-deprecating',\n",
       "                   estimator=RandomForestClassifier(bootstrap=True,\n",
       "                                                    class_weight=None,\n",
       "                                                    criterion='gini',\n",
       "                                                    max_depth=None,\n",
       "                                                    max_features='auto',\n",
       "                                                    max_leaf_nodes=None,\n",
       "                                                    min_impurity_decrease=0.0,\n",
       "                                                    min_impurity_split=None,\n",
       "                                                    min_samples_leaf=1,\n",
       "                                                    min_samples_split=2,\n",
       "                                                    min_weight_fraction_leaf=0.0,\n",
       "                                                    n_estimators='warn',\n",
       "                                                    n_jobs=None,\n",
       "                                                    oob_score=False,\n",
       "                                                    random_state=None,\n",
       "                                                    verbose=0,\n",
       "                                                    warm_start=False),\n",
       "                   iid='warn', n_iter=10, n_jobs=None,\n",
       "                   param_distributions={'max_depth': [4, 8, 10],\n",
       "                                        'min_samples_leaf': range(100, 400, 20),\n",
       "                                        'min_samples_split': range(10, 100, 20),\n",
       "                                        'n_estimators': [100, 200, 300, 400]},\n",
       "                   pre_dispatch='2*n_jobs', random_state=None, refit=True,\n",
       "                   return_train_score=False, scoring=None, verbose=0)"
      ]
     },
     "execution_count": 76,
     "metadata": {},
     "output_type": "execute_result"
    }
   ],
   "source": [
    "rs=RandomizedSearchCV(rf,param_distributions=param_grid,cv=3)\n",
    "rs.fit(X,y)"
   ]
  },
  {
   "cell_type": "code",
   "execution_count": 80,
   "metadata": {},
   "outputs": [
    {
     "data": {
      "text/plain": [
       "{'n_estimators': 300,\n",
       " 'min_samples_split': 50,\n",
       " 'min_samples_leaf': 100,\n",
       " 'max_depth': 8}"
      ]
     },
     "execution_count": 80,
     "metadata": {},
     "output_type": "execute_result"
    }
   ],
   "source": [
    "rs.best_params_"
   ]
  },
  {
   "cell_type": "code",
   "execution_count": 82,
   "metadata": {},
   "outputs": [],
   "source": [
    "rf=RandomForestClassifier(**rs.best_params_)"
   ]
  },
  {
   "cell_type": "code",
   "execution_count": 83,
   "metadata": {},
   "outputs": [
    {
     "data": {
      "text/plain": [
       "RandomForestClassifier(bootstrap=True, class_weight=None, criterion='gini',\n",
       "                       max_depth=8, max_features='auto', max_leaf_nodes=None,\n",
       "                       min_impurity_decrease=0.0, min_impurity_split=None,\n",
       "                       min_samples_leaf=100, min_samples_split=50,\n",
       "                       min_weight_fraction_leaf=0.0, n_estimators=300,\n",
       "                       n_jobs=None, oob_score=False, random_state=None,\n",
       "                       verbose=0, warm_start=False)"
      ]
     },
     "execution_count": 83,
     "metadata": {},
     "output_type": "execute_result"
    }
   ],
   "source": [
    "rf.fit(X_train,y_train)"
   ]
  },
  {
   "cell_type": "code",
   "execution_count": 85,
   "metadata": {},
   "outputs": [],
   "source": [
    "y_train_pred=rf.predict(X_train)"
   ]
  },
  {
   "cell_type": "code",
   "execution_count": 106,
   "metadata": {},
   "outputs": [
    {
     "name": "stdout",
     "output_type": "stream",
     "text": [
      "[[16234     0]\n",
      " [ 4649     0]]\n"
     ]
    }
   ],
   "source": [
    "print(metrics.confusion_matrix(y_train,y_train_pred))"
   ]
  },
  {
   "cell_type": "code",
   "execution_count": 87,
   "metadata": {},
   "outputs": [],
   "source": [
    "y_train_prob=rf.predict_proba(X_train)"
   ]
  },
  {
   "cell_type": "code",
   "execution_count": 88,
   "metadata": {},
   "outputs": [
    {
     "name": "stdout",
     "output_type": "stream",
     "text": [
      "0.7927779737153975\n"
     ]
    }
   ],
   "source": [
    "print(metrics.roc_auc_score(y_train,y_train_prob[:,1]))"
   ]
  },
  {
   "cell_type": "code",
   "execution_count": 89,
   "metadata": {},
   "outputs": [],
   "source": [
    "y_test_pred=rf.predict(X_test)"
   ]
  },
  {
   "cell_type": "code",
   "execution_count": 90,
   "metadata": {},
   "outputs": [
    {
     "name": "stdout",
     "output_type": "stream",
     "text": [
      "[[6646  336]\n",
      " [1266  702]]\n"
     ]
    }
   ],
   "source": [
    "print(metrics.confusion_matrix(y_test,y_test_pred))"
   ]
  },
  {
   "cell_type": "code",
   "execution_count": 91,
   "metadata": {},
   "outputs": [],
   "source": [
    "y_test_prob=rf.predict_proba(X_test)"
   ]
  },
  {
   "cell_type": "code",
   "execution_count": 92,
   "metadata": {},
   "outputs": [
    {
     "name": "stdout",
     "output_type": "stream",
     "text": [
      "0.7806471140656694\n"
     ]
    }
   ],
   "source": [
    "print(metrics.roc_auc_score(y_test,y_test_prob[:,1]))"
   ]
  },
  {
   "cell_type": "code",
   "execution_count": 93,
   "metadata": {},
   "outputs": [
    {
     "data": {
      "image/png": "[encoded data removed]",
      "text/plain": [
       "<Figure size 432x288 with 1 Axes>"
      ]
     },
     "metadata": {
      "needs_background": "light"
     },
     "output_type": "display_data"
    }
   ],
   "source": [
    "fpr,tpr,thresholds=roc_curve(y_train,y_train_prob[:,1])\n",
    "plt.plot(fpr,tpr,'r')\n",
    "plt.plot(fpr,fpr)\n",
    "plt.xlabel('FPR')\n",
    "plt.ylabel('TPR')\n",
    "plt.show()"
   ]
  },
  {
   "cell_type": "code",
   "execution_count": 94,
   "metadata": {},
   "outputs": [
    {
     "data": {
      "image/png": "[encoded data removed]",
      "text/plain": [
       "<Figure size 432x288 with 1 Axes>"
      ]
     },
     "metadata": {
      "needs_background": "light"
     },
     "output_type": "display_data"
    }
   ],
   "source": [
    "fpr,tpr,thresholds=roc_curve(y_test,y_test_prob[:,1])\n",
    "plt.plot(fpr,tpr,'r')\n",
    "plt.plot(fpr,fpr)\n",
    "plt.xlabel('FPR')\n",
    "plt.ylabel('TPR')\n",
    "plt.show()"
   ]
  },
  {
   "cell_type": "code",
   "execution_count": 98,
   "metadata": {},
   "outputs": [
    {
     "name": "stdout",
     "output_type": "stream",
     "text": [
      "Collecting package metadata (current_repodata.json): ...working... done\n",
      "Solving environment: ...working... done\n",
      "\n",
      "## Package Plan ##\n",
      "\n",
      "  environment location: C:\\Users\\hp\\Anaconda3\n",
      "\n",
      "  added / updated specs:\n",
      "    - lightgbm\n",
      "\n",
      "\n",
      "The following packages will be downloaded:\n",
      "\n",
      "    package                    |            build\n",
      "    ---------------------------|-----------------\n",
      "    conda-4.7.12               |           py37_0         3.0 MB  conda-forge\n",
      "    lightgbm-2.3.0             |   py37h6538335_0         553 KB  conda-forge\n",
      "    ------------------------------------------------------------\n",
      "                                           Total:         3.5 MB\n",
      "\n",
      "The following NEW packages will be INSTALLED:\n",
      "\n",
      "  lightgbm           conda-forge/win-64::lightgbm-2.3.0-py37h6538335_0\n",
      "\n",
      "The following packages will be UPDATED:\n",
      "\n",
      "  conda                      pkgs/main::conda-4.7.10-py37_0 --> conda-forge::conda-4.7.12-py37_0\n",
      "\n",
      "\n",
      "\n",
      "Downloading and Extracting Packages\n",
      "\n",
      "lightgbm-2.3.0       | 553 KB    |            |   0% \n",
      "lightgbm-2.3.0       | 553 KB    | 2          |   3% \n",
      "lightgbm-2.3.0       | 553 KB    | #####2     |  52% \n",
      "lightgbm-2.3.0       | 553 KB    | ########## | 100% \n",
      "\n",
      "conda-4.7.12         | 3.0 MB    |            |   0% \n",
      "conda-4.7.12         | 3.0 MB    | 7          |   7% \n",
      "conda-4.7.12         | 3.0 MB    | ##3        |  24% \n",
      "conda-4.7.12         | 3.0 MB    | ###2       |  33% \n",
      "conda-4.7.12         | 3.0 MB    | ####5      |  45% \n",
      "conda-4.7.12         | 3.0 MB    | #####5     |  56% \n",
      "conda-4.7.12         | 3.0 MB    | ######5    |  66% \n",
      "conda-4.7.12         | 3.0 MB    | #######9   |  79% \n",
      "conda-4.7.12         | 3.0 MB    | ########9  |  89% \n",
      "conda-4.7.12         | 3.0 MB    | ########## | 100% \n",
      "Preparing transaction: ...working... done\n",
      "Verifying transaction: ...working... done\n",
      "Executing transaction: ...working... done\n",
      "\n",
      "Note: you may need to restart the kernel to use updated packages.\n"
     ]
    },
    {
     "name": "stderr",
     "output_type": "stream",
     "text": [
      "\n",
      "\n",
      "==> WARNING: A newer version of conda exists. <==\n",
      "  current version: 4.7.10\n",
      "  latest version: 4.7.12\n",
      "\n",
      "Please update conda by running\n",
      "\n",
      "    $ conda update -n base -c defaults conda\n",
      "\n",
      "\n"
     ]
    }
   ],
   "source": [
    "conda install -c conda-forge lightgbm"
   ]
  },
  {
   "cell_type": "code",
   "execution_count": 99,
   "metadata": {},
   "outputs": [
    {
     "name": "stdout",
     "output_type": "stream",
     "text": [
      "Collecting package metadata (current_repodata.json): ...working... done\n",
      "Solving environment: ...working... \n",
      "The environment is inconsistent, please check the package plan carefully\n",
      "The following packages are causing the inconsistency:\n",
      "\n",
      "  - defaults/win-64::anaconda==2019.07=py37_0\n",
      "  - defaults/win-64::numba==0.44.1=py37hf9181ef_0\n",
      "done\n",
      "\n",
      "## Package Plan ##\n",
      "\n",
      "  environment location: C:\\Users\\hp\\Anaconda3\n",
      "\n",
      "  added / updated specs:\n",
      "    - conda\n",
      "\n",
      "\n",
      "The following packages will be downloaded:\n",
      "\n",
      "    package                    |            build\n",
      "    ---------------------------|-----------------\n",
      "    _anaconda_depends-2019.03  |           py37_0           6 KB\n",
      "    anaconda-custom            |           py37_1           3 KB\n",
      "    anaconda-project-0.8.4     |             py_0         215 KB\n",
      "    asn1crypto-1.2.0           |           py37_0         162 KB\n",
      "    astroid-2.3.2              |           py37_0         284 KB\n",
      "    astropy-3.2.3              |   py37he774522_0         6.9 MB\n",
      "    attrs-19.3.0               |             py_0          39 KB\n",
      "    beautifulsoup4-4.8.1       |           py37_0         153 KB\n",
      "    bitarray-1.0.1             |   py37he774522_0          60 KB\n",
      "    bokeh-1.4.0                |           py37_0        17.1 MB\n",
      "    ca-certificates-2019.10.16 |                0         163 KB\n",
      "    certifi-2019.9.11          |           py37_0         155 KB\n",
      "    cffi-1.13.1                |   py37h7a1dbc1_0         227 KB\n",
      "    chardet-3.0.4              |        py37_1003         193 KB\n",
      "    cloudpickle-1.2.2          |             py_0          29 KB\n",
      "    conda-4.7.12               |           py37_0         3.0 MB\n",
      "    conda-package-handling-1.6.0|   py37h62dcd97_0         611 KB\n",
      "    contextlib2-0.6.0          |             py_0          16 KB\n",
      "    cryptography-2.8           |   py37h7a1dbc1_0         570 KB\n",
      "    curl-7.65.3                |       h2a8f88b_0         118 KB\n",
      "    cython-0.29.13             |   py37ha925a31_0         1.8 MB\n",
      "    dask-2.6.0                 |             py_0          12 KB\n",
      "    dask-core-2.6.0            |             py_0         578 KB\n",
      "    decorator-4.4.1            |             py_0          13 KB\n",
      "    distributed-2.6.0          |             py_0         393 KB\n",
      "    docutils-0.15.2            |           py37_0         671 KB\n",
      "    fsspec-0.5.2               |             py_0          46 KB\n",
      "    heapdict-1.0.1             |             py_0           9 KB\n",
      "    imageio-2.6.1              |           py37_0         3.4 MB\n",
      "    importlib_metadata-0.23    |           py37_0          44 KB\n",
      "    ipykernel-5.1.3            |   py37h39e3cac_0         168 KB\n",
      "    ipython-7.9.0              |   py37h39e3cac_0         1.1 MB\n",
      "    ipywidgets-7.5.1           |             py_0         107 KB\n",
      "    jedi-0.15.1                |           py37_0         704 KB\n",
      "    jinja2-2.10.3              |             py_0          95 KB\n",
      "    json5-0.8.5                |             py_0          25 KB\n",
      "    jsonschema-3.1.1           |           py37_0         111 KB\n",
      "    jupyter_client-5.3.4       |           py37_0         160 KB\n",
      "    jupyter_core-4.6.0         |           py37_0          97 KB\n",
      "    jupyterlab-1.1.4           |     pyhf63ae98_0         4.4 MB\n",
      "    jupyterlab_server-1.0.6    |             py_0          26 KB\n",
      "    lazy-object-proxy-1.4.2    |   py37he774522_0          30 KB\n",
      "    libcurl-7.65.3             |       h2a8f88b_0         268 KB\n",
      "    lxml-4.4.1                 |   py37h1350720_0         1.1 MB\n",
      "    matplotlib-3.1.1           |   py37hc8f65d3_0         4.9 MB\n",
      "    mkl-service-2.3.0          |   py37hb782905_0         210 KB\n",
      "    mkl_fft-1.0.14             |   py37h14836fe_0         118 KB\n",
      "    mkl_random-1.1.0           |   py37h675688f_0         232 KB\n",
      "    more-itertools-7.2.0       |           py37_0         101 KB\n",
      "    nbconvert-5.6.0            |           py37_1         509 KB\n",
      "    networkx-2.4               |             py_0         1.2 MB\n",
      "    nltk-3.4.5                 |           py37_0         1.7 MB\n",
      "    notebook-6.0.1             |           py37_0         7.4 MB\n",
      "    numexpr-2.7.0              |   py37hdce8814_0         124 KB\n",
      "    numpy-1.17.2               |   py37hc73f44b_0           5 KB\n",
      "    numpy-base-1.17.2          |   py37hc3f5095_0         4.9 MB\n",
      "    openpyxl-3.0.0             |             py_0         157 KB\n",
      "    openssl-1.1.1d             |       he774522_3         5.7 MB\n",
      "    packaging-19.2             |             py_0          30 KB\n",
      "    pandas-0.25.2              |   py37ha925a31_0         9.8 MB\n",
      "    parso-0.5.1                |             py_0          68 KB\n",
      "    pathlib2-2.3.5             |           py37_0          37 KB\n",
      "    pillow-6.2.0               |   py37hdc69c19_0         703 KB\n",
      "    pip-19.3.1                 |           py37_0         1.9 MB\n",
      "    pluggy-0.13.0              |           py37_0          32 KB\n",
      "    prompt_toolkit-2.0.10      |             py_0         227 KB\n",
      "    pylint-2.4.3               |           py37_0         469 KB\n",
      "    pyodbc-4.0.27              |   py37ha925a31_0          66 KB\n",
      "    pyparsing-2.4.2            |             py_0          61 KB\n",
      "    pyrsistent-0.15.4          |   py37he774522_0          95 KB\n",
      "    pysocks-1.7.1              |           py37_0          30 KB\n",
      "    pytest-5.2.2               |           py37_0         386 KB\n",
      "    pytest-doctestplus-0.4.0   |             py_0          18 KB\n",
      "    pytest-openfiles-0.4.0     |             py_0          10 KB\n",
      "    pytest-remotedata-0.3.2    |           py37_0          15 KB\n",
      "    python-libarchive-c-2.8    |          py37_13          24 KB\n",
      "    pytz-2019.3                |             py_0         231 KB\n",
      "    pywavelets-1.1.1           |   py37he774522_0         4.3 MB\n",
      "    pyyaml-5.1.2               |   py37he774522_0         152 KB\n",
      "    pyzmq-18.1.0               |   py37ha925a31_0         400 KB\n",
      "    qtawesome-0.6.0            |             py_0         671 KB\n",
      "    qtconsole-4.5.5            |             py_0          94 KB\n",
      "    qtpy-1.9.0                 |             py_0          39 KB\n",
      "    scikit-learn-0.21.3        |   py37h6288b17_0         4.4 MB\n",
      "    scipy-1.3.1                |   py37h29ff71c_0        11.2 MB\n",
      "    setuptools-41.6.0          |           py37_0         687 KB\n",
      "    snowballstemmer-2.0.0      |             py_0          58 KB\n",
      "    soupsieve-1.9.3            |           py37_0          60 KB\n",
      "    sphinx-2.2.1               |             py_0         1.4 MB\n",
      "    spyder-kernels-0.5.2       |           py37_0          70 KB\n",
      "    sqlalchemy-1.3.10          |   py37he774522_0         1.8 MB\n",
      "    sqlite-3.30.1              |       he774522_0         962 KB\n",
      "    statsmodels-0.10.1         |   py37h8c2d366_0         7.1 MB\n",
      "    tbb-2019.4                 |       h74a9793_0         156 KB\n",
      "    tqdm-4.36.1                |             py_0          50 KB\n",
      "    traitlets-4.3.3            |           py37_0         138 KB\n",
      "    vs2015_runtime-14.16.27012 |       hf0eaf9b_0         1.1 MB\n",
      "    werkzeug-0.16.0            |             py_0         255 KB\n",
      "    wheel-0.33.6               |           py37_0          58 KB\n",
      "    widgetsnbextension-3.5.1   |           py37_0         868 KB\n",
      "    xlsxwriter-1.2.2           |             py_0         106 KB\n",
      "    xlwings-0.16.0             |           py37_0         824 KB\n",
      "    zipp-0.6.0                 |             py_0           9 KB\n",
      "    ------------------------------------------------------------\n",
      "                                           Total:       123.3 MB\n",
      "\n",
      "The following NEW packages will be INSTALLED:\n",
      "\n",
      "  _anaconda_depends  pkgs/main/win-64::_anaconda_depends-2019.03-py37_0\n",
      "  fsspec             pkgs/main/noarch::fsspec-0.5.2-py_0\n",
      "  tbb                pkgs/main/win-64::tbb-2019.4-h74a9793_0\n",
      "\n",
      "The following packages will be UPDATED:\n",
      "\n",
      "  anaconda-project                               0.8.3-py_0 --> 0.8.4-py_0\n",
      "  asn1crypto                                  0.24.0-py37_0 --> 1.2.0-py37_0\n",
      "  astroid                                      2.2.5-py37_0 --> 2.3.2-py37_0\n",
      "  astropy                              3.2.1-py37he774522_0 --> 3.2.3-py37he774522_0\n",
      "  attrs               pkgs/main/win-64::attrs-19.1.0-py37_1 --> pkgs/main/noarch::attrs-19.3.0-py_0\n",
      "  beautifulsoup4                               4.7.1-py37_1 --> 4.8.1-py37_0\n",
      "  bitarray                             0.9.3-py37he774522_0 --> 1.0.1-py37he774522_0\n",
      "  bokeh                                        1.2.0-py37_0 --> 1.4.0-py37_0\n",
      "  ca-certificates                               2019.5.15-0 --> 2019.10.16-0\n",
      "  certifi                                  2019.6.16-py37_0 --> 2019.9.11-py37_0\n",
      "  cffi                                1.12.3-py37h7a1dbc1_0 --> 1.13.1-py37h7a1dbc1_0\n",
      "  chardet                                      3.0.4-py37_1 --> 3.0.4-py37_1003\n",
      "  cloudpickle                                    1.2.1-py_0 --> 1.2.2-py_0\n",
      "  conda-package-han~                          1.3.11-py37_0 --> 1.6.0-py37h62dcd97_0\n",
      "  contextlib2        pkgs/main/win-64::contextlib2-0.5.5-p~ --> pkgs/main/noarch::contextlib2-0.6.0-py_0\n",
      "  cryptography                           2.7-py37h7a1dbc1_0 --> 2.8-py37h7a1dbc1_0\n",
      "  curl                                    7.65.2-h2a8f88b_0 --> 7.65.3-h2a8f88b_0\n",
      "  cython                             0.29.12-py37ha925a31_0 --> 0.29.13-py37ha925a31_0\n",
      "  dask                                           2.1.0-py_0 --> 2.6.0-py_0\n",
      "  dask-core                                      2.1.0-py_0 --> 2.6.0-py_0\n",
      "  decorator          pkgs/main/win-64::decorator-4.4.0-py3~ --> pkgs/main/noarch::decorator-4.4.1-py_0\n",
      "  distributed                                    2.1.0-py_0 --> 2.6.0-py_0\n",
      "  docutils                                      0.14-py37_0 --> 0.15.2-py37_0\n",
      "  heapdict           pkgs/main/win-64::heapdict-1.0.0-py37~ --> pkgs/main/noarch::heapdict-1.0.1-py_0\n",
      "  imageio                                      2.5.0-py37_0 --> 2.6.1-py37_0\n",
      "  importlib_metadata                            0.17-py37_1 --> 0.23-py37_0\n",
      "  ipykernel                            5.1.1-py37h39e3cac_0 --> 5.1.3-py37h39e3cac_0\n",
      "  ipython                              7.6.1-py37h39e3cac_0 --> 7.9.0-py37h39e3cac_0\n",
      "  ipywidgets                                     7.5.0-py_0 --> 7.5.1-py_0\n",
      "  jedi                                        0.13.3-py37_0 --> 0.15.1-py37_0\n",
      "  jinja2             pkgs/main/win-64::jinja2-2.10.1-py37_0 --> pkgs/main/noarch::jinja2-2.10.3-py_0\n",
      "  json5                                          0.8.4-py_0 --> 0.8.5-py_0\n",
      "  jsonschema                                   3.0.1-py37_0 --> 3.1.1-py37_0\n",
      "  jupyter_client     pkgs/main/noarch::jupyter_client-5.3.~ --> pkgs/main/win-64::jupyter_client-5.3.4-py37_0\n",
      "  jupyter_core       pkgs/main/noarch::jupyter_core-4.5.0-~ --> pkgs/main/win-64::jupyter_core-4.6.0-py37_0\n",
      "  jupyterlab         pkgs/main/win-64::jupyterlab-1.0.2-py~ --> pkgs/main/noarch::jupyterlab-1.1.4-pyhf63ae98_0\n",
      "  jupyterlab_server                              1.0.0-py_0 --> 1.0.6-py_0\n",
      "  lazy-object-proxy                    1.4.1-py37he774522_0 --> 1.4.2-py37he774522_0\n",
      "  libcurl                                 7.65.2-h2a8f88b_0 --> 7.65.3-h2a8f88b_0\n",
      "  lxml                                 4.3.4-py37h1350720_0 --> 4.4.1-py37h1350720_0\n",
      "  matplotlib                           3.1.0-py37hc8f65d3_0 --> 3.1.1-py37hc8f65d3_0\n",
      "  mkl-service                          2.0.2-py37he774522_0 --> 2.3.0-py37hb782905_0\n",
      "  mkl_fft                             1.0.12-py37h14836fe_0 --> 1.0.14-py37h14836fe_0\n",
      "  mkl_random                           1.0.2-py37h343c172_0 --> 1.1.0-py37h675688f_0\n",
      "  more-itertools                               7.0.0-py37_0 --> 7.2.0-py37_0\n",
      "  nbconvert          pkgs/main/noarch::nbconvert-5.5.0-py_0 --> pkgs/main/win-64::nbconvert-5.6.0-py37_1\n",
      "  networkx                                         2.3-py_0 --> 2.4-py_0\n",
      "  nltk                                         3.4.4-py37_0 --> 3.4.5-py37_0\n",
      "  notebook                                     6.0.0-py37_0 --> 6.0.1-py37_0\n",
      "  numexpr                              2.6.9-py37hdce8814_0 --> 2.7.0-py37hdce8814_0\n",
      "  numpy                               1.16.4-py37h19fb1c0_0 --> 1.17.2-py37hc73f44b_0\n",
      "  numpy-base                          1.16.4-py37hc3f5095_0 --> 1.17.2-py37hc3f5095_0\n",
      "  openpyxl                                       2.6.2-py_0 --> 3.0.0-py_0\n",
      "  openssl                                 1.1.1c-he774522_1 --> 1.1.1d-he774522_3\n",
      "  packaging          pkgs/main/win-64::packaging-19.0-py37~ --> pkgs/main/noarch::packaging-19.2-py_0\n",
      "  pandas                              0.24.2-py37ha925a31_0 --> 0.25.2-py37ha925a31_0\n",
      "  parso                                          0.5.0-py_0 --> 0.5.1-py_0\n",
      "  pathlib2                                     2.3.4-py37_0 --> 2.3.5-py37_0\n",
      "  pillow                               6.1.0-py37hdc69c19_0 --> 6.2.0-py37hdc69c19_0\n",
      "  pip                                         19.1.1-py37_0 --> 19.3.1-py37_0\n",
      "  pluggy               pkgs/main/noarch::pluggy-0.12.0-py_0 --> pkgs/main/win-64::pluggy-0.13.0-py37_0\n",
      "  prompt_toolkit     pkgs/main/win-64::prompt_toolkit-2.0.~ --> pkgs/main/noarch::prompt_toolkit-2.0.10-py_0\n",
      "  pylint                                       2.3.1-py37_0 --> 2.4.3-py37_0\n",
      "  pyodbc                              4.0.26-py37ha925a31_0 --> 4.0.27-py37ha925a31_0\n",
      "  pyparsing                                      2.4.0-py_0 --> 2.4.2-py_0\n",
      "  pyrsistent                         0.14.11-py37he774522_0 --> 0.15.4-py37he774522_0\n",
      "  pysocks                                      1.7.0-py37_0 --> 1.7.1-py37_0\n",
      "  pytest                                       5.0.1-py37_0 --> 5.2.2-py37_0\n",
      "  pytest-doctestplus pkgs/main/win-64::pytest-doctestplus-~ --> pkgs/main/noarch::pytest-doctestplus-0.4.0-py_0\n",
      "  pytest-openfiles   pkgs/main/win-64::pytest-openfiles-0.~ --> pkgs/main/noarch::pytest-openfiles-0.4.0-py_0\n",
      "  pytest-remotedata                            0.3.1-py37_0 --> 0.3.2-py37_0\n",
      "  python-libarchive~                            2.8-py37_11 --> 2.8-py37_13\n",
      "  pytz                                          2019.1-py_0 --> 2019.3-py_0\n",
      "  pywavelets                           1.0.3-py37h8c2d366_1 --> 1.1.1-py37he774522_0\n",
      "  pyyaml                               5.1.1-py37he774522_0 --> 5.1.2-py37he774522_0\n",
      "  pyzmq                               18.0.0-py37ha925a31_0 --> 18.1.0-py37ha925a31_0\n",
      "  qtawesome          pkgs/main/win-64::qtawesome-0.5.7-py3~ --> pkgs/main/noarch::qtawesome-0.6.0-py_0\n",
      "  qtconsole                                      4.5.1-py_0 --> 4.5.5-py_0\n",
      "  qtpy                                           1.8.0-py_0 --> 1.9.0-py_0\n",
      "  scikit-learn                        0.21.2-py37h6288b17_0 --> 0.21.3-py37h6288b17_0\n",
      "  scipy                                1.2.1-py37h29ff71c_0 --> 1.3.1-py37h29ff71c_0\n",
      "  setuptools                                  41.0.1-py37_0 --> 41.6.0-py37_0\n",
      "  snowballstemmer                                1.9.0-py_0 --> 2.0.0-py_0\n",
      "  soupsieve                                      1.8-py37_0 --> 1.9.3-py37_0\n",
      "  sphinx                                         2.1.2-py_0 --> 2.2.1-py_0\n",
      "  spyder-kernels                               0.5.1-py37_0 --> 0.5.2-py37_0\n",
      "  sqlalchemy                           1.3.5-py37he774522_0 --> 1.3.10-py37he774522_0\n",
      "  sqlite                                  3.29.0-he774522_0 --> 3.30.1-he774522_0\n",
      "  statsmodels                         0.10.0-py37h8c2d366_0 --> 0.10.1-py37h8c2d366_0\n",
      "  tqdm                                          4.32.1-py_0 --> 4.36.1-py_0\n",
      "  traitlets                                    4.3.2-py37_0 --> 4.3.3-py37_0\n",
      "  vs2015_runtime                     14.15.26706-h3a45250_4 --> 14.16.27012-hf0eaf9b_0\n",
      "  werkzeug                                      0.15.4-py_0 --> 0.16.0-py_0\n",
      "  wheel                                       0.33.4-py37_0 --> 0.33.6-py37_0\n",
      "  widgetsnbextension                           3.5.0-py37_0 --> 3.5.1-py37_0\n",
      "  xlsxwriter                                     1.1.8-py_0 --> 1.2.2-py_0\n",
      "  xlwings                                     0.15.8-py37_0 --> 0.16.0-py37_0\n",
      "  zipp                                           0.5.1-py_0 --> 0.6.0-py_0\n",
      "\n",
      "The following packages will be SUPERSEDED by a higher-priority channel:\n",
      "\n",
      "  conda                                         conda-forge --> pkgs/main\n",
      "\n",
      "The following packages will be DOWNGRADED:\n",
      "\n",
      "  anaconda                                   2019.07-py37_0 --> custom-py37_1\n",
      "\n",
      "\n",
      "\n",
      "Downloading and Extracting Packages\n",
      "\n",
      "pytest-remotedata-0. | 15 KB     |            |   0% \n",
      "pytest-remotedata-0. | 15 KB     | ########## | 100% \n",
      "\n",
      "pyodbc-4.0.27        | 66 KB     |            |   0% \n",
      "pyodbc-4.0.27        | 66 KB     | ########## | 100% \n",
      "\n",
      "prompt_toolkit-2.0.1 | 227 KB    |            |   0% \n",
      "prompt_toolkit-2.0.1 | 227 KB    | ##1        |  21% \n",
      "prompt_toolkit-2.0.1 | 227 KB    | ########## | 100% \n",
      "\n",
      "mkl_fft-1.0.14       | 118 KB    |            |   0% \n",
      "mkl_fft-1.0.14       | 118 KB    | ########1  |  82% \n",
      "mkl_fft-1.0.14       | 118 KB    | ########## | 100% \n",
      "\n",
      "lxml-4.4.1           | 1.1 MB    |            |   0% \n",
      "lxml-4.4.1           | 1.1 MB    | 1          |   1% \n",
      "lxml-4.4.1           | 1.1 MB    | ##9        |  30% \n",
      "lxml-4.4.1           | 1.1 MB    | #####8     |  58% \n",
      "lxml-4.4.1           | 1.1 MB    | ########4  |  85% \n",
      "lxml-4.4.1           | 1.1 MB    | ########## | 100% \n",
      "\n",
      "tqdm-4.36.1          | 50 KB     |            |   0% \n",
      "tqdm-4.36.1          | 50 KB     | ###1       |  32% \n",
      "tqdm-4.36.1          | 50 KB     | ########## | 100% \n",
      "\n",
      "cloudpickle-1.2.2    | 29 KB     |            |   0% \n",
      "cloudpickle-1.2.2    | 29 KB     | ########## | 100% \n",
      "\n",
      "pluggy-0.13.0        | 32 KB     |            |   0% \n",
      "pluggy-0.13.0        | 32 KB     | ########## | 100% \n",
      "\n",
      "ca-certificates-2019 | 163 KB    |            |   0% \n",
      "ca-certificates-2019 | 163 KB    | 9          |  10% \n",
      "ca-certificates-2019 | 163 KB    | ########## | 100% \n",
      "\n",
      "astroid-2.3.2        | 284 KB    |            |   0% \n",
      "astroid-2.3.2        | 284 KB    | 5          |   6% \n",
      "astroid-2.3.2        | 284 KB    | ########## | 100% \n",
      "\n",
      "pyzmq-18.1.0         | 400 KB    |            |   0% \n",
      "pyzmq-18.1.0         | 400 KB    | #5         |  16% \n",
      "pyzmq-18.1.0         | 400 KB    | #######5   |  76% \n",
      "pyzmq-18.1.0         | 400 KB    | ########## | 100% \n",
      "\n",
      "jupyter_client-5.3.4 | 160 KB    |            |   0% \n",
      "jupyter_client-5.3.4 | 160 KB    | 9          |  10% \n",
      "jupyter_client-5.3.4 | 160 KB    | ########## | 100% \n",
      "\n",
      "wheel-0.33.6         | 58 KB     |            |   0% \n",
      "wheel-0.33.6         | 58 KB     | ##7        |  27% \n",
      "wheel-0.33.6         | 58 KB     | ########## | 100% \n",
      "\n",
      "vs2015_runtime-14.16 | 1.1 MB    |            |   0% \n",
      "vs2015_runtime-14.16 | 1.1 MB    | 1          |   1% \n",
      "vs2015_runtime-14.16 | 1.1 MB    | ###4       |  35% \n",
      "vs2015_runtime-14.16 | 1.1 MB    | ######6    |  66% \n",
      "vs2015_runtime-14.16 | 1.1 MB    | #########9 | 100% \n",
      "vs2015_runtime-14.16 | 1.1 MB    | ########## | 100% \n",
      "\n",
      "mkl_random-1.1.0     | 232 KB    |            |   0% \n",
      "mkl_random-1.1.0     | 232 KB    | 6          |   7% \n",
      "mkl_random-1.1.0     | 232 KB    | #3         |  14% \n",
      "mkl_random-1.1.0     | 232 KB    | ##         |  21% \n",
      "mkl_random-1.1.0     | 232 KB    | ##7        |  28% \n",
      "mkl_random-1.1.0     | 232 KB    | ###4       |  34% \n",
      "mkl_random-1.1.0     | 232 KB    | ####8      |  48% \n",
      "mkl_random-1.1.0     | 232 KB    | ######2    |  62% \n",
      "mkl_random-1.1.0     | 232 KB    | ########2  |  83% \n",
      "mkl_random-1.1.0     | 232 KB    | ########## | 100% \n",
      "\n",
      "asn1crypto-1.2.0     | 162 KB    |            |   0% \n",
      "asn1crypto-1.2.0     | 162 KB    | 9          |  10% \n",
      "asn1crypto-1.2.0     | 162 KB    | ###9       |  39% \n",
      "asn1crypto-1.2.0     | 162 KB    | #######8   |  79% \n",
      "asn1crypto-1.2.0     | 162 KB    | ########## | 100% \n",
      "\n",
      "soupsieve-1.9.3      | 60 KB     |            |   0% \n",
      "soupsieve-1.9.3      | 60 KB     | ##6        |  27% \n",
      "soupsieve-1.9.3      | 60 KB     | ########## | 100% \n",
      "\n",
      "pyrsistent-0.15.4    | 95 KB     |            |   0% \n",
      "pyrsistent-0.15.4    | 95 KB     | #6         |  17% \n",
      "pyrsistent-0.15.4    | 95 KB     | ########## | 100% \n",
      "\n",
      "snowballstemmer-2.0. | 58 KB     |            |   0% \n",
      "snowballstemmer-2.0. | 58 KB     | ##7        |  28% \n",
      "snowballstemmer-2.0. | 58 KB     | ########## | 100% \n",
      "\n",
      "dask-core-2.6.0      | 578 KB    |            |   0% \n",
      "dask-core-2.6.0      | 578 KB    | 2          |   3% \n",
      "dask-core-2.6.0      | 578 KB    | #9         |  19% \n",
      "dask-core-2.6.0      | 578 KB    | ###8       |  39% \n",
      "dask-core-2.6.0      | 578 KB    | ######9    |  69% \n",
      "dask-core-2.6.0      | 578 KB    | ########## | 100% \n",
      "\n",
      "ipython-7.9.0        | 1.1 MB    |            |   0% \n",
      "ipython-7.9.0        | 1.1 MB    | 1          |   1% \n",
      "ipython-7.9.0        | 1.1 MB    | #          |  11% \n",
      "ipython-7.9.0        | 1.1 MB    | ##8        |  29% \n",
      "ipython-7.9.0        | 1.1 MB    | #####2     |  52% \n",
      "ipython-7.9.0        | 1.1 MB    | #######5   |  76% \n",
      "ipython-7.9.0        | 1.1 MB    | ########## | 100% \n",
      "\n",
      "setuptools-41.6.0    | 687 KB    |            |   0% \n",
      "setuptools-41.6.0    | 687 KB    | 2          |   2% \n",
      "setuptools-41.6.0    | 687 KB    | #####8     |  58% \n",
      "setuptools-41.6.0    | 687 KB    | ########## | 100% \n",
      "\n",
      "dask-2.6.0           | 12 KB     |            |   0% \n",
      "dask-2.6.0           | 12 KB     | ########## | 100% \n",
      "\n",
      "conda-4.7.12         | 3.0 MB    |            |   0% \n",
      "conda-4.7.12         | 3.0 MB    | 3          |   4% \n",
      "conda-4.7.12         | 3.0 MB    | #1         |  11% \n",
      "conda-4.7.12         | 3.0 MB    | ##1        |  22% \n",
      "conda-4.7.12         | 3.0 MB    | ##9        |  30% \n",
      "conda-4.7.12         | 3.0 MB    | ###9       |  39% \n",
      "conda-4.7.12         | 3.0 MB    | #####      |  51% \n",
      "conda-4.7.12         | 3.0 MB    | ######2    |  62% \n",
      "conda-4.7.12         | 3.0 MB    | #######5   |  76% \n",
      "conda-4.7.12         | 3.0 MB    | ########6  |  86% \n",
      "conda-4.7.12         | 3.0 MB    | ########## | 100% \n",
      "\n",
      "pillow-6.2.0         | 703 KB    |            |   0% \n",
      "pillow-6.2.0         | 703 KB    | 2          |   2% \n",
      "pillow-6.2.0         | 703 KB    | ########## | 100% \n",
      "\n",
      "heapdict-1.0.1       | 9 KB      |            |   0% \n",
      "heapdict-1.0.1       | 9 KB      | ########## | 100% \n",
      "\n",
      "importlib_metadata-0 | 44 KB     |            |   0% \n",
      "importlib_metadata-0 | 44 KB     | ###6       |  37% \n",
      "importlib_metadata-0 | 44 KB     | ########## | 100% \n",
      "\n",
      "scikit-learn-0.21.3  | 4.4 MB    |            |   0% \n",
      "scikit-learn-0.21.3  | 4.4 MB    |            |   0% \n",
      "scikit-learn-0.21.3  | 4.4 MB    | 8          |   9% \n",
      "scikit-learn-0.21.3  | 4.4 MB    | #5         |  15% \n",
      "scikit-learn-0.21.3  | 4.4 MB    | ##3        |  24% \n",
      "scikit-learn-0.21.3  | 4.4 MB    | ###1       |  31% \n",
      "scikit-learn-0.21.3  | 4.4 MB    | ###8       |  38% \n",
      "scikit-learn-0.21.3  | 4.4 MB    | ####5      |  46% \n",
      "scikit-learn-0.21.3  | 4.4 MB    | #####3     |  54% \n",
      "scikit-learn-0.21.3  | 4.4 MB    | ######     |  61% \n",
      "scikit-learn-0.21.3  | 4.4 MB    | #######    |  71% \n",
      "scikit-learn-0.21.3  | 4.4 MB    | #######8   |  79% \n",
      "scikit-learn-0.21.3  | 4.4 MB    | ########8  |  88% \n",
      "scikit-learn-0.21.3  | 4.4 MB    | #########7 |  97% \n",
      "scikit-learn-0.21.3  | 4.4 MB    | ########## | 100% \n",
      "\n",
      "nbconvert-5.6.0      | 509 KB    |            |   0% \n",
      "nbconvert-5.6.0      | 509 KB    | 3          |   3% \n",
      "nbconvert-5.6.0      | 509 KB    | #######8   |  79% \n",
      "nbconvert-5.6.0      | 509 KB    | ########## | 100% \n",
      "\n",
      "lazy-object-proxy-1. | 30 KB     |            |   0% \n",
      "lazy-object-proxy-1. | 30 KB     | ########## | 100% \n",
      "\n",
      "pytest-5.2.2         | 386 KB    |            |   0% \n",
      "pytest-5.2.2         | 386 KB    | 4          |   4% \n",
      "pytest-5.2.2         | 386 KB    | ########## | 100% \n",
      "\n",
      "more-itertools-7.2.0 | 101 KB    |            |   0% \n",
      "more-itertools-7.2.0 | 101 KB    | #5         |  16% \n",
      "more-itertools-7.2.0 | 101 KB    | ########## | 100% \n",
      "\n",
      "pathlib2-2.3.5       | 37 KB     |            |   0% \n",
      "pathlib2-2.3.5       | 37 KB     | ########## | 100% \n",
      "\n",
      "json5-0.8.5          | 25 KB     |            |   0% \n",
      "json5-0.8.5          | 25 KB     | ########## | 100% \n",
      "\n",
      "libcurl-7.65.3       | 268 KB    |            |   0% \n",
      "libcurl-7.65.3       | 268 KB    | 5          |   6% \n",
      "libcurl-7.65.3       | 268 KB    | ########## | 100% \n",
      "\n",
      "networkx-2.4         | 1.2 MB    |            |   0% \n",
      "networkx-2.4         | 1.2 MB    | 1          |   1% \n",
      "networkx-2.4         | 1.2 MB    | ###3       |  33% \n",
      "networkx-2.4         | 1.2 MB    | ######4    |  64% \n",
      "networkx-2.4         | 1.2 MB    | #########6 |  96% \n",
      "networkx-2.4         | 1.2 MB    | ########## | 100% \n",
      "\n",
      "pyparsing-2.4.2      | 61 KB     |            |   0% \n",
      "pyparsing-2.4.2      | 61 KB     | ##6        |  26% \n",
      "pyparsing-2.4.2      | 61 KB     | ########## | 100% \n",
      "\n",
      "pyyaml-5.1.2         | 152 KB    |            |   0% \n",
      "pyyaml-5.1.2         | 152 KB    | #          |  11% \n",
      "pyyaml-5.1.2         | 152 KB    | ########## | 100% \n",
      "\n",
      "packaging-19.2       | 30 KB     |            |   0% \n",
      "packaging-19.2       | 30 KB     | ########## | 100% \n",
      "\n",
      "jupyterlab-1.1.4     | 4.4 MB    |            |   0% \n",
      "jupyterlab-1.1.4     | 4.4 MB    |            |   0% \n",
      "jupyterlab-1.1.4     | 4.4 MB    | #          |  10% \n",
      "jupyterlab-1.1.4     | 4.4 MB    | #9         |  19% \n",
      "jupyterlab-1.1.4     | 4.4 MB    | ##8        |  29% \n",
      "jupyterlab-1.1.4     | 4.4 MB    | ###7       |  37% \n",
      "jupyterlab-1.1.4     | 4.4 MB    | ####9      |  49% \n",
      "jupyterlab-1.1.4     | 4.4 MB    | #####9     |  60% \n",
      "jupyterlab-1.1.4     | 4.4 MB    | ######8    |  69% \n",
      "jupyterlab-1.1.4     | 4.4 MB    | #######6   |  77% \n",
      "jupyterlab-1.1.4     | 4.4 MB    | ########6  |  87% \n",
      "jupyterlab-1.1.4     | 4.4 MB    | #########7 |  97% \n",
      "jupyterlab-1.1.4     | 4.4 MB    | ########## | 100% \n",
      "\n",
      "ipykernel-5.1.3      | 168 KB    |            |   0% \n",
      "ipykernel-5.1.3      | 168 KB    | 9          |  10% \n",
      "ipykernel-5.1.3      | 168 KB    | ########## | 100% \n",
      "\n",
      "qtconsole-4.5.5      | 94 KB     |            |   0% \n",
      "qtconsole-4.5.5      | 94 KB     | ########4  |  85% \n",
      "qtconsole-4.5.5      | 94 KB     | ########## | 100% \n",
      "\n",
      "xlwings-0.16.0       | 824 KB    |            |   0% \n",
      "xlwings-0.16.0       | 824 KB    | 1          |   2% \n",
      "xlwings-0.16.0       | 824 KB    | ####       |  41% \n",
      "xlwings-0.16.0       | 824 KB    | ########## | 100% \n",
      "\n",
      "openssl-1.1.1d       | 5.7 MB    |            |   0% \n",
      "openssl-1.1.1d       | 5.7 MB    | 1          |   1% \n",
      "openssl-1.1.1d       | 5.7 MB    | 4          |   5% \n",
      "openssl-1.1.1d       | 5.7 MB    | 9          |   9% \n",
      "openssl-1.1.1d       | 5.7 MB    | #3         |  14% \n",
      "openssl-1.1.1d       | 5.7 MB    | #6         |  17% \n",
      "openssl-1.1.1d       | 5.7 MB    | ##         |  21% \n",
      "openssl-1.1.1d       | 5.7 MB    | ##5        |  26% \n",
      "openssl-1.1.1d       | 5.7 MB    | ###        |  31% \n",
      "openssl-1.1.1d       | 5.7 MB    | ###5       |  36% \n",
      "openssl-1.1.1d       | 5.7 MB    | ####       |  41% \n",
      "openssl-1.1.1d       | 5.7 MB    | ####6      |  47% \n",
      "openssl-1.1.1d       | 5.7 MB    | #####4     |  55% \n",
      "openssl-1.1.1d       | 5.7 MB    | ######     |  61% \n",
      "openssl-1.1.1d       | 5.7 MB    | ######7    |  68% \n",
      "openssl-1.1.1d       | 5.7 MB    | #######5   |  75% \n",
      "openssl-1.1.1d       | 5.7 MB    | ########2  |  82% \n",
      "openssl-1.1.1d       | 5.7 MB    | ########8  |  88% \n",
      "openssl-1.1.1d       | 5.7 MB    | #########4 |  94% \n",
      "openssl-1.1.1d       | 5.7 MB    | ########## | 100% \n",
      "\n",
      "decorator-4.4.1      | 13 KB     |            |   0% \n",
      "decorator-4.4.1      | 13 KB     | ########## | 100% \n",
      "\n",
      "jupyterlab_server-1. | 26 KB     |            |   0% \n",
      "jupyterlab_server-1. | 26 KB     | ######2    |  62% \n",
      "jupyterlab_server-1. | 26 KB     | ########## | 100% \n",
      "\n",
      "sqlalchemy-1.3.10    | 1.8 MB    |            |   0% \n",
      "sqlalchemy-1.3.10    | 1.8 MB    |            |   1% \n",
      "sqlalchemy-1.3.10    | 1.8 MB    | #8         |  19% \n",
      "sqlalchemy-1.3.10    | 1.8 MB    | ###1       |  32% \n",
      "sqlalchemy-1.3.10    | 1.8 MB    | ####6      |  46% \n",
      "sqlalchemy-1.3.10    | 1.8 MB    | ######1    |  62% \n",
      "sqlalchemy-1.3.10    | 1.8 MB    | ########   |  81% \n",
      "sqlalchemy-1.3.10    | 1.8 MB    | #########4 |  95% \n",
      "sqlalchemy-1.3.10    | 1.8 MB    | ########## | 100% \n",
      "\n",
      "numpy-base-1.17.2    | 4.9 MB    |            |   0% \n",
      "numpy-base-1.17.2    | 4.9 MB    | 3          |   3% \n",
      "numpy-base-1.17.2    | 4.9 MB    | 9          |   9% \n",
      "numpy-base-1.17.2    | 4.9 MB    | #4         |  15% \n",
      "numpy-base-1.17.2    | 4.9 MB    | ##         |  20% \n",
      "numpy-base-1.17.2    | 4.9 MB    | ##4        |  24% \n",
      "numpy-base-1.17.2    | 4.9 MB    | ###1       |  31% \n",
      "numpy-base-1.17.2    | 4.9 MB    | ###5       |  36% \n",
      "numpy-base-1.17.2    | 4.9 MB    | ####1      |  41% \n",
      "numpy-base-1.17.2    | 4.9 MB    | ####7      |  48% \n",
      "numpy-base-1.17.2    | 4.9 MB    | #####3     |  53% \n",
      "numpy-base-1.17.2    | 4.9 MB    | ######     |  61% \n",
      "numpy-base-1.17.2    | 4.9 MB    | ######7    |  68% \n",
      "numpy-base-1.17.2    | 4.9 MB    | #######3   |  74% \n",
      "numpy-base-1.17.2    | 4.9 MB    | #########5 |  96% \n",
      "numpy-base-1.17.2    | 4.9 MB    | ########## | 100% \n",
      "\n",
      "pytz-2019.3          | 231 KB    |            |   0% \n",
      "pytz-2019.3          | 231 KB    | 6          |   7% \n",
      "pytz-2019.3          | 231 KB    | ########## | 100% \n",
      "\n",
      "contextlib2-0.6.0    | 16 KB     |            |   0% \n",
      "contextlib2-0.6.0    | 16 KB     | #########9 |  99% \n",
      "contextlib2-0.6.0    | 16 KB     | ########## | 100% \n",
      "\n",
      "parso-0.5.1          | 68 KB     |            |   0% \n",
      "parso-0.5.1          | 68 KB     | ########## | 100% \n",
      "\n",
      "openpyxl-3.0.0       | 157 KB    |            |   0% \n",
      "openpyxl-3.0.0       | 157 KB    | #          |  10% \n",
      "openpyxl-3.0.0       | 157 KB    | ########## | 100% \n",
      "\n",
      "pandas-0.25.2        | 9.8 MB    |            |   0% \n",
      "pandas-0.25.2        | 9.8 MB    |            |   0% \n",
      "pandas-0.25.2        | 9.8 MB    | 3          |   4% \n",
      "pandas-0.25.2        | 9.8 MB    | 7          |   7% \n",
      "pandas-0.25.2        | 9.8 MB    | #          |  10% \n",
      "pandas-0.25.2        | 9.8 MB    | #8         |  18% \n",
      "pandas-0.25.2        | 9.8 MB    | ##4        |  25% \n",
      "pandas-0.25.2        | 9.8 MB    | ###        |  31% \n",
      "pandas-0.25.2        | 9.8 MB    | ###6       |  37% \n",
      "pandas-0.25.2        | 9.8 MB    | ####2      |  43% \n",
      "pandas-0.25.2        | 9.8 MB    | ####7      |  48% \n",
      "pandas-0.25.2        | 9.8 MB    | #####9     |  59% \n",
      "pandas-0.25.2        | 9.8 MB    | ######5    |  65% \n",
      "pandas-0.25.2        | 9.8 MB    | #######    |  71% \n",
      "pandas-0.25.2        | 9.8 MB    | #######5   |  76% \n",
      "pandas-0.25.2        | 9.8 MB    | ########   |  81% \n",
      "pandas-0.25.2        | 9.8 MB    | ########5  |  85% \n",
      "pandas-0.25.2        | 9.8 MB    | ########9  |  90% \n",
      "pandas-0.25.2        | 9.8 MB    | #########4 |  94% \n",
      "pandas-0.25.2        | 9.8 MB    | #########8 |  99% \n",
      "pandas-0.25.2        | 9.8 MB    | ########## | 100% \n",
      "\n",
      "numexpr-2.7.0        | 124 KB    |            |   0% \n",
      "numexpr-2.7.0        | 124 KB    | #2         |  13% \n",
      "numexpr-2.7.0        | 124 KB    | ########## | 100% \n",
      "\n",
      "matplotlib-3.1.1     | 4.9 MB    |            |   0% \n",
      "matplotlib-3.1.1     | 4.9 MB    |            |   0% \n",
      "matplotlib-3.1.1     | 4.9 MB    | 5          |   6% \n",
      "matplotlib-3.1.1     | 4.9 MB    | #2         |  12% \n",
      "matplotlib-3.1.1     | 4.9 MB    | #8         |  19% \n",
      "matplotlib-3.1.1     | 4.9 MB    | ##6        |  27% \n",
      "matplotlib-3.1.1     | 4.9 MB    | ###1       |  32% \n",
      "matplotlib-3.1.1     | 4.9 MB    | ####       |  40% \n",
      "matplotlib-3.1.1     | 4.9 MB    | ####8      |  48% \n",
      "matplotlib-3.1.1     | 4.9 MB    | #####5     |  55% \n",
      "matplotlib-3.1.1     | 4.9 MB    | ######1    |  61% \n",
      "matplotlib-3.1.1     | 4.9 MB    | ######7    |  68% \n",
      "matplotlib-3.1.1     | 4.9 MB    | #######8   |  78% \n",
      "matplotlib-3.1.1     | 4.9 MB    | ########7  |  87% \n",
      "matplotlib-3.1.1     | 4.9 MB    | #########4 |  94% \n",
      "matplotlib-3.1.1     | 4.9 MB    | ########## | 100% \n",
      "\n",
      "pytest-doctestplus-0 | 18 KB     |            |   0% \n",
      "pytest-doctestplus-0 | 18 KB     | ########9  |  89% \n",
      "pytest-doctestplus-0 | 18 KB     | ########## | 100% \n",
      "\n",
      "widgetsnbextension-3 | 868 KB    |            |   0% \n",
      "widgetsnbextension-3 | 868 KB    | 1          |   2% \n",
      "widgetsnbextension-3 | 868 KB    | #####1     |  52% \n",
      "widgetsnbextension-3 | 868 KB    | #########  |  90% \n",
      "widgetsnbextension-3 | 868 KB    | ########## | 100% \n",
      "\n",
      "traitlets-4.3.3      | 138 KB    |            |   0% \n",
      "traitlets-4.3.3      | 138 KB    | #########2 |  93% \n",
      "traitlets-4.3.3      | 138 KB    | ########## | 100% \n",
      "\n",
      "statsmodels-0.10.1   | 7.1 MB    |            |   0% \n",
      "statsmodels-0.10.1   | 7.1 MB    |            |   0% \n",
      "statsmodels-0.10.1   | 7.1 MB    | 6          |   6% \n",
      "statsmodels-0.10.1   | 7.1 MB    | #          |  10% \n",
      "statsmodels-0.10.1   | 7.1 MB    | #8         |  18% \n",
      "statsmodels-0.10.1   | 7.1 MB    | ##2        |  23% \n",
      "statsmodels-0.10.1   | 7.1 MB    | ##6        |  27% \n",
      "statsmodels-0.10.1   | 7.1 MB    | ###4       |  34% \n",
      "statsmodels-0.10.1   | 7.1 MB    | ###9       |  40% \n",
      "statsmodels-0.10.1   | 7.1 MB    | ####4      |  44% \n",
      "statsmodels-0.10.1   | 7.1 MB    | #####      |  50% \n",
      "statsmodels-0.10.1   | 7.1 MB    | #####5     |  55% \n",
      "statsmodels-0.10.1   | 7.1 MB    | ######3    |  64% \n",
      "statsmodels-0.10.1   | 7.1 MB    | ######9    |  69% \n",
      "statsmodels-0.10.1   | 7.1 MB    | #######4   |  75% \n",
      "statsmodels-0.10.1   | 7.1 MB    | ########1  |  81% \n",
      "statsmodels-0.10.1   | 7.1 MB    | ########6  |  86% \n",
      "statsmodels-0.10.1   | 7.1 MB    | #########1 |  91% \n",
      "statsmodels-0.10.1   | 7.1 MB    | #########8 |  98% \n",
      "statsmodels-0.10.1   | 7.1 MB    | ########## | 100% \n",
      "\n",
      "conda-package-handli | 611 KB    |            |   0% \n",
      "conda-package-handli | 611 KB    | #8         |  18% \n",
      "conda-package-handli | 611 KB    | ####9      |  50% \n",
      "conda-package-handli | 611 KB    | #########6 |  97% \n",
      "conda-package-handli | 611 KB    | ########## | 100% \n",
      "\n",
      "mkl-service-2.3.0    | 210 KB    |            |   0% \n",
      "mkl-service-2.3.0    | 210 KB    | 7          |   8% \n",
      "mkl-service-2.3.0    | 210 KB    | ########## | 100% \n",
      "\n",
      "bokeh-1.4.0          | 17.1 MB   |            |   0% \n",
      "bokeh-1.4.0          | 17.1 MB   |            |   0% \n",
      "bokeh-1.4.0          | 17.1 MB   | 1          |   2% \n",
      "bokeh-1.4.0          | 17.1 MB   | 3          |   4% \n",
      "bokeh-1.4.0          | 17.1 MB   | 5          |   6% \n",
      "bokeh-1.4.0          | 17.1 MB   | 8          |   9% \n",
      "bokeh-1.4.0          | 17.1 MB   | #          |  11% \n",
      "bokeh-1.4.0          | 17.1 MB   | #4         |  14% \n",
      "bokeh-1.4.0          | 17.1 MB   | #7         |  17% \n",
      "bokeh-1.4.0          | 17.1 MB   | ##         |  21% \n",
      "bokeh-1.4.0          | 17.1 MB   | ##3        |  24% \n",
      "bokeh-1.4.0          | 17.1 MB   | ##7        |  27% \n",
      "bokeh-1.4.0          | 17.1 MB   | ###2       |  32% \n",
      "bokeh-1.4.0          | 17.1 MB   | ###5       |  35% \n",
      "bokeh-1.4.0          | 17.1 MB   | ###8       |  39% \n",
      "bokeh-1.4.0          | 17.1 MB   | ####2      |  43% \n",
      "bokeh-1.4.0          | 17.1 MB   | ####7      |  47% \n",
      "bokeh-1.4.0          | 17.1 MB   | #####      |  51% \n",
      "bokeh-1.4.0          | 17.1 MB   | #####4     |  55% \n",
      "bokeh-1.4.0          | 17.1 MB   | #####8     |  58% \n",
      "bokeh-1.4.0          | 17.1 MB   | ######1    |  61% \n",
      "bokeh-1.4.0          | 17.1 MB   | ######5    |  65% \n",
      "bokeh-1.4.0          | 17.1 MB   | ######8    |  69% \n",
      "bokeh-1.4.0          | 17.1 MB   | #######2   |  72% \n",
      "bokeh-1.4.0          | 17.1 MB   | #######5   |  76% \n",
      "bokeh-1.4.0          | 17.1 MB   | #######8   |  79% \n",
      "bokeh-1.4.0          | 17.1 MB   | ########3  |  83% \n",
      "bokeh-1.4.0          | 17.1 MB   | ########6  |  87% \n",
      "bokeh-1.4.0          | 17.1 MB   | #########  |  90% \n",
      "bokeh-1.4.0          | 17.1 MB   | #########3 |  94% \n",
      "bokeh-1.4.0          | 17.1 MB   | #########7 |  98% \n",
      "bokeh-1.4.0          | 17.1 MB   | ########## | 100% \n",
      "\n",
      "certifi-2019.9.11    | 155 KB    |            |   0% \n",
      "certifi-2019.9.11    | 155 KB    | #          |  10% \n",
      "certifi-2019.9.11    | 155 KB    | ########## | 100% \n",
      "\n",
      "pip-19.3.1           | 1.9 MB    |            |   0% \n",
      "pip-19.3.1           | 1.9 MB    |            |   1% \n",
      "pip-19.3.1           | 1.9 MB    | ###        |  31% \n",
      "pip-19.3.1           | 1.9 MB    | ######1    |  62% \n",
      "pip-19.3.1           | 1.9 MB    | #########8 |  99% \n",
      "pip-19.3.1           | 1.9 MB    | ########## | 100% \n",
      "\n",
      "cffi-1.13.1          | 227 KB    |            |   0% \n",
      "cffi-1.13.1          | 227 KB    | 7          |   7% \n",
      "cffi-1.13.1          | 227 KB    | ########## | 100% \n",
      "\n",
      "jupyter_core-4.6.0   | 97 KB     |            |   0% \n",
      "jupyter_core-4.6.0   | 97 KB     | #6         |  17% \n",
      "jupyter_core-4.6.0   | 97 KB     | ########## | 100% \n",
      "\n",
      "cryptography-2.8     | 570 KB    |            |   0% \n",
      "cryptography-2.8     | 570 KB    | ##5        |  25% \n",
      "cryptography-2.8     | 570 KB    | ########## | 100% \n",
      "\n",
      "python-libarchive-c- | 24 KB     |            |   0% \n",
      "python-libarchive-c- | 24 KB     | ######5    |  66% \n",
      "python-libarchive-c- | 24 KB     | ########## | 100% \n",
      "\n",
      "cython-0.29.13       | 1.8 MB    |            |   0% \n",
      "cython-0.29.13       | 1.8 MB    | 5          |   5% \n",
      "cython-0.29.13       | 1.8 MB    | ##2        |  23% \n",
      "cython-0.29.13       | 1.8 MB    | ###9       |  40% \n",
      "cython-0.29.13       | 1.8 MB    | #####8     |  59% \n",
      "cython-0.29.13       | 1.8 MB    | #######9   |  79% \n",
      "cython-0.29.13       | 1.8 MB    | #########3 |  93% \n",
      "cython-0.29.13       | 1.8 MB    | ########## | 100% \n",
      "\n",
      "jedi-0.15.1          | 704 KB    |            |   0% \n",
      "jedi-0.15.1          | 704 KB    | 2          |   2% \n",
      "jedi-0.15.1          | 704 KB    | #####4     |  55% \n",
      "jedi-0.15.1          | 704 KB    | #########3 |  93% \n",
      "jedi-0.15.1          | 704 KB    | ########## | 100% \n",
      "\n",
      "anaconda-project-0.8 | 215 KB    |            |   0% \n",
      "anaconda-project-0.8 | 215 KB    | 7          |   7% \n",
      "anaconda-project-0.8 | 215 KB    | ########## | 100% \n",
      "\n",
      "_anaconda_depends-20 | 6 KB      |            |   0% \n",
      "_anaconda_depends-20 | 6 KB      | ########## | 100% \n",
      "\n",
      "werkzeug-0.16.0      | 255 KB    |            |   0% \n",
      "werkzeug-0.16.0      | 255 KB    | 6          |   6% \n",
      "werkzeug-0.16.0      | 255 KB    | ########## | 100% \n",
      "\n",
      "astropy-3.2.3        | 6.9 MB    |            |   0% \n",
      "astropy-3.2.3        | 6.9 MB    | 2          |   2% \n",
      "astropy-3.2.3        | 6.9 MB    | 7          |   7% \n",
      "astropy-3.2.3        | 6.9 MB    | #4         |  15% \n",
      "astropy-3.2.3        | 6.9 MB    | ##2        |  22% \n",
      "astropy-3.2.3        | 6.9 MB    | ###2       |  32% \n",
      "astropy-3.2.3        | 6.9 MB    | ###8       |  38% \n",
      "astropy-3.2.3        | 6.9 MB    | ####7      |  47% \n",
      "astropy-3.2.3        | 6.9 MB    | #####5     |  55% \n",
      "astropy-3.2.3        | 6.9 MB    | ######3    |  64% \n",
      "astropy-3.2.3        | 6.9 MB    | #######1   |  72% \n",
      "astropy-3.2.3        | 6.9 MB    | #######9   |  80% \n",
      "astropy-3.2.3        | 6.9 MB    | ########9  |  90% \n",
      "astropy-3.2.3        | 6.9 MB    | #########8 |  98% \n",
      "astropy-3.2.3        | 6.9 MB    | ########## | 100% \n",
      "\n",
      "distributed-2.6.0    | 393 KB    |            |   0% \n",
      "distributed-2.6.0    | 393 KB    | 4          |   4% \n",
      "distributed-2.6.0    | 393 KB    | ########## | 100% \n",
      "\n",
      "xlsxwriter-1.2.2     | 106 KB    |            |   0% \n",
      "xlsxwriter-1.2.2     | 106 KB    | #5         |  15% \n",
      "xlsxwriter-1.2.2     | 106 KB    | ########## | 100% \n",
      "\n",
      "pytest-openfiles-0.4 | 10 KB     |            |   0% \n",
      "pytest-openfiles-0.4 | 10 KB     | ########## | 100% \n",
      "\n",
      "anaconda-custom      | 3 KB      |            |   0% \n",
      "anaconda-custom      | 3 KB      | ########## | 100% \n",
      "\n",
      "tbb-2019.4           | 156 KB    |            |   0% \n",
      "tbb-2019.4           | 156 KB    | #          |  10% \n",
      "tbb-2019.4           | 156 KB    | ########## | 100% \n",
      "\n",
      "fsspec-0.5.2         | 46 KB     |            |   0% \n",
      "fsspec-0.5.2         | 46 KB     | ########## | 100% \n",
      "\n",
      "numpy-1.17.2         | 5 KB      |            |   0% \n",
      "numpy-1.17.2         | 5 KB      | ########## | 100% \n",
      "\n",
      "pywavelets-1.1.1     | 4.3 MB    |            |   0% \n",
      "pywavelets-1.1.1     | 4.3 MB    | 2          |   2% \n",
      "pywavelets-1.1.1     | 4.3 MB    | 7          |   7% \n",
      "pywavelets-1.1.1     | 4.3 MB    | ##1        |  21% \n",
      "pywavelets-1.1.1     | 4.3 MB    | ###4       |  35% \n",
      "pywavelets-1.1.1     | 4.3 MB    | ####6      |  47% \n",
      "pywavelets-1.1.1     | 4.3 MB    | ######2    |  63% \n",
      "pywavelets-1.1.1     | 4.3 MB    | #######3   |  74% \n",
      "pywavelets-1.1.1     | 4.3 MB    | ########7  |  88% \n",
      "pywavelets-1.1.1     | 4.3 MB    | ########## | 100% \n",
      "\n",
      "nltk-3.4.5           | 1.7 MB    |            |   0% \n",
      "nltk-3.4.5           | 1.7 MB    |            |   1% \n",
      "nltk-3.4.5           | 1.7 MB    | ##4        |  24% \n",
      "nltk-3.4.5           | 1.7 MB    | #####9     |  60% \n",
      "nltk-3.4.5           | 1.7 MB    | #########  |  91% \n",
      "nltk-3.4.5           | 1.7 MB    | ########## | 100% \n",
      "\n",
      "sphinx-2.2.1         | 1.4 MB    |            |   0% \n",
      "sphinx-2.2.1         | 1.4 MB    | 1          |   1% \n",
      "sphinx-2.2.1         | 1.4 MB    | ##1        |  22% \n",
      "sphinx-2.2.1         | 1.4 MB    | #####4     |  54% \n",
      "sphinx-2.2.1         | 1.4 MB    | #########6 |  96% \n",
      "sphinx-2.2.1         | 1.4 MB    | ########## | 100% \n",
      "\n",
      "zipp-0.6.0           | 9 KB      |            |   0% \n",
      "zipp-0.6.0           | 9 KB      | ########## | 100% \n",
      "\n",
      "ipywidgets-7.5.1     | 107 KB    |            |   0% \n",
      "ipywidgets-7.5.1     | 107 KB    | ########## | 100% \n",
      "\n",
      "notebook-6.0.1       | 7.4 MB    |            |   0% \n",
      "notebook-6.0.1       | 7.4 MB    |            |   0% \n",
      "notebook-6.0.1       | 7.4 MB    | 6          |   6% \n",
      "notebook-6.0.1       | 7.4 MB    | #5         |  15% \n",
      "notebook-6.0.1       | 7.4 MB    | ##2        |  23% \n",
      "notebook-6.0.1       | 7.4 MB    | ###1       |  31% \n",
      "notebook-6.0.1       | 7.4 MB    | ###9       |  40% \n",
      "notebook-6.0.1       | 7.4 MB    | ####8      |  48% \n",
      "notebook-6.0.1       | 7.4 MB    | #####7     |  58% \n",
      "notebook-6.0.1       | 7.4 MB    | ######5    |  65% \n",
      "notebook-6.0.1       | 7.4 MB    | #######3   |  74% \n",
      "notebook-6.0.1       | 7.4 MB    | ########1  |  81% \n",
      "notebook-6.0.1       | 7.4 MB    | ########8  |  88% \n",
      "notebook-6.0.1       | 7.4 MB    | #########5 |  96% \n",
      "notebook-6.0.1       | 7.4 MB    | ########## | 100% \n",
      "\n",
      "pysocks-1.7.1        | 30 KB     |            |   0% \n",
      "pysocks-1.7.1        | 30 KB     | #####2     |  52% \n",
      "pysocks-1.7.1        | 30 KB     | ########## | 100% \n",
      "\n",
      "qtawesome-0.6.0      | 671 KB    |            |   0% \n",
      "qtawesome-0.6.0      | 671 KB    | ##1        |  21% \n",
      "qtawesome-0.6.0      | 671 KB    | ########3  |  83% \n",
      "qtawesome-0.6.0      | 671 KB    | ########## | 100% \n",
      "\n",
      "sqlite-3.30.1        | 962 KB    |            |   0% \n",
      "sqlite-3.30.1        | 962 KB    | #8         |  18% \n",
      "sqlite-3.30.1        | 962 KB    | #####3     |  53% \n",
      "sqlite-3.30.1        | 962 KB    | #########1 |  92% \n",
      "sqlite-3.30.1        | 962 KB    | ########## | 100% \n",
      "\n",
      "pylint-2.4.3         | 469 KB    |            |   0% \n",
      "pylint-2.4.3         | 469 KB    | 3          |   3% \n",
      "pylint-2.4.3         | 469 KB    | ########5  |  85% \n",
      "pylint-2.4.3         | 469 KB    | ########## | 100% \n",
      "\n",
      "bitarray-1.0.1       | 60 KB     |            |   0% \n",
      "bitarray-1.0.1       | 60 KB     | ##6        |  27% \n",
      "bitarray-1.0.1       | 60 KB     | ########## | 100% \n",
      "\n",
      "chardet-3.0.4        | 193 KB    |            |   0% \n",
      "chardet-3.0.4        | 193 KB    | 8          |   8% \n",
      "chardet-3.0.4        | 193 KB    | ########## | 100% \n",
      "\n",
      "beautifulsoup4-4.8.1 | 153 KB    |            |   0% \n",
      "beautifulsoup4-4.8.1 | 153 KB    | ########## | 100% \n",
      "\n",
      "imageio-2.6.1        | 3.4 MB    |            |   0% \n",
      "imageio-2.6.1        | 3.4 MB    |            |   0% \n",
      "imageio-2.6.1        | 3.4 MB    | #1         |  12% \n",
      "imageio-2.6.1        | 3.4 MB    | ##2        |  22% \n",
      "imageio-2.6.1        | 3.4 MB    | ###1       |  32% \n",
      "imageio-2.6.1        | 3.4 MB    | ####1      |  42% \n",
      "imageio-2.6.1        | 3.4 MB    | #####3     |  53% \n",
      "imageio-2.6.1        | 3.4 MB    | ######2    |  62% \n",
      "imageio-2.6.1        | 3.4 MB    | #######5   |  75% \n",
      "imageio-2.6.1        | 3.4 MB    | ########7  |  88% \n",
      "imageio-2.6.1        | 3.4 MB    | #########8 |  98% \n",
      "imageio-2.6.1        | 3.4 MB    | ########## | 100% \n",
      "\n",
      "scipy-1.3.1          | 11.2 MB   |            |   0% \n",
      "scipy-1.3.1          | 11.2 MB   |            |   1% \n",
      "scipy-1.3.1          | 11.2 MB   | 3          |   4% \n",
      "scipy-1.3.1          | 11.2 MB   | 6          |   6% \n",
      "scipy-1.3.1          | 11.2 MB   | 9          |  10% \n",
      "scipy-1.3.1          | 11.2 MB   | #2         |  13% \n",
      "scipy-1.3.1          | 11.2 MB   | #6         |  16% \n",
      "scipy-1.3.1          | 11.2 MB   | #9         |  19% \n",
      "scipy-1.3.1          | 11.2 MB   | ##2        |  23% \n",
      "scipy-1.3.1          | 11.2 MB   | ##6        |  26% \n",
      "scipy-1.3.1          | 11.2 MB   | ##9        |  30% \n",
      "scipy-1.3.1          | 11.2 MB   | ###3       |  34% \n",
      "scipy-1.3.1          | 11.2 MB   | ###7       |  38% \n",
      "scipy-1.3.1          | 11.2 MB   | ####1      |  42% \n",
      "scipy-1.3.1          | 11.2 MB   | ####5      |  46% \n",
      "scipy-1.3.1          | 11.2 MB   | #####      |  51% \n",
      "scipy-1.3.1          | 11.2 MB   | #####4     |  54% \n",
      "scipy-1.3.1          | 11.2 MB   | #####7     |  58% \n",
      "scipy-1.3.1          | 11.2 MB   | ######3    |  63% \n",
      "scipy-1.3.1          | 11.2 MB   | ######8    |  68% \n",
      "scipy-1.3.1          | 11.2 MB   | #######2   |  73% \n",
      "scipy-1.3.1          | 11.2 MB   | #######7   |  78% \n",
      "scipy-1.3.1          | 11.2 MB   | ########2  |  83% \n",
      "scipy-1.3.1          | 11.2 MB   | ########7  |  87% \n",
      "scipy-1.3.1          | 11.2 MB   | #########2 |  92% \n",
      "scipy-1.3.1          | 11.2 MB   | #########7 |  98% \n",
      "scipy-1.3.1          | 11.2 MB   | ########## | 100% \n",
      "\n",
      "spyder-kernels-0.5.2 | 70 KB     |            |   0% \n",
      "spyder-kernels-0.5.2 | 70 KB     | ##2        |  23% \n",
      "spyder-kernels-0.5.2 | 70 KB     | ########## | 100% \n",
      "\n",
      "jinja2-2.10.3        | 95 KB     |            |   0% \n",
      "jinja2-2.10.3        | 95 KB     | #6         |  17% \n",
      "jinja2-2.10.3        | 95 KB     | ########## | 100% \n",
      "\n",
      "jsonschema-3.1.1     | 111 KB    |            |   0% \n",
      "jsonschema-3.1.1     | 111 KB    | #4         |  14% \n",
      "jsonschema-3.1.1     | 111 KB    | ########## | 100% \n",
      "\n",
      "qtpy-1.9.0           | 39 KB     |            |   0% \n",
      "qtpy-1.9.0           | 39 KB     | ########## | 100% \n",
      "\n",
      "attrs-19.3.0         | 39 KB     |            |   0% \n",
      "attrs-19.3.0         | 39 KB     | ####1      |  41% \n",
      "attrs-19.3.0         | 39 KB     | ########## | 100% \n",
      "\n",
      "curl-7.65.3          | 118 KB    |            |   0% \n",
      "curl-7.65.3          | 118 KB    | #3         |  14% \n",
      "curl-7.65.3          | 118 KB    | ########## | 100% \n",
      "\n",
      "docutils-0.15.2      | 671 KB    |            |   0% \n",
      "docutils-0.15.2      | 671 KB    | 2          |   2% \n",
      "docutils-0.15.2      | 671 KB    | ####       |  41% \n",
      "docutils-0.15.2      | 671 KB    | #########2 |  93% \n",
      "docutils-0.15.2      | 671 KB    | ########## | 100% \n",
      "Preparing transaction: ...working... done\n",
      "Verifying transaction: ...working... done\n",
      "Executing transaction: ...working... done\n",
      "\n",
      "Note: you may need to restart the kernel to use updated packages.\n"
     ]
    },
    {
     "name": "stderr",
     "output_type": "stream",
     "text": [
      "DEBUG menuinst_win32:__init__(199): Menu: name: 'Anaconda${PY_VER} ${PLATFORM}', prefix: 'C:\\Users\\hp\\Anaconda3', env_name: 'None', mode: 'user', used_mode: 'user'\n",
      "DEBUG menuinst_win32:create(323): Shortcut cmd is C:\\Users\\hp\\Anaconda3\\python.exe, args are ['C:\\\\Users\\\\hp\\\\Anaconda3\\\\cwp.py', 'C:\\\\Users\\\\hp\\\\Anaconda3', 'C:\\\\Users\\\\hp\\\\Anaconda3\\\\python.exe', 'C:\\\\Users\\\\hp\\\\Anaconda3\\\\Scripts\\\\jupyter-notebook-script.py', '\"%USERPROFILE%/\"']\n",
      "DEBUG menuinst_win32:__init__(199): Menu: name: 'Anaconda${PY_VER} ${PLATFORM}', prefix: 'C:\\Users\\hp\\Anaconda3', env_name: 'None', mode: 'user', used_mode: 'user'\n",
      "DEBUG menuinst_win32:create(323): Shortcut cmd is C:\\Users\\hp\\Anaconda3\\python.exe, args are ['C:\\\\Users\\\\hp\\\\Anaconda3\\\\cwp.py', 'C:\\\\Users\\\\hp\\\\Anaconda3', 'C:\\\\Users\\\\hp\\\\Anaconda3\\\\python.exe', 'C:\\\\Users\\\\hp\\\\Anaconda3\\\\Scripts\\\\jupyter-notebook-script.py', '\"%USERPROFILE%/\"']\n",
      "WARNING conda.gateways.disk.delete:unlink_or_rename_to_trash(140): Could not remove or rename C:\\Users\\hp\\Anaconda3\\Lib\\site-packages\\matplotlib\\mpl-data\\fonts\\ttf\\DejaVuSans.ttf.  Please remove this file manually (you may need to reboot to free file handles)\n",
      "DEBUG menuinst_win32:__init__(199): Menu: name: 'Anaconda${PY_VER} ${PLATFORM}', prefix: 'C:\\Users\\hp\\Anaconda3', env_name: 'None', mode: 'user', used_mode: 'user'\n",
      "DEBUG menuinst_win32:create(323): Shortcut cmd is C:\\Users\\hp\\Anaconda3\\python.exe, args are ['C:\\\\Users\\\\hp\\\\Anaconda3\\\\cwp.py', 'C:\\\\Users\\\\hp\\\\Anaconda3', 'C:\\\\Users\\\\hp\\\\Anaconda3\\\\python.exe', 'C:\\\\Users\\\\hp\\\\Anaconda3\\\\Scripts\\\\jupyter-notebook-script.py', '\"%USERPROFILE%/\"']\n"
     ]
    }
   ],
   "source": [
    "conda update -n base -c defaults conda"
   ]
  },
  {
   "cell_type": "code",
   "execution_count": 187,
   "metadata": {},
   "outputs": [],
   "source": [
    "import lightgbm as lbg"
   ]
  },
  {
   "cell_type": "code",
   "execution_count": 188,
   "metadata": {},
   "outputs": [],
   "source": [
    "l_train=lbg.Dataset(X_train,label=y_train)\n",
    "\n",
    "params={}\n",
    "params['learning_rate']=0.003\n",
    "params['boosting_type']='gbdt'\n",
    "params['objective']='binary'\n",
    "params['max_depth']=10\n",
    "\n",
    "clf=lbg.train(params,l_train)"
   ]
  },
  {
   "cell_type": "code",
   "execution_count": 194,
   "metadata": {},
   "outputs": [
    {
     "name": "stdout",
     "output_type": "stream",
     "text": [
      "[[16234     0]\n",
      " [ 4649     0]]\n",
      "0.7920361476155897\n"
     ]
    }
   ],
   "source": [
    "y_train_prob=clf.predict(X_train)\n",
    "y_train_pred=pd.Series(y_train_prob).apply(lambda x: 1 if x>=0.5 else 0)\n",
    "\n",
    "print(metrics.confusion_matrix(y_train,y_train_pred))\n",
    "print(roc_auc_score(y_train,y_train_prob))"
   ]
  },
  {
   "cell_type": "code",
   "execution_count": 196,
   "metadata": {},
   "outputs": [
    {
     "name": "stdout",
     "output_type": "stream",
     "text": [
      "[[6982    0]\n",
      " [1968    0]]\n",
      "0.7771353981084926\n"
     ]
    }
   ],
   "source": [
    "y_test_prob=clf.predict(X_test)\n",
    "y_test_pred=pd.Series(y_test_prob).apply(lambda x: 1 if x>=0.5 else 0)\n",
    "\n",
    "print(metrics.confusion_matrix(y_test,y_test_pred))\n",
    "print(roc_auc_score(y_test,y_test_prob))"
   ]
  },
  {
   "cell_type": "code",
   "execution_count": 198,
   "metadata": {},
   "outputs": [
    {
     "data": {
      "image/png": "[encoded data removed]",
      "text/plain": [
       "<Figure size 432x288 with 1 Axes>"
      ]
     },
     "metadata": {
      "needs_background": "light"
     },
     "output_type": "display_data"
    }
   ],
   "source": [
    "fpr,tpr,thresholds=roc_curve(y_train,y_train_prob)\n",
    "plt.plot(fpr,tpr,'r')\n",
    "plt.plot(fpr,fpr)\n",
    "plt.xlabel('FPR')\n",
    "plt.ylabel('TPR')\n",
    "plt.show()"
   ]
  },
  {
   "cell_type": "code",
   "execution_count": 199,
   "metadata": {},
   "outputs": [
    {
     "data": {
      "image/png": "[encoded data removed]",
      "text/plain": [
       "<Figure size 432x288 with 1 Axes>"
      ]
     },
     "metadata": {
      "needs_background": "light"
     },
     "output_type": "display_data"
    }
   ],
   "source": [
    "fpr,tpr,thresholds=roc_curve(y_test,y_test_prob)\n",
    "plt.plot(fpr,tpr,'r')\n",
    "plt.plot(fpr,fpr)\n",
    "plt.xlabel('FPR')\n",
    "plt.ylabel('TPR')\n",
    "plt.show()"
   ]
  },
  {
   "cell_type": "code",
   "execution_count": 200,
   "metadata": {},
   "outputs": [
    {
     "data": {
      "image/png": "[encoded data removed]",
      "text/plain": [
       "<Figure size 432x288 with 2 Axes>"
      ]
     },
     "metadata": {
      "needs_background": "light"
     },
     "output_type": "display_data"
    }
   ],
   "source": [
    "fpr,tpr,threshold=roc_curve(y_test,y_test_prob)\n",
    "fig,ax1=plt.subplots()\n",
    "ax1.plot(fpr,tpr,'g')\n",
    "ax2=ax1.twinx()\n",
    "ax2.plot(fpr,threshold,'r')\n",
    "plt.show()"
   ]
  },
  {
   "cell_type": "code",
   "execution_count": 201,
   "metadata": {},
   "outputs": [
    {
     "data": {
      "text/plain": [
       "array([1.36644855, 0.36644855, 0.36410033, ..., 0.17895858, 0.17867511,\n",
       "       0.17860311])"
      ]
     },
     "execution_count": 201,
     "metadata": {},
     "output_type": "execute_result"
    }
   ],
   "source": [
    "threshold"
   ]
  },
  {
   "cell_type": "markdown",
   "metadata": {},
   "source": [
    "# IGBM-Hyperparameter Tuning"
   ]
  },
  {
   "cell_type": "code",
   "execution_count": 154,
   "metadata": {},
   "outputs": [
    {
     "data": {
      "text/plain": [
       "RandomizedSearchCV(cv=3, error_score='raise-deprecating',\n",
       "                   estimator=LGBMClassifier(boosting_type='gbdt',\n",
       "                                            class_weight=None,\n",
       "                                            colsample_bytree=1.0,\n",
       "                                            importance_type='split',\n",
       "                                            learning_rate=0.1, max_depth=-1,\n",
       "                                            min_child_samples=20,\n",
       "                                            min_child_weight=0.001,\n",
       "                                            min_split_gain=0.0,\n",
       "                                            n_estimators=100, n_jobs=-1,\n",
       "                                            num_leaves=31, objective=None,\n",
       "                                            random_state=None, reg_alpha=0.0,\n",
       "                                            reg...\n",
       "                   iid='warn', n_iter=10, n_jobs=None,\n",
       "                   param_distributions={'min_child_samples': <scipy.stats._distn_infrastructure.rv_frozen object at 0x000001A16BFCAE10>,\n",
       "                                        'num_leaves': <scipy.stats._distn_infrastructure.rv_frozen object at 0x000001A16BFCAF28>,\n",
       "                                        'reg_alpha': [0, 0.1, 1, 2, 5, 7, 10,\n",
       "                                                      50, 100]},\n",
       "                   pre_dispatch='2*n_jobs', random_state=42, refit=True,\n",
       "                   return_train_score=False, scoring=None, verbose=0)"
      ]
     },
     "execution_count": 154,
     "metadata": {},
     "output_type": "execute_result"
    }
   ],
   "source": [
    "from scipy.stats import randint as sp_randint\n",
    "from scipy.stats import uniform as sp_uniform\n",
    "\n",
    "param_test = {'num_leaves': sp_randint(6,50),\n",
    "             'min_child_samples': sp_randint(100,500),\n",
    "             'reg_alpha':[0,0.1,1,2,5,7,10,50,100]}\n",
    "\n",
    "clf = lbg.LGBMClassifier()\n",
    "rs = RandomizedSearchCV(clf, param_distributions = param_test, cv =3, random_state=42)\n",
    "rs.fit(X,y)"
   ]
  },
  {
   "cell_type": "code",
   "execution_count": 155,
   "metadata": {},
   "outputs": [
    {
     "data": {
      "text/plain": [
       "{'min_child_samples': 472, 'num_leaves': 41, 'reg_alpha': 50}"
      ]
     },
     "execution_count": 155,
     "metadata": {},
     "output_type": "execute_result"
    }
   ],
   "source": [
    "rs.best_params_"
   ]
  },
  {
   "cell_type": "code",
   "execution_count": 174,
   "metadata": {},
   "outputs": [],
   "source": [
    "clf=lbg.LGBMClassifier(**rs.best_params_)"
   ]
  },
  {
   "cell_type": "code",
   "execution_count": null,
   "metadata": {},
   "outputs": [],
   "source": []
  },
  {
   "cell_type": "code",
   "execution_count": 175,
   "metadata": {},
   "outputs": [
    {
     "data": {
      "text/plain": [
       "LGBMClassifier(boosting_type='gbdt', class_weight=None, colsample_bytree=1.0,\n",
       "               importance_type='split', learning_rate=0.1, max_depth=-1,\n",
       "               min_child_samples=472, min_child_weight=0.001,\n",
       "               min_split_gain=0.0, n_estimators=100, n_jobs=-1, num_leaves=41,\n",
       "               objective=None, random_state=None, reg_alpha=50, reg_lambda=0.0,\n",
       "               silent=True, subsample=1.0, subsample_for_bin=200000,\n",
       "               subsample_freq=0)"
      ]
     },
     "execution_count": 175,
     "metadata": {},
     "output_type": "execute_result"
    }
   ],
   "source": [
    "l_train=lbg.Dataset(X_train,label=y_train)\n",
    "\n",
    "clf.fit(X_train,y_train)"
   ]
  },
  {
   "cell_type": "code",
   "execution_count": 176,
   "metadata": {},
   "outputs": [],
   "source": [
    "y_train_pred=clf.predict(X_train)\n",
    "#y_train_prob=clf.predict_proba(X_train)\n",
    "y_train_pred=pd.Series(y_train_prob).apply(lambda x: 1 if x>=0.5 else 0)"
   ]
  },
  {
   "cell_type": "code",
   "execution_count": 177,
   "metadata": {},
   "outputs": [
    {
     "data": {
      "text/plain": [
       "array([0, 0, 0, ..., 0, 0, 0], dtype=int64)"
      ]
     },
     "execution_count": 177,
     "metadata": {},
     "output_type": "execute_result"
    }
   ],
   "source": [
    "y_train_pred"
   ]
  },
  {
   "cell_type": "code",
   "execution_count": 178,
   "metadata": {},
   "outputs": [
    {
     "name": "stdout",
     "output_type": "stream",
     "text": [
      "[[15496   738]\n",
      " [ 3001  1648]]\n"
     ]
    }
   ],
   "source": [
    "print(metrics.confusion_matrix(y_train,y_train_pred))"
   ]
  },
  {
   "cell_type": "code",
   "execution_count": 181,
   "metadata": {},
   "outputs": [],
   "source": [
    "y_train_prob=clf.predict_proba(X_train)"
   ]
  },
  {
   "cell_type": "code",
   "execution_count": 182,
   "metadata": {},
   "outputs": [
    {
     "name": "stdout",
     "output_type": "stream",
     "text": [
      "0.7891927900656384\n"
     ]
    }
   ],
   "source": [
    "print(metrics.roc_auc_score(y_train,y_train_prob[:,1]))"
   ]
  },
  {
   "cell_type": "code",
   "execution_count": 183,
   "metadata": {},
   "outputs": [],
   "source": [
    "y_test_pred=clf.predict(X_test)"
   ]
  },
  {
   "cell_type": "code",
   "execution_count": 184,
   "metadata": {},
   "outputs": [
    {
     "name": "stdout",
     "output_type": "stream",
     "text": [
      "[[6650  332]\n",
      " [1263  705]]\n"
     ]
    }
   ],
   "source": [
    "print(metrics.confusion_matrix(y_test,y_test_pred))"
   ]
  },
  {
   "cell_type": "code",
   "execution_count": 185,
   "metadata": {},
   "outputs": [],
   "source": [
    "y_test_prob=clf.predict_proba(X_test)"
   ]
  },
  {
   "cell_type": "code",
   "execution_count": 186,
   "metadata": {},
   "outputs": [
    {
     "name": "stdout",
     "output_type": "stream",
     "text": [
      "0.7822001421192242\n"
     ]
    }
   ],
   "source": [
    "print(metrics.roc_auc_score(y_test,y_test_prob[:,1]))"
   ]
  },
  {
   "cell_type": "code",
   "execution_count": 115,
   "metadata": {},
   "outputs": [
    {
     "data": {
      "image/png": "[encoded data removed]",
      "text/plain": [
       "<Figure size 432x288 with 1 Axes>"
      ]
     },
     "metadata": {
      "needs_background": "light"
     },
     "output_type": "display_data"
    }
   ],
   "source": [
    "fpr,tpr,thresholds=roc_curve(y_train,y_train_prob[:,1])\n",
    "plt.plot(fpr,tpr,'r')\n",
    "plt.plot(fpr,fpr)\n",
    "plt.xlabel('FPR')\n",
    "plt.ylabel('TPR')\n",
    "plt.show()"
   ]
  },
  {
   "cell_type": "code",
   "execution_count": 116,
   "metadata": {},
   "outputs": [
    {
     "data": {
      "image/png": "[encoded data removed]",
      "text/plain": [
       "<Figure size 432x288 with 1 Axes>"
      ]
     },
     "metadata": {
      "needs_background": "light"
     },
     "output_type": "display_data"
    }
   ],
   "source": [
    "fpr,tpr,thresholds=roc_curve(y_test,y_test_prob[:,1])\n",
    "plt.plot(fpr,tpr,'r')\n",
    "plt.plot(fpr,fpr)\n",
    "plt.xlabel('FPR')\n",
    "plt.ylabel('TPR')\n",
    "plt.show()"
   ]
  },
  {
   "cell_type": "code",
   "execution_count": 126,
   "metadata": {},
   "outputs": [
    {
     "data": {
      "image/png": "[encoded data removed]",
      "text/plain": [
       "<Figure size 432x288 with 2 Axes>"
      ]
     },
     "metadata": {
      "needs_background": "light"
     },
     "output_type": "display_data"
    }
   ],
   "source": [
    "fpr,tpr,threshold=roc_curve(y_test,y_test_prob[:,1])\n",
    "fig,ax1=plt.subplots()\n",
    "ax1.plot(fpr,tpr,'g')\n",
    "ax2=ax1.twinx()\n",
    "ax2.plot(fpr,threshold,'r')\n",
    "plt.show()"
   ]
  },
  {
   "cell_type": "code",
   "execution_count": null,
   "metadata": {},
   "outputs": [],
   "source": []
  }
 ],
 "metadata": {
  "kernelspec": {
   "display_name": "Python 3",
   "language": "python",
   "name": "python3"
  },
  "language_info": {
   "codemirror_mode": {
    "name": "ipython",
    "version": 3
   },
   "file_extension": ".py",
   "mimetype": "text/x-python",
   "name": "python",
   "nbconvert_exporter": "python",
   "pygments_lexer": "ipython3",
   "version": "3.7.5"
  }
 },
 "nbformat": 4,
 "nbformat_minor": 2
}
