{
 "cells": [
  {
   "cell_type": "code",
   "execution_count": 1,
   "metadata": {},
   "outputs": [],
   "source": [
    "import pandas as pd\n",
    "import numpy as np\n",
    "import matplotlib.pyplot as plt\n",
    "import seaborn as sns\n",
    "from sklearn.linear_model import LinearRegression\n",
    "from sklearn.ensemble import RandomForestClassifier\n",
    "from sklearn.model_selection import train_test_split "
   ]
  },
  {
   "cell_type": "code",
   "execution_count": 2,
   "metadata": {},
   "outputs": [],
   "source": [
    "df=pd.read_csv('creditcard.csv')"
   ]
  },
  {
   "cell_type": "code",
   "execution_count": 3,
   "metadata": {},
   "outputs": [
    {
     "data": {
      "text/html": [
       "<div>\n",
       "<style scoped>\n",
       "    .dataframe tbody tr th:only-of-type {\n",
       "        vertical-align: middle;\n",
       "    }\n",
       "\n",
       "    .dataframe tbody tr th {\n",
       "        vertical-align: top;\n",
       "    }\n",
       "\n",
       "    .dataframe thead th {\n",
       "        text-align: right;\n",
       "    }\n",
       "</style>\n",
       "<table border=\"1\" class=\"dataframe\">\n",
       "  <thead>\n",
       "    <tr style=\"text-align: right;\">\n",
       "      <th></th>\n",
       "      <th>Time</th>\n",
       "      <th>V1</th>\n",
       "      <th>V2</th>\n",
       "      <th>V3</th>\n",
       "      <th>V4</th>\n",
       "      <th>V5</th>\n",
       "      <th>V6</th>\n",
       "      <th>V7</th>\n",
       "      <th>V8</th>\n",
       "      <th>V9</th>\n",
       "      <th>...</th>\n",
       "      <th>V21</th>\n",
       "      <th>V22</th>\n",
       "      <th>V23</th>\n",
       "      <th>V24</th>\n",
       "      <th>V25</th>\n",
       "      <th>V26</th>\n",
       "      <th>V27</th>\n",
       "      <th>V28</th>\n",
       "      <th>Amount</th>\n",
       "      <th>Class</th>\n",
       "    </tr>\n",
       "  </thead>\n",
       "  <tbody>\n",
       "    <tr>\n",
       "      <th>0</th>\n",
       "      <td>0.0</td>\n",
       "      <td>-1.359807</td>\n",
       "      <td>-0.072781</td>\n",
       "      <td>2.536347</td>\n",
       "      <td>1.378155</td>\n",
       "      <td>-0.338321</td>\n",
       "      <td>0.462388</td>\n",
       "      <td>0.239599</td>\n",
       "      <td>0.098698</td>\n",
       "      <td>0.363787</td>\n",
       "      <td>...</td>\n",
       "      <td>-0.018307</td>\n",
       "      <td>0.277838</td>\n",
       "      <td>-0.110474</td>\n",
       "      <td>0.066928</td>\n",
       "      <td>0.128539</td>\n",
       "      <td>-0.189115</td>\n",
       "      <td>0.133558</td>\n",
       "      <td>-0.021053</td>\n",
       "      <td>149.62</td>\n",
       "      <td>0</td>\n",
       "    </tr>\n",
       "    <tr>\n",
       "      <th>1</th>\n",
       "      <td>0.0</td>\n",
       "      <td>1.191857</td>\n",
       "      <td>0.266151</td>\n",
       "      <td>0.166480</td>\n",
       "      <td>0.448154</td>\n",
       "      <td>0.060018</td>\n",
       "      <td>-0.082361</td>\n",
       "      <td>-0.078803</td>\n",
       "      <td>0.085102</td>\n",
       "      <td>-0.255425</td>\n",
       "      <td>...</td>\n",
       "      <td>-0.225775</td>\n",
       "      <td>-0.638672</td>\n",
       "      <td>0.101288</td>\n",
       "      <td>-0.339846</td>\n",
       "      <td>0.167170</td>\n",
       "      <td>0.125895</td>\n",
       "      <td>-0.008983</td>\n",
       "      <td>0.014724</td>\n",
       "      <td>2.69</td>\n",
       "      <td>0</td>\n",
       "    </tr>\n",
       "    <tr>\n",
       "      <th>2</th>\n",
       "      <td>1.0</td>\n",
       "      <td>-1.358354</td>\n",
       "      <td>-1.340163</td>\n",
       "      <td>1.773209</td>\n",
       "      <td>0.379780</td>\n",
       "      <td>-0.503198</td>\n",
       "      <td>1.800499</td>\n",
       "      <td>0.791461</td>\n",
       "      <td>0.247676</td>\n",
       "      <td>-1.514654</td>\n",
       "      <td>...</td>\n",
       "      <td>0.247998</td>\n",
       "      <td>0.771679</td>\n",
       "      <td>0.909412</td>\n",
       "      <td>-0.689281</td>\n",
       "      <td>-0.327642</td>\n",
       "      <td>-0.139097</td>\n",
       "      <td>-0.055353</td>\n",
       "      <td>-0.059752</td>\n",
       "      <td>378.66</td>\n",
       "      <td>0</td>\n",
       "    </tr>\n",
       "    <tr>\n",
       "      <th>3</th>\n",
       "      <td>1.0</td>\n",
       "      <td>-0.966272</td>\n",
       "      <td>-0.185226</td>\n",
       "      <td>1.792993</td>\n",
       "      <td>-0.863291</td>\n",
       "      <td>-0.010309</td>\n",
       "      <td>1.247203</td>\n",
       "      <td>0.237609</td>\n",
       "      <td>0.377436</td>\n",
       "      <td>-1.387024</td>\n",
       "      <td>...</td>\n",
       "      <td>-0.108300</td>\n",
       "      <td>0.005274</td>\n",
       "      <td>-0.190321</td>\n",
       "      <td>-1.175575</td>\n",
       "      <td>0.647376</td>\n",
       "      <td>-0.221929</td>\n",
       "      <td>0.062723</td>\n",
       "      <td>0.061458</td>\n",
       "      <td>123.50</td>\n",
       "      <td>0</td>\n",
       "    </tr>\n",
       "    <tr>\n",
       "      <th>4</th>\n",
       "      <td>2.0</td>\n",
       "      <td>-1.158233</td>\n",
       "      <td>0.877737</td>\n",
       "      <td>1.548718</td>\n",
       "      <td>0.403034</td>\n",
       "      <td>-0.407193</td>\n",
       "      <td>0.095921</td>\n",
       "      <td>0.592941</td>\n",
       "      <td>-0.270533</td>\n",
       "      <td>0.817739</td>\n",
       "      <td>...</td>\n",
       "      <td>-0.009431</td>\n",
       "      <td>0.798278</td>\n",
       "      <td>-0.137458</td>\n",
       "      <td>0.141267</td>\n",
       "      <td>-0.206010</td>\n",
       "      <td>0.502292</td>\n",
       "      <td>0.219422</td>\n",
       "      <td>0.215153</td>\n",
       "      <td>69.99</td>\n",
       "      <td>0</td>\n",
       "    </tr>\n",
       "  </tbody>\n",
       "</table>\n",
       "<p>5 rows × 31 columns</p>\n",
       "</div>"
      ],
      "text/plain": [
       "   Time        V1        V2        V3        V4        V5        V6        V7  \\\n",
       "0   0.0 -1.359807 -0.072781  2.536347  1.378155 -0.338321  0.462388  0.239599   \n",
       "1   0.0  1.191857  0.266151  0.166480  0.448154  0.060018 -0.082361 -0.078803   \n",
       "2   1.0 -1.358354 -1.340163  1.773209  0.379780 -0.503198  1.800499  0.791461   \n",
       "3   1.0 -0.966272 -0.185226  1.792993 -0.863291 -0.010309  1.247203  0.237609   \n",
       "4   2.0 -1.158233  0.877737  1.548718  0.403034 -0.407193  0.095921  0.592941   \n",
       "\n",
       "         V8        V9  ...       V21       V22       V23       V24       V25  \\\n",
       "0  0.098698  0.363787  ... -0.018307  0.277838 -0.110474  0.066928  0.128539   \n",
       "1  0.085102 -0.255425  ... -0.225775 -0.638672  0.101288 -0.339846  0.167170   \n",
       "2  0.247676 -1.514654  ...  0.247998  0.771679  0.909412 -0.689281 -0.327642   \n",
       "3  0.377436 -1.387024  ... -0.108300  0.005274 -0.190321 -1.175575  0.647376   \n",
       "4 -0.270533  0.817739  ... -0.009431  0.798278 -0.137458  0.141267 -0.206010   \n",
       "\n",
       "        V26       V27       V28  Amount  Class  \n",
       "0 -0.189115  0.133558 -0.021053  149.62      0  \n",
       "1  0.125895 -0.008983  0.014724    2.69      0  \n",
       "2 -0.139097 -0.055353 -0.059752  378.66      0  \n",
       "3 -0.221929  0.062723  0.061458  123.50      0  \n",
       "4  0.502292  0.219422  0.215153   69.99      0  \n",
       "\n",
       "[5 rows x 31 columns]"
      ]
     },
     "execution_count": 3,
     "metadata": {},
     "output_type": "execute_result"
    }
   ],
   "source": [
    "df.head()"
   ]
  },
  {
   "cell_type": "code",
   "execution_count": 4,
   "metadata": {},
   "outputs": [
    {
     "data": {
      "text/html": [
       "<div>\n",
       "<style scoped>\n",
       "    .dataframe tbody tr th:only-of-type {\n",
       "        vertical-align: middle;\n",
       "    }\n",
       "\n",
       "    .dataframe tbody tr th {\n",
       "        vertical-align: top;\n",
       "    }\n",
       "\n",
       "    .dataframe thead th {\n",
       "        text-align: right;\n",
       "    }\n",
       "</style>\n",
       "<table border=\"1\" class=\"dataframe\">\n",
       "  <thead>\n",
       "    <tr style=\"text-align: right;\">\n",
       "      <th></th>\n",
       "      <th>Time</th>\n",
       "      <th>V1</th>\n",
       "      <th>V2</th>\n",
       "      <th>V3</th>\n",
       "      <th>V4</th>\n",
       "      <th>V5</th>\n",
       "      <th>V6</th>\n",
       "      <th>V7</th>\n",
       "      <th>V8</th>\n",
       "      <th>V9</th>\n",
       "      <th>...</th>\n",
       "      <th>V21</th>\n",
       "      <th>V22</th>\n",
       "      <th>V23</th>\n",
       "      <th>V24</th>\n",
       "      <th>V25</th>\n",
       "      <th>V26</th>\n",
       "      <th>V27</th>\n",
       "      <th>V28</th>\n",
       "      <th>Amount</th>\n",
       "      <th>Class</th>\n",
       "    </tr>\n",
       "  </thead>\n",
       "  <tbody>\n",
       "    <tr>\n",
       "      <th>count</th>\n",
       "      <td>284807.000000</td>\n",
       "      <td>2.848070e+05</td>\n",
       "      <td>2.848070e+05</td>\n",
       "      <td>2.848070e+05</td>\n",
       "      <td>2.848070e+05</td>\n",
       "      <td>2.848070e+05</td>\n",
       "      <td>2.848070e+05</td>\n",
       "      <td>2.848070e+05</td>\n",
       "      <td>2.848070e+05</td>\n",
       "      <td>2.848070e+05</td>\n",
       "      <td>...</td>\n",
       "      <td>2.848070e+05</td>\n",
       "      <td>2.848070e+05</td>\n",
       "      <td>2.848070e+05</td>\n",
       "      <td>2.848070e+05</td>\n",
       "      <td>2.848070e+05</td>\n",
       "      <td>2.848070e+05</td>\n",
       "      <td>2.848070e+05</td>\n",
       "      <td>2.848070e+05</td>\n",
       "      <td>284807.000000</td>\n",
       "      <td>284807.000000</td>\n",
       "    </tr>\n",
       "    <tr>\n",
       "      <th>mean</th>\n",
       "      <td>94813.859575</td>\n",
       "      <td>3.919560e-15</td>\n",
       "      <td>5.688174e-16</td>\n",
       "      <td>-8.769071e-15</td>\n",
       "      <td>2.782312e-15</td>\n",
       "      <td>-1.552563e-15</td>\n",
       "      <td>2.010663e-15</td>\n",
       "      <td>-1.694249e-15</td>\n",
       "      <td>-1.927028e-16</td>\n",
       "      <td>-3.137024e-15</td>\n",
       "      <td>...</td>\n",
       "      <td>1.537294e-16</td>\n",
       "      <td>7.959909e-16</td>\n",
       "      <td>5.367590e-16</td>\n",
       "      <td>4.458112e-15</td>\n",
       "      <td>1.453003e-15</td>\n",
       "      <td>1.699104e-15</td>\n",
       "      <td>-3.660161e-16</td>\n",
       "      <td>-1.206049e-16</td>\n",
       "      <td>88.349619</td>\n",
       "      <td>0.001727</td>\n",
       "    </tr>\n",
       "    <tr>\n",
       "      <th>std</th>\n",
       "      <td>47488.145955</td>\n",
       "      <td>1.958696e+00</td>\n",
       "      <td>1.651309e+00</td>\n",
       "      <td>1.516255e+00</td>\n",
       "      <td>1.415869e+00</td>\n",
       "      <td>1.380247e+00</td>\n",
       "      <td>1.332271e+00</td>\n",
       "      <td>1.237094e+00</td>\n",
       "      <td>1.194353e+00</td>\n",
       "      <td>1.098632e+00</td>\n",
       "      <td>...</td>\n",
       "      <td>7.345240e-01</td>\n",
       "      <td>7.257016e-01</td>\n",
       "      <td>6.244603e-01</td>\n",
       "      <td>6.056471e-01</td>\n",
       "      <td>5.212781e-01</td>\n",
       "      <td>4.822270e-01</td>\n",
       "      <td>4.036325e-01</td>\n",
       "      <td>3.300833e-01</td>\n",
       "      <td>250.120109</td>\n",
       "      <td>0.041527</td>\n",
       "    </tr>\n",
       "    <tr>\n",
       "      <th>min</th>\n",
       "      <td>0.000000</td>\n",
       "      <td>-5.640751e+01</td>\n",
       "      <td>-7.271573e+01</td>\n",
       "      <td>-4.832559e+01</td>\n",
       "      <td>-5.683171e+00</td>\n",
       "      <td>-1.137433e+02</td>\n",
       "      <td>-2.616051e+01</td>\n",
       "      <td>-4.355724e+01</td>\n",
       "      <td>-7.321672e+01</td>\n",
       "      <td>-1.343407e+01</td>\n",
       "      <td>...</td>\n",
       "      <td>-3.483038e+01</td>\n",
       "      <td>-1.093314e+01</td>\n",
       "      <td>-4.480774e+01</td>\n",
       "      <td>-2.836627e+00</td>\n",
       "      <td>-1.029540e+01</td>\n",
       "      <td>-2.604551e+00</td>\n",
       "      <td>-2.256568e+01</td>\n",
       "      <td>-1.543008e+01</td>\n",
       "      <td>0.000000</td>\n",
       "      <td>0.000000</td>\n",
       "    </tr>\n",
       "    <tr>\n",
       "      <th>25%</th>\n",
       "      <td>54201.500000</td>\n",
       "      <td>-9.203734e-01</td>\n",
       "      <td>-5.985499e-01</td>\n",
       "      <td>-8.903648e-01</td>\n",
       "      <td>-8.486401e-01</td>\n",
       "      <td>-6.915971e-01</td>\n",
       "      <td>-7.682956e-01</td>\n",
       "      <td>-5.540759e-01</td>\n",
       "      <td>-2.086297e-01</td>\n",
       "      <td>-6.430976e-01</td>\n",
       "      <td>...</td>\n",
       "      <td>-2.283949e-01</td>\n",
       "      <td>-5.423504e-01</td>\n",
       "      <td>-1.618463e-01</td>\n",
       "      <td>-3.545861e-01</td>\n",
       "      <td>-3.171451e-01</td>\n",
       "      <td>-3.269839e-01</td>\n",
       "      <td>-7.083953e-02</td>\n",
       "      <td>-5.295979e-02</td>\n",
       "      <td>5.600000</td>\n",
       "      <td>0.000000</td>\n",
       "    </tr>\n",
       "    <tr>\n",
       "      <th>50%</th>\n",
       "      <td>84692.000000</td>\n",
       "      <td>1.810880e-02</td>\n",
       "      <td>6.548556e-02</td>\n",
       "      <td>1.798463e-01</td>\n",
       "      <td>-1.984653e-02</td>\n",
       "      <td>-5.433583e-02</td>\n",
       "      <td>-2.741871e-01</td>\n",
       "      <td>4.010308e-02</td>\n",
       "      <td>2.235804e-02</td>\n",
       "      <td>-5.142873e-02</td>\n",
       "      <td>...</td>\n",
       "      <td>-2.945017e-02</td>\n",
       "      <td>6.781943e-03</td>\n",
       "      <td>-1.119293e-02</td>\n",
       "      <td>4.097606e-02</td>\n",
       "      <td>1.659350e-02</td>\n",
       "      <td>-5.213911e-02</td>\n",
       "      <td>1.342146e-03</td>\n",
       "      <td>1.124383e-02</td>\n",
       "      <td>22.000000</td>\n",
       "      <td>0.000000</td>\n",
       "    </tr>\n",
       "    <tr>\n",
       "      <th>75%</th>\n",
       "      <td>139320.500000</td>\n",
       "      <td>1.315642e+00</td>\n",
       "      <td>8.037239e-01</td>\n",
       "      <td>1.027196e+00</td>\n",
       "      <td>7.433413e-01</td>\n",
       "      <td>6.119264e-01</td>\n",
       "      <td>3.985649e-01</td>\n",
       "      <td>5.704361e-01</td>\n",
       "      <td>3.273459e-01</td>\n",
       "      <td>5.971390e-01</td>\n",
       "      <td>...</td>\n",
       "      <td>1.863772e-01</td>\n",
       "      <td>5.285536e-01</td>\n",
       "      <td>1.476421e-01</td>\n",
       "      <td>4.395266e-01</td>\n",
       "      <td>3.507156e-01</td>\n",
       "      <td>2.409522e-01</td>\n",
       "      <td>9.104512e-02</td>\n",
       "      <td>7.827995e-02</td>\n",
       "      <td>77.165000</td>\n",
       "      <td>0.000000</td>\n",
       "    </tr>\n",
       "    <tr>\n",
       "      <th>max</th>\n",
       "      <td>172792.000000</td>\n",
       "      <td>2.454930e+00</td>\n",
       "      <td>2.205773e+01</td>\n",
       "      <td>9.382558e+00</td>\n",
       "      <td>1.687534e+01</td>\n",
       "      <td>3.480167e+01</td>\n",
       "      <td>7.330163e+01</td>\n",
       "      <td>1.205895e+02</td>\n",
       "      <td>2.000721e+01</td>\n",
       "      <td>1.559499e+01</td>\n",
       "      <td>...</td>\n",
       "      <td>2.720284e+01</td>\n",
       "      <td>1.050309e+01</td>\n",
       "      <td>2.252841e+01</td>\n",
       "      <td>4.584549e+00</td>\n",
       "      <td>7.519589e+00</td>\n",
       "      <td>3.517346e+00</td>\n",
       "      <td>3.161220e+01</td>\n",
       "      <td>3.384781e+01</td>\n",
       "      <td>25691.160000</td>\n",
       "      <td>1.000000</td>\n",
       "    </tr>\n",
       "  </tbody>\n",
       "</table>\n",
       "<p>8 rows × 31 columns</p>\n",
       "</div>"
      ],
      "text/plain": [
       "                Time            V1            V2            V3            V4  \\\n",
       "count  284807.000000  2.848070e+05  2.848070e+05  2.848070e+05  2.848070e+05   \n",
       "mean    94813.859575  3.919560e-15  5.688174e-16 -8.769071e-15  2.782312e-15   \n",
       "std     47488.145955  1.958696e+00  1.651309e+00  1.516255e+00  1.415869e+00   \n",
       "min         0.000000 -5.640751e+01 -7.271573e+01 -4.832559e+01 -5.683171e+00   \n",
       "25%     54201.500000 -9.203734e-01 -5.985499e-01 -8.903648e-01 -8.486401e-01   \n",
       "50%     84692.000000  1.810880e-02  6.548556e-02  1.798463e-01 -1.984653e-02   \n",
       "75%    139320.500000  1.315642e+00  8.037239e-01  1.027196e+00  7.433413e-01   \n",
       "max    172792.000000  2.454930e+00  2.205773e+01  9.382558e+00  1.687534e+01   \n",
       "\n",
       "                 V5            V6            V7            V8            V9  \\\n",
       "count  2.848070e+05  2.848070e+05  2.848070e+05  2.848070e+05  2.848070e+05   \n",
       "mean  -1.552563e-15  2.010663e-15 -1.694249e-15 -1.927028e-16 -3.137024e-15   \n",
       "std    1.380247e+00  1.332271e+00  1.237094e+00  1.194353e+00  1.098632e+00   \n",
       "min   -1.137433e+02 -2.616051e+01 -4.355724e+01 -7.321672e+01 -1.343407e+01   \n",
       "25%   -6.915971e-01 -7.682956e-01 -5.540759e-01 -2.086297e-01 -6.430976e-01   \n",
       "50%   -5.433583e-02 -2.741871e-01  4.010308e-02  2.235804e-02 -5.142873e-02   \n",
       "75%    6.119264e-01  3.985649e-01  5.704361e-01  3.273459e-01  5.971390e-01   \n",
       "max    3.480167e+01  7.330163e+01  1.205895e+02  2.000721e+01  1.559499e+01   \n",
       "\n",
       "       ...           V21           V22           V23           V24  \\\n",
       "count  ...  2.848070e+05  2.848070e+05  2.848070e+05  2.848070e+05   \n",
       "mean   ...  1.537294e-16  7.959909e-16  5.367590e-16  4.458112e-15   \n",
       "std    ...  7.345240e-01  7.257016e-01  6.244603e-01  6.056471e-01   \n",
       "min    ... -3.483038e+01 -1.093314e+01 -4.480774e+01 -2.836627e+00   \n",
       "25%    ... -2.283949e-01 -5.423504e-01 -1.618463e-01 -3.545861e-01   \n",
       "50%    ... -2.945017e-02  6.781943e-03 -1.119293e-02  4.097606e-02   \n",
       "75%    ...  1.863772e-01  5.285536e-01  1.476421e-01  4.395266e-01   \n",
       "max    ...  2.720284e+01  1.050309e+01  2.252841e+01  4.584549e+00   \n",
       "\n",
       "                V25           V26           V27           V28         Amount  \\\n",
       "count  2.848070e+05  2.848070e+05  2.848070e+05  2.848070e+05  284807.000000   \n",
       "mean   1.453003e-15  1.699104e-15 -3.660161e-16 -1.206049e-16      88.349619   \n",
       "std    5.212781e-01  4.822270e-01  4.036325e-01  3.300833e-01     250.120109   \n",
       "min   -1.029540e+01 -2.604551e+00 -2.256568e+01 -1.543008e+01       0.000000   \n",
       "25%   -3.171451e-01 -3.269839e-01 -7.083953e-02 -5.295979e-02       5.600000   \n",
       "50%    1.659350e-02 -5.213911e-02  1.342146e-03  1.124383e-02      22.000000   \n",
       "75%    3.507156e-01  2.409522e-01  9.104512e-02  7.827995e-02      77.165000   \n",
       "max    7.519589e+00  3.517346e+00  3.161220e+01  3.384781e+01   25691.160000   \n",
       "\n",
       "               Class  \n",
       "count  284807.000000  \n",
       "mean        0.001727  \n",
       "std         0.041527  \n",
       "min         0.000000  \n",
       "25%         0.000000  \n",
       "50%         0.000000  \n",
       "75%         0.000000  \n",
       "max         1.000000  \n",
       "\n",
       "[8 rows x 31 columns]"
      ]
     },
     "execution_count": 4,
     "metadata": {},
     "output_type": "execute_result"
    }
   ],
   "source": [
    "df.describe()"
   ]
  },
  {
   "cell_type": "markdown",
   "metadata": {},
   "source": [
    "class 1:fraud,class 0:not fraud "
   ]
  },
  {
   "cell_type": "code",
   "execution_count": 5,
   "metadata": {},
   "outputs": [
    {
     "data": {
      "text/plain": [
       "0    0.998273\n",
       "1    0.001727\n",
       "Name: Class, dtype: float64"
      ]
     },
     "execution_count": 5,
     "metadata": {},
     "output_type": "execute_result"
    }
   ],
   "source": [
    "df['Class'].value_counts(normalize=True)"
   ]
  },
  {
   "cell_type": "code",
   "execution_count": 6,
   "metadata": {},
   "outputs": [
    {
     "data": {
      "text/plain": [
       "<matplotlib.axes._subplots.AxesSubplot at 0x16fe215e518>"
      ]
     },
     "execution_count": 6,
     "metadata": {},
     "output_type": "execute_result"
    },
    {
     "data": {
      "image/png": "[encoded data removed]",
      "text/plain": [
       "<Figure size 432x288 with 1 Axes>"
      ]
     },
     "metadata": {},
     "output_type": "display_data"
    }
   ],
   "source": [
    "df['Class'].value_counts(normalize=True).plot.pie()"
   ]
  },
  {
   "cell_type": "code",
   "execution_count": 7,
   "metadata": {},
   "outputs": [
    {
     "data": {
      "text/plain": [
       "<matplotlib.axes._subplots.AxesSubplot at 0x16fe244a470>"
      ]
     },
     "execution_count": 7,
     "metadata": {},
     "output_type": "execute_result"
    },
    {
     "data": {
      "image/png": "[encoded data removed]",
      "text/plain": [
       "<Figure size 432x288 with 1 Axes>"
      ]
     },
     "metadata": {
      "needs_background": "light"
     },
     "output_type": "display_data"
    }
   ],
   "source": [
    "df['Class'].value_counts(normalize=True).plot.bar()"
   ]
  },
  {
   "cell_type": "code",
   "execution_count": 8,
   "metadata": {},
   "outputs": [
    {
     "data": {
      "text/plain": [
       "<matplotlib.axes._subplots.AxesSubplot at 0x16fe24be630>"
      ]
     },
     "execution_count": 8,
     "metadata": {},
     "output_type": "execute_result"
    },
    {
     "data": {
      "image/png": "[encoded data removed]",
      "text/plain": [
       "<Figure size 432x288 with 1 Axes>"
      ]
     },
     "metadata": {
      "needs_background": "light"
     },
     "output_type": "display_data"
    }
   ],
   "source": [
    "df['Amount'].plot.box()"
   ]
  },
  {
   "cell_type": "code",
   "execution_count": 9,
   "metadata": {},
   "outputs": [],
   "source": [
    "from sklearn.preprocessing import StandardScaler\n",
    "ss=StandardScaler()\n",
    "df2=df.loc[:,['Amount','Time']]\n",
    "df2=ss.fit_transform(df2)\n",
    "df2=pd.DataFrame(df2,columns=['Amount','Time'])"
   ]
  },
  {
   "cell_type": "code",
   "execution_count": 10,
   "metadata": {},
   "outputs": [],
   "source": [
    "df['Amount']=df2['Amount']"
   ]
  },
  {
   "cell_type": "code",
   "execution_count": 11,
   "metadata": {},
   "outputs": [],
   "source": [
    "df['Time']=df2['Time']"
   ]
  },
  {
   "cell_type": "code",
   "execution_count": 12,
   "metadata": {},
   "outputs": [
    {
     "data": {
      "text/html": [
       "<div>\n",
       "<style scoped>\n",
       "    .dataframe tbody tr th:only-of-type {\n",
       "        vertical-align: middle;\n",
       "    }\n",
       "\n",
       "    .dataframe tbody tr th {\n",
       "        vertical-align: top;\n",
       "    }\n",
       "\n",
       "    .dataframe thead th {\n",
       "        text-align: right;\n",
       "    }\n",
       "</style>\n",
       "<table border=\"1\" class=\"dataframe\">\n",
       "  <thead>\n",
       "    <tr style=\"text-align: right;\">\n",
       "      <th></th>\n",
       "      <th>Time</th>\n",
       "      <th>V1</th>\n",
       "      <th>V2</th>\n",
       "      <th>V3</th>\n",
       "      <th>V4</th>\n",
       "      <th>V5</th>\n",
       "      <th>V6</th>\n",
       "      <th>V7</th>\n",
       "      <th>V8</th>\n",
       "      <th>V9</th>\n",
       "      <th>...</th>\n",
       "      <th>V21</th>\n",
       "      <th>V22</th>\n",
       "      <th>V23</th>\n",
       "      <th>V24</th>\n",
       "      <th>V25</th>\n",
       "      <th>V26</th>\n",
       "      <th>V27</th>\n",
       "      <th>V28</th>\n",
       "      <th>Amount</th>\n",
       "      <th>Class</th>\n",
       "    </tr>\n",
       "  </thead>\n",
       "  <tbody>\n",
       "    <tr>\n",
       "      <th>0</th>\n",
       "      <td>-1.996583</td>\n",
       "      <td>-1.359807</td>\n",
       "      <td>-0.072781</td>\n",
       "      <td>2.536347</td>\n",
       "      <td>1.378155</td>\n",
       "      <td>-0.338321</td>\n",
       "      <td>0.462388</td>\n",
       "      <td>0.239599</td>\n",
       "      <td>0.098698</td>\n",
       "      <td>0.363787</td>\n",
       "      <td>...</td>\n",
       "      <td>-0.018307</td>\n",
       "      <td>0.277838</td>\n",
       "      <td>-0.110474</td>\n",
       "      <td>0.066928</td>\n",
       "      <td>0.128539</td>\n",
       "      <td>-0.189115</td>\n",
       "      <td>0.133558</td>\n",
       "      <td>-0.021053</td>\n",
       "      <td>0.244964</td>\n",
       "      <td>0</td>\n",
       "    </tr>\n",
       "    <tr>\n",
       "      <th>1</th>\n",
       "      <td>-1.996583</td>\n",
       "      <td>1.191857</td>\n",
       "      <td>0.266151</td>\n",
       "      <td>0.166480</td>\n",
       "      <td>0.448154</td>\n",
       "      <td>0.060018</td>\n",
       "      <td>-0.082361</td>\n",
       "      <td>-0.078803</td>\n",
       "      <td>0.085102</td>\n",
       "      <td>-0.255425</td>\n",
       "      <td>...</td>\n",
       "      <td>-0.225775</td>\n",
       "      <td>-0.638672</td>\n",
       "      <td>0.101288</td>\n",
       "      <td>-0.339846</td>\n",
       "      <td>0.167170</td>\n",
       "      <td>0.125895</td>\n",
       "      <td>-0.008983</td>\n",
       "      <td>0.014724</td>\n",
       "      <td>-0.342475</td>\n",
       "      <td>0</td>\n",
       "    </tr>\n",
       "    <tr>\n",
       "      <th>2</th>\n",
       "      <td>-1.996562</td>\n",
       "      <td>-1.358354</td>\n",
       "      <td>-1.340163</td>\n",
       "      <td>1.773209</td>\n",
       "      <td>0.379780</td>\n",
       "      <td>-0.503198</td>\n",
       "      <td>1.800499</td>\n",
       "      <td>0.791461</td>\n",
       "      <td>0.247676</td>\n",
       "      <td>-1.514654</td>\n",
       "      <td>...</td>\n",
       "      <td>0.247998</td>\n",
       "      <td>0.771679</td>\n",
       "      <td>0.909412</td>\n",
       "      <td>-0.689281</td>\n",
       "      <td>-0.327642</td>\n",
       "      <td>-0.139097</td>\n",
       "      <td>-0.055353</td>\n",
       "      <td>-0.059752</td>\n",
       "      <td>1.160686</td>\n",
       "      <td>0</td>\n",
       "    </tr>\n",
       "    <tr>\n",
       "      <th>3</th>\n",
       "      <td>-1.996562</td>\n",
       "      <td>-0.966272</td>\n",
       "      <td>-0.185226</td>\n",
       "      <td>1.792993</td>\n",
       "      <td>-0.863291</td>\n",
       "      <td>-0.010309</td>\n",
       "      <td>1.247203</td>\n",
       "      <td>0.237609</td>\n",
       "      <td>0.377436</td>\n",
       "      <td>-1.387024</td>\n",
       "      <td>...</td>\n",
       "      <td>-0.108300</td>\n",
       "      <td>0.005274</td>\n",
       "      <td>-0.190321</td>\n",
       "      <td>-1.175575</td>\n",
       "      <td>0.647376</td>\n",
       "      <td>-0.221929</td>\n",
       "      <td>0.062723</td>\n",
       "      <td>0.061458</td>\n",
       "      <td>0.140534</td>\n",
       "      <td>0</td>\n",
       "    </tr>\n",
       "    <tr>\n",
       "      <th>4</th>\n",
       "      <td>-1.996541</td>\n",
       "      <td>-1.158233</td>\n",
       "      <td>0.877737</td>\n",
       "      <td>1.548718</td>\n",
       "      <td>0.403034</td>\n",
       "      <td>-0.407193</td>\n",
       "      <td>0.095921</td>\n",
       "      <td>0.592941</td>\n",
       "      <td>-0.270533</td>\n",
       "      <td>0.817739</td>\n",
       "      <td>...</td>\n",
       "      <td>-0.009431</td>\n",
       "      <td>0.798278</td>\n",
       "      <td>-0.137458</td>\n",
       "      <td>0.141267</td>\n",
       "      <td>-0.206010</td>\n",
       "      <td>0.502292</td>\n",
       "      <td>0.219422</td>\n",
       "      <td>0.215153</td>\n",
       "      <td>-0.073403</td>\n",
       "      <td>0</td>\n",
       "    </tr>\n",
       "  </tbody>\n",
       "</table>\n",
       "<p>5 rows × 31 columns</p>\n",
       "</div>"
      ],
      "text/plain": [
       "       Time        V1        V2        V3        V4        V5        V6  \\\n",
       "0 -1.996583 -1.359807 -0.072781  2.536347  1.378155 -0.338321  0.462388   \n",
       "1 -1.996583  1.191857  0.266151  0.166480  0.448154  0.060018 -0.082361   \n",
       "2 -1.996562 -1.358354 -1.340163  1.773209  0.379780 -0.503198  1.800499   \n",
       "3 -1.996562 -0.966272 -0.185226  1.792993 -0.863291 -0.010309  1.247203   \n",
       "4 -1.996541 -1.158233  0.877737  1.548718  0.403034 -0.407193  0.095921   \n",
       "\n",
       "         V7        V8        V9  ...       V21       V22       V23       V24  \\\n",
       "0  0.239599  0.098698  0.363787  ... -0.018307  0.277838 -0.110474  0.066928   \n",
       "1 -0.078803  0.085102 -0.255425  ... -0.225775 -0.638672  0.101288 -0.339846   \n",
       "2  0.791461  0.247676 -1.514654  ...  0.247998  0.771679  0.909412 -0.689281   \n",
       "3  0.237609  0.377436 -1.387024  ... -0.108300  0.005274 -0.190321 -1.175575   \n",
       "4  0.592941 -0.270533  0.817739  ... -0.009431  0.798278 -0.137458  0.141267   \n",
       "\n",
       "        V25       V26       V27       V28    Amount  Class  \n",
       "0  0.128539 -0.189115  0.133558 -0.021053  0.244964      0  \n",
       "1  0.167170  0.125895 -0.008983  0.014724 -0.342475      0  \n",
       "2 -0.327642 -0.139097 -0.055353 -0.059752  1.160686      0  \n",
       "3  0.647376 -0.221929  0.062723  0.061458  0.140534      0  \n",
       "4 -0.206010  0.502292  0.219422  0.215153 -0.073403      0  \n",
       "\n",
       "[5 rows x 31 columns]"
      ]
     },
     "execution_count": 12,
     "metadata": {},
     "output_type": "execute_result"
    }
   ],
   "source": [
    "df.head()"
   ]
  },
  {
   "cell_type": "code",
   "execution_count": 13,
   "metadata": {},
   "outputs": [
    {
     "data": {
      "text/plain": [
       "Time      0\n",
       "V1        0\n",
       "V2        0\n",
       "V3        0\n",
       "V4        0\n",
       "V5        0\n",
       "V6        0\n",
       "V7        0\n",
       "V8        0\n",
       "V9        0\n",
       "V10       0\n",
       "V11       0\n",
       "V12       0\n",
       "V13       0\n",
       "V14       0\n",
       "V15       0\n",
       "V16       0\n",
       "V17       0\n",
       "V18       0\n",
       "V19       0\n",
       "V20       0\n",
       "V21       0\n",
       "V22       0\n",
       "V23       0\n",
       "V24       0\n",
       "V25       0\n",
       "V26       0\n",
       "V27       0\n",
       "V28       0\n",
       "Amount    0\n",
       "Class     0\n",
       "dtype: int64"
      ]
     },
     "execution_count": 13,
     "metadata": {},
     "output_type": "execute_result"
    }
   ],
   "source": [
    "df.isnull().sum()"
   ]
  },
  {
   "cell_type": "code",
   "execution_count": 14,
   "metadata": {},
   "outputs": [],
   "source": [
    "q1 = df['Amount'].quantile(0.25)\n",
    "q2 = df['Amount'].quantile(0.5)\n",
    "q3 = df['Amount'].quantile(0.75)\n",
    "\n",
    "iqr = q3-q1\n",
    "\n",
    "df = df[~(df['Amount']>(q3+1.5*iqr))]"
   ]
  },
  {
   "cell_type": "code",
   "execution_count": 15,
   "metadata": {},
   "outputs": [
    {
     "data": {
      "text/plain": [
       "(252903, 31)"
      ]
     },
     "execution_count": 15,
     "metadata": {},
     "output_type": "execute_result"
    }
   ],
   "source": [
    "df.shape"
   ]
  },
  {
   "cell_type": "code",
   "execution_count": 16,
   "metadata": {},
   "outputs": [],
   "source": [
    "X=df.drop(['Class','V14','V4','V10','V12','V11','V16'],axis=1)\n",
    "y=df['Class']"
   ]
  },
  {
   "cell_type": "code",
   "execution_count": 17,
   "metadata": {},
   "outputs": [],
   "source": [
    "X_train,X_test,y_train,y_test=train_test_split(X,y,test_size=0.30,random_state=42,stratify=y)"
   ]
  },
  {
   "cell_type": "code",
   "execution_count": 18,
   "metadata": {},
   "outputs": [
    {
     "name": "stdout",
     "output_type": "stream",
     "text": [
      "(177032, 24) (75871, 24) (177032,) (75871,)\n"
     ]
    }
   ],
   "source": [
    "print(X_train.shape,X_test.shape,y_train.shape,y_test.shape)"
   ]
  },
  {
   "cell_type": "code",
   "execution_count": 19,
   "metadata": {},
   "outputs": [
    {
     "data": {
      "text/plain": [
       "0    176751\n",
       "1       281\n",
       "Name: Class, dtype: int64"
      ]
     },
     "execution_count": 19,
     "metadata": {},
     "output_type": "execute_result"
    }
   ],
   "source": [
    "y_train.value_counts()"
   ]
  },
  {
   "cell_type": "code",
   "execution_count": 20,
   "metadata": {},
   "outputs": [
    {
     "data": {
      "text/plain": [
       "0    75751\n",
       "1      120\n",
       "Name: Class, dtype: int64"
      ]
     },
     "execution_count": 20,
     "metadata": {},
     "output_type": "execute_result"
    }
   ],
   "source": [
    "y_test.value_counts()"
   ]
  },
  {
   "cell_type": "code",
   "execution_count": 21,
   "metadata": {},
   "outputs": [],
   "source": [
    "from sklearn.metrics import roc_auc_score,roc_curve,confusion_matrix"
   ]
  },
  {
   "cell_type": "code",
   "execution_count": 22,
   "metadata": {},
   "outputs": [],
   "source": [
    "def model_fit(algo,X_train,X_test,y_train,y_test):\n",
    "    algo.fit(X_train,y_train)\n",
    "    y_train_pred=algo.predict(X_train)\n",
    "    y_train_prob=algo.predict_proba(X_train)[:,1]\n",
    "    print('auc of train',roc_auc_score(y_train,y_train_prob))\n",
    "    print('Confusion Matrix of train',confusion_matrix(y_train,y_train_pred))\n",
    "    y_test_pred=algo.predict(X_test)\n",
    "    y_test_prob=algo.predict_proba(X_test)[:,1]\n",
    "    print('auc of test',roc_auc_score(y_test,y_test_prob))\n",
    "    fpr,tpr,threshold=roc_curve(y_test,y_test_prob)\n",
    "    print('Confusion Matrix of test',confusion_matrix(y_test,y_test_pred))\n",
    "    plt.plot(fpr,tpr)\n",
    "    plt.plot(fpr,fpr)\n",
    "    plt.show()\n",
    "    "
   ]
  },
  {
   "cell_type": "code",
   "execution_count": 23,
   "metadata": {},
   "outputs": [],
   "source": [
    "from sklearn.linear_model import LogisticRegression"
   ]
  },
  {
   "cell_type": "code",
   "execution_count": 24,
   "metadata": {},
   "outputs": [],
   "source": [
    "lr=LogisticRegression()"
   ]
  },
  {
   "cell_type": "code",
   "execution_count": 25,
   "metadata": {},
   "outputs": [
    {
     "name": "stderr",
     "output_type": "stream",
     "text": [
      "C:\\Users\\hp\\Anaconda3\\lib\\site-packages\\sklearn\\linear_model\\logistic.py:432: FutureWarning: Default solver will be changed to 'lbfgs' in 0.22. Specify a solver to silence this warning.\n",
      "  FutureWarning)\n"
     ]
    },
    {
     "name": "stdout",
     "output_type": "stream",
     "text": [
      "auc of train 0.9384317737857131\n",
      "Confusion Matrix of train [[176726     25]\n",
      " [   134    147]]\n",
      "auc of test 0.9756403655837327\n",
      "Confusion Matrix of test [[75737    14]\n",
      " [   51    69]]\n"
     ]
    },
    {
     "data": {
      "image/png": "[encoded data removed]",
      "text/plain": [
       "<Figure size 432x288 with 1 Axes>"
      ]
     },
     "metadata": {
      "needs_background": "light"
     },
     "output_type": "display_data"
    }
   ],
   "source": [
    "model_fit(lr,X_train,X_test,y_train,y_test)"
   ]
  },
  {
   "cell_type": "markdown",
   "metadata": {},
   "source": [
    "# Strategies for handling imbalanced data"
   ]
  },
  {
   "cell_type": "markdown",
   "metadata": {},
   "source": [
    "# undersampling the majority sample"
   ]
  },
  {
   "cell_type": "code",
   "execution_count": 26,
   "metadata": {},
   "outputs": [],
   "source": [
    "Xy_train=pd.concat([X_train,y_train],axis=1)\n",
    "Xy_train0=Xy_train.loc[Xy_train['Class']==0]\n",
    "Xy_train1=Xy_train.loc[Xy_train['Class']==1]\n",
    "\n",
    "len1=len(Xy_train1)\n",
    "len0=len(Xy_train0)\n",
    "\n",
    "Xy_train0_us=Xy_train0.sample(len1)\n",
    "Xy_train_us=pd.concat([Xy_train0_us, Xy_train1],axis=0)\n",
    "\n",
    "y_train_us=Xy_train_us['Class']\n",
    "X_train_us=Xy_train_us.drop(['Class'],axis=1)"
   ]
  },
  {
   "cell_type": "code",
   "execution_count": 27,
   "metadata": {},
   "outputs": [],
   "source": [
    "from sklearn.ensemble import RandomForestClassifier"
   ]
  },
  {
   "cell_type": "code",
   "execution_count": 28,
   "metadata": {},
   "outputs": [
    {
     "name": "stderr",
     "output_type": "stream",
     "text": [
      "C:\\Users\\hp\\Anaconda3\\lib\\site-packages\\sklearn\\ensemble\\forest.py:245: FutureWarning: The default value of n_estimators will change from 10 in version 0.20 to 100 in 0.22.\n",
      "  \"10 in version 0.20 to 100 in 0.22.\", FutureWarning)\n"
     ]
    },
    {
     "name": "stdout",
     "output_type": "stream",
     "text": [
      "auc of train 0.9999989630948547\n",
      "Confusion Matrix of train [[176751      0]\n",
      " [    22    259]]\n",
      "auc of test 0.9580114453934601\n",
      "Confusion Matrix of test [[75744     7]\n",
      " [   32    88]]\n"
     ]
    },
    {
     "data": {
      "image/png": "[encoded data removed]",
      "text/plain": [
       "<Figure size 432x288 with 1 Axes>"
      ]
     },
     "metadata": {
      "needs_background": "light"
     },
     "output_type": "display_data"
    }
   ],
   "source": [
    "rf=RandomForestClassifier()\n",
    "model_fit(rf,X_train,X_test,y_train,y_test)"
   ]
  },
  {
   "cell_type": "markdown",
   "metadata": {},
   "source": [
    "# over-sample Minority Class"
   ]
  },
  {
   "cell_type": "code",
   "execution_count": 29,
   "metadata": {},
   "outputs": [],
   "source": [
    "X_train0=Xy_train.loc[Xy_train['Class']==0]\n",
    "X_train1=Xy_train.loc[Xy_train['Class']==1]\n",
    "\n",
    "len1=len(Xy_train1)\n",
    "len2=len(Xy_train0)\n",
    "\n",
    "Xy_train1_os=Xy_train1.sample(len0,replace=True)\n",
    "\n",
    "Xy_train_os=pd.concat([Xy_train1_os,Xy_train0],axis=0)\n",
    "y_train_os=Xy_train_os['Class']\n",
    "X_train_os=Xy_train_os.drop('Class',axis=1)\n",
    "\n"
   ]
  },
  {
   "cell_type": "code",
   "execution_count": 30,
   "metadata": {},
   "outputs": [
    {
     "name": "stderr",
     "output_type": "stream",
     "text": [
      "C:\\Users\\hp\\Anaconda3\\lib\\site-packages\\sklearn\\linear_model\\logistic.py:432: FutureWarning: Default solver will be changed to 'lbfgs' in 0.22. Specify a solver to silence this warning.\n",
      "  FutureWarning)\n"
     ]
    },
    {
     "name": "stdout",
     "output_type": "stream",
     "text": [
      "auc of train 0.9687671028766003\n",
      "Confusion Matrix of train [[170223   6528]\n",
      " [ 21973 154778]]\n",
      "auc of test 0.9915383955327323\n",
      "Confusion Matrix of test [[72954  2797]\n",
      " [    8   112]]\n"
     ]
    },
    {
     "data": {
      "image/png": "[encoded data removed]",
      "text/plain": [
       "<Figure size 432x288 with 1 Axes>"
      ]
     },
     "metadata": {
      "needs_background": "light"
     },
     "output_type": "display_data"
    }
   ],
   "source": [
    "model_fit(lr,X_train_os, X_test,y_train_os, y_test)"
   ]
  },
  {
   "cell_type": "code",
   "execution_count": 31,
   "metadata": {},
   "outputs": [
    {
     "name": "stdout",
     "output_type": "stream",
     "text": [
      "auc of train 1.0\n",
      "Confusion Matrix of train [[176751      0]\n",
      " [     0 176751]]\n",
      "auc of test 0.9579894984884686\n",
      "Confusion Matrix of test [[75743     8]\n",
      " [   30    90]]\n"
     ]
    },
    {
     "data": {
      "image/png": "[encoded data removed]",
      "text/plain": [
       "<Figure size 432x288 with 1 Axes>"
      ]
     },
     "metadata": {
      "needs_background": "light"
     },
     "output_type": "display_data"
    }
   ],
   "source": [
    "model_fit(rf,X_train_os, X_test,y_train_os, y_test)"
   ]
  },
  {
   "cell_type": "markdown",
   "metadata": {},
   "source": [
    "# SMOTE"
   ]
  },
  {
   "cell_type": "code",
   "execution_count": 32,
   "metadata": {},
   "outputs": [
    {
     "name": "stdout",
     "output_type": "stream",
     "text": [
      "Requirement already satisfied: imblearn in c:\\users\\hp\\anaconda3\\lib\\site-packages (0.0)\n",
      "Requirement already satisfied: imbalanced-learn in c:\\users\\hp\\anaconda3\\lib\\site-packages (from imblearn) (0.5.0)\n",
      "Requirement already satisfied: scipy>=0.17 in c:\\users\\hp\\anaconda3\\lib\\site-packages (from imbalanced-learn->imblearn) (1.3.1)\n",
      "Requirement already satisfied: joblib>=0.11 in c:\\users\\hp\\anaconda3\\lib\\site-packages (from imbalanced-learn->imblearn) (0.13.2)\n",
      "Requirement already satisfied: scikit-learn>=0.21 in c:\\users\\hp\\anaconda3\\lib\\site-packages (from imbalanced-learn->imblearn) (0.21.3)\n",
      "Requirement already satisfied: numpy>=1.11 in c:\\users\\hp\\anaconda3\\lib\\site-packages (from imbalanced-learn->imblearn) (1.17.2)\n"
     ]
    }
   ],
   "source": [
    "!pip install imblearn"
   ]
  },
  {
   "cell_type": "code",
   "execution_count": 33,
   "metadata": {},
   "outputs": [],
   "source": [
    "from imblearn.over_sampling import SMOTE"
   ]
  },
  {
   "cell_type": "code",
   "execution_count": 34,
   "metadata": {},
   "outputs": [],
   "source": [
    "smote=SMOTE(ratio='minority')\n",
    "X_train_sm,y_train_sm=smote.fit_sample(X_train,y_train)"
   ]
  },
  {
   "cell_type": "code",
   "execution_count": 35,
   "metadata": {},
   "outputs": [
    {
     "data": {
      "text/plain": [
       "(353502, 24)"
      ]
     },
     "execution_count": 35,
     "metadata": {},
     "output_type": "execute_result"
    }
   ],
   "source": [
    "X_train_sm.shape"
   ]
  },
  {
   "cell_type": "code",
   "execution_count": 36,
   "metadata": {},
   "outputs": [
    {
     "data": {
      "text/plain": [
       "(353502,)"
      ]
     },
     "execution_count": 36,
     "metadata": {},
     "output_type": "execute_result"
    }
   ],
   "source": [
    "y_train_sm.shape"
   ]
  },
  {
   "cell_type": "code",
   "execution_count": 37,
   "metadata": {},
   "outputs": [],
   "source": [
    "X_train_sm=pd.DataFrame(X_train_sm,columns=X_train.columns)"
   ]
  },
  {
   "cell_type": "code",
   "execution_count": 38,
   "metadata": {},
   "outputs": [],
   "source": [
    "y_train_sm=pd.Series(y_train_sm)"
   ]
  },
  {
   "cell_type": "code",
   "execution_count": 39,
   "metadata": {},
   "outputs": [
    {
     "data": {
      "text/plain": [
       "1    176751\n",
       "0    176751\n",
       "dtype: int64"
      ]
     },
     "execution_count": 39,
     "metadata": {},
     "output_type": "execute_result"
    }
   ],
   "source": [
    "y_train_sm.value_counts()"
   ]
  },
  {
   "cell_type": "code",
   "execution_count": 40,
   "metadata": {},
   "outputs": [
    {
     "name": "stderr",
     "output_type": "stream",
     "text": [
      "C:\\Users\\hp\\Anaconda3\\lib\\site-packages\\sklearn\\linear_model\\logistic.py:432: FutureWarning: Default solver will be changed to 'lbfgs' in 0.22. Specify a solver to silence this warning.\n",
      "  FutureWarning)\n"
     ]
    },
    {
     "name": "stdout",
     "output_type": "stream",
     "text": [
      "auc of train 0.9718866479468181\n",
      "Confusion Matrix of train [[170171   6580]\n",
      " [ 19059 157692]]\n",
      "auc of test 0.98472759435519\n",
      "Confusion Matrix of test [[72936  2815]\n",
      " [    7   113]]\n"
     ]
    },
    {
     "data": {
      "image/png": "[encoded data removed]",
      "text/plain": [
       "<Figure size 432x288 with 1 Axes>"
      ]
     },
     "metadata": {
      "needs_background": "light"
     },
     "output_type": "display_data"
    }
   ],
   "source": [
    "model_fit(lr,X_train_sm,X_test,y_train_sm,y_test)"
   ]
  },
  {
   "cell_type": "code",
   "execution_count": 41,
   "metadata": {},
   "outputs": [
    {
     "name": "stdout",
     "output_type": "stream",
     "text": [
      "auc of train 0.9999999990717302\n",
      "Confusion Matrix of train [[176750      1]\n",
      " [     0 176751]]\n",
      "auc of test 0.9652557391981623\n",
      "Confusion Matrix of test [[75738    13]\n",
      " [   21    99]]\n"
     ]
    },
    {
     "data": {
      "image/png": "[encoded data removed]",
      "text/plain": [
       "<Figure size 432x288 with 1 Axes>"
      ]
     },
     "metadata": {
      "needs_background": "light"
     },
     "output_type": "display_data"
    }
   ],
   "source": [
    "model_fit(rf,X_train_sm,X_test,y_train_sm,y_test)"
   ]
  },
  {
   "cell_type": "markdown",
   "metadata": {},
   "source": [
    "# Applying PCA to reduce dimension and check impact on Models"
   ]
  },
  {
   "cell_type": "code",
   "execution_count": 42,
   "metadata": {},
   "outputs": [],
   "source": [
    "from sklearn.decomposition import PCA\n",
    "pca=PCA()\n",
    "pca.fit(X_train)\n",
    "variance=pd.DataFrame(pca.explained_variance_ratio_)"
   ]
  },
  {
   "cell_type": "code",
   "execution_count": 55,
   "metadata": {},
   "outputs": [
    {
     "data": {
      "text/html": [
       "<div>\n",
       "<style scoped>\n",
       "    .dataframe tbody tr th:only-of-type {\n",
       "        vertical-align: middle;\n",
       "    }\n",
       "\n",
       "    .dataframe tbody tr th {\n",
       "        vertical-align: top;\n",
       "    }\n",
       "\n",
       "    .dataframe thead th {\n",
       "        text-align: right;\n",
       "    }\n",
       "</style>\n",
       "<table border=\"1\" class=\"dataframe\">\n",
       "  <thead>\n",
       "    <tr style=\"text-align: right;\">\n",
       "      <th></th>\n",
       "      <th>0</th>\n",
       "    </tr>\n",
       "  </thead>\n",
       "  <tbody>\n",
       "    <tr>\n",
       "      <th>0</th>\n",
       "      <td>0.173073</td>\n",
       "    </tr>\n",
       "    <tr>\n",
       "      <th>1</th>\n",
       "      <td>0.121438</td>\n",
       "    </tr>\n",
       "    <tr>\n",
       "      <th>2</th>\n",
       "      <td>0.089076</td>\n",
       "    </tr>\n",
       "    <tr>\n",
       "      <th>3</th>\n",
       "      <td>0.080028</td>\n",
       "    </tr>\n",
       "    <tr>\n",
       "      <th>4</th>\n",
       "      <td>0.075173</td>\n",
       "    </tr>\n",
       "    <tr>\n",
       "      <th>5</th>\n",
       "      <td>0.063964</td>\n",
       "    </tr>\n",
       "    <tr>\n",
       "      <th>6</th>\n",
       "      <td>0.054950</td>\n",
       "    </tr>\n",
       "    <tr>\n",
       "      <th>7</th>\n",
       "      <td>0.047965</td>\n",
       "    </tr>\n",
       "    <tr>\n",
       "      <th>8</th>\n",
       "      <td>0.043701</td>\n",
       "    </tr>\n",
       "    <tr>\n",
       "      <th>9</th>\n",
       "      <td>0.034549</td>\n",
       "    </tr>\n",
       "    <tr>\n",
       "      <th>10</th>\n",
       "      <td>0.033226</td>\n",
       "    </tr>\n",
       "    <tr>\n",
       "      <th>11</th>\n",
       "      <td>0.030200</td>\n",
       "    </tr>\n",
       "    <tr>\n",
       "      <th>12</th>\n",
       "      <td>0.028321</td>\n",
       "    </tr>\n",
       "    <tr>\n",
       "      <th>13</th>\n",
       "      <td>0.024639</td>\n",
       "    </tr>\n",
       "    <tr>\n",
       "      <th>14</th>\n",
       "      <td>0.021583</td>\n",
       "    </tr>\n",
       "    <tr>\n",
       "      <th>15</th>\n",
       "      <td>0.017198</td>\n",
       "    </tr>\n",
       "    <tr>\n",
       "      <th>16</th>\n",
       "      <td>0.016499</td>\n",
       "    </tr>\n",
       "    <tr>\n",
       "      <th>17</th>\n",
       "      <td>0.011000</td>\n",
       "    </tr>\n",
       "    <tr>\n",
       "      <th>18</th>\n",
       "      <td>0.010185</td>\n",
       "    </tr>\n",
       "    <tr>\n",
       "      <th>19</th>\n",
       "      <td>0.008139</td>\n",
       "    </tr>\n",
       "    <tr>\n",
       "      <th>20</th>\n",
       "      <td>0.005910</td>\n",
       "    </tr>\n",
       "    <tr>\n",
       "      <th>21</th>\n",
       "      <td>0.005410</td>\n",
       "    </tr>\n",
       "    <tr>\n",
       "      <th>22</th>\n",
       "      <td>0.003019</td>\n",
       "    </tr>\n",
       "    <tr>\n",
       "      <th>23</th>\n",
       "      <td>0.000752</td>\n",
       "    </tr>\n",
       "  </tbody>\n",
       "</table>\n",
       "</div>"
      ],
      "text/plain": [
       "           0\n",
       "0   0.173073\n",
       "1   0.121438\n",
       "2   0.089076\n",
       "3   0.080028\n",
       "4   0.075173\n",
       "5   0.063964\n",
       "6   0.054950\n",
       "7   0.047965\n",
       "8   0.043701\n",
       "9   0.034549\n",
       "10  0.033226\n",
       "11  0.030200\n",
       "12  0.028321\n",
       "13  0.024639\n",
       "14  0.021583\n",
       "15  0.017198\n",
       "16  0.016499\n",
       "17  0.011000\n",
       "18  0.010185\n",
       "19  0.008139\n",
       "20  0.005910\n",
       "21  0.005410\n",
       "22  0.003019\n",
       "23  0.000752"
      ]
     },
     "execution_count": 55,
     "metadata": {},
     "output_type": "execute_result"
    }
   ],
   "source": [
    "variance"
   ]
  },
  {
   "cell_type": "code",
   "execution_count": 43,
   "metadata": {},
   "outputs": [
    {
     "data": {
      "text/plain": [
       "(177032, 24)"
      ]
     },
     "execution_count": 43,
     "metadata": {},
     "output_type": "execute_result"
    }
   ],
   "source": [
    "X_train.shape"
   ]
  },
  {
   "cell_type": "code",
   "execution_count": 44,
   "metadata": {},
   "outputs": [
    {
     "data": {
      "image/png": "[encoded data removed]",
      "text/plain": [
       "<Figure size 432x288 with 1 Axes>"
      ]
     },
     "metadata": {
      "needs_background": "light"
     },
     "output_type": "display_data"
    }
   ],
   "source": [
    "plt.plot(np.cumsum(pca.explained_variance_ratio_))\n",
    "plt.xlabel('Number of components')\n",
    "plt.ylabel('Cumulative explained variance')\n",
    "plt.show()"
   ]
  },
  {
   "cell_type": "code",
   "execution_count": 45,
   "metadata": {},
   "outputs": [
    {
     "data": {
      "text/plain": [
       "array([3.67517251, 2.57870037, 1.89151307, 1.69938212, 1.59629111,\n",
       "       1.35826052, 1.16685508, 1.01852362, 0.92798935, 0.73363246,\n",
       "       0.70555683, 0.64129633, 0.60138542, 0.52319336, 0.45830777,\n",
       "       0.36519613, 0.35035185, 0.23358929, 0.21628365, 0.17283021,\n",
       "       0.12550401, 0.11488819, 0.06409987, 0.01597162])"
      ]
     },
     "execution_count": 45,
     "metadata": {},
     "output_type": "execute_result"
    }
   ],
   "source": [
    "pca.explained_variance_        #eigen value"
   ]
  },
  {
   "cell_type": "code",
   "execution_count": 46,
   "metadata": {},
   "outputs": [
    {
     "data": {
      "text/plain": [
       "21.234774736207115"
      ]
     },
     "execution_count": 46,
     "metadata": {},
     "output_type": "execute_result"
    }
   ],
   "source": [
    "sum(pca.explained_variance_)"
   ]
  },
  {
   "cell_type": "code",
   "execution_count": 47,
   "metadata": {},
   "outputs": [
    {
     "data": {
      "text/plain": [
       "array([17.30732988, 12.14376137,  8.90762012,  8.0028262 ,  7.51734419,\n",
       "        6.39639712,  5.49501983,  4.79648893,  4.37013982,  3.45486341,\n",
       "        3.32264807,  3.02002887,  2.83207819,  2.46385171,  2.15828881,\n",
       "        1.71980225,  1.64989669,  1.10003187,  1.01853519,  0.81390177,\n",
       "        0.59103058,  0.54103793,  0.30186274,  0.07521446])"
      ]
     },
     "execution_count": 47,
     "metadata": {},
     "output_type": "execute_result"
    }
   ],
   "source": [
    "((pca.explained_variance_)/(sum(pca.explained_variance_)))*100 #pca.explained_variance_ratio"
   ]
  },
  {
   "cell_type": "code",
   "execution_count": 63,
   "metadata": {},
   "outputs": [],
   "source": [
    "from sklearn.decomposition import PCA\n",
    "pca=PCA(n_components=24)\n",
    "pca.fit(X_train)\n",
    "X_train_pca=pca.transform(X_train)\n",
    "X_test_pca=pca.transform(X_test)"
   ]
  },
  {
   "cell_type": "code",
   "execution_count": 64,
   "metadata": {},
   "outputs": [
    {
     "data": {
      "text/plain": [
       "(177032, 24)"
      ]
     },
     "execution_count": 64,
     "metadata": {},
     "output_type": "execute_result"
    }
   ],
   "source": [
    "X_train.shape"
   ]
  },
  {
   "cell_type": "code",
   "execution_count": 65,
   "metadata": {},
   "outputs": [],
   "source": [
    "XP=pd.DataFrame(X_train_pca,columns=X_train.columns)"
   ]
  },
  {
   "cell_type": "code",
   "execution_count": 66,
   "metadata": {},
   "outputs": [
    {
     "data": {
      "text/html": [
       "<div>\n",
       "<style scoped>\n",
       "    .dataframe tbody tr th:only-of-type {\n",
       "        vertical-align: middle;\n",
       "    }\n",
       "\n",
       "    .dataframe tbody tr th {\n",
       "        vertical-align: top;\n",
       "    }\n",
       "\n",
       "    .dataframe thead th {\n",
       "        text-align: right;\n",
       "    }\n",
       "</style>\n",
       "<table border=\"1\" class=\"dataframe\">\n",
       "  <thead>\n",
       "    <tr style=\"text-align: right;\">\n",
       "      <th></th>\n",
       "      <th>Time</th>\n",
       "      <th>V1</th>\n",
       "      <th>V2</th>\n",
       "      <th>V3</th>\n",
       "      <th>V5</th>\n",
       "      <th>V6</th>\n",
       "      <th>V7</th>\n",
       "      <th>V8</th>\n",
       "      <th>V9</th>\n",
       "      <th>V13</th>\n",
       "      <th>...</th>\n",
       "      <th>V20</th>\n",
       "      <th>V21</th>\n",
       "      <th>V22</th>\n",
       "      <th>V23</th>\n",
       "      <th>V24</th>\n",
       "      <th>V25</th>\n",
       "      <th>V26</th>\n",
       "      <th>V27</th>\n",
       "      <th>V28</th>\n",
       "      <th>Amount</th>\n",
       "    </tr>\n",
       "  </thead>\n",
       "  <tbody>\n",
       "    <tr>\n",
       "      <th>0</th>\n",
       "      <td>0.730910</td>\n",
       "      <td>-1.375451</td>\n",
       "      <td>-0.879510</td>\n",
       "      <td>-0.546330</td>\n",
       "      <td>-1.358473</td>\n",
       "      <td>0.041745</td>\n",
       "      <td>-1.346907</td>\n",
       "      <td>2.113711</td>\n",
       "      <td>-0.931589</td>\n",
       "      <td>0.462645</td>\n",
       "      <td>...</td>\n",
       "      <td>-0.838431</td>\n",
       "      <td>0.020353</td>\n",
       "      <td>0.099917</td>\n",
       "      <td>1.022133</td>\n",
       "      <td>-0.334848</td>\n",
       "      <td>0.297922</td>\n",
       "      <td>-0.171010</td>\n",
       "      <td>0.052186</td>\n",
       "      <td>-0.105444</td>\n",
       "      <td>-0.015486</td>\n",
       "    </tr>\n",
       "    <tr>\n",
       "      <th>1</th>\n",
       "      <td>1.416794</td>\n",
       "      <td>0.198492</td>\n",
       "      <td>-0.534444</td>\n",
       "      <td>1.394016</td>\n",
       "      <td>0.962896</td>\n",
       "      <td>-0.993575</td>\n",
       "      <td>0.555927</td>\n",
       "      <td>-0.298503</td>\n",
       "      <td>-0.116460</td>\n",
       "      <td>-1.053858</td>\n",
       "      <td>...</td>\n",
       "      <td>-1.323200</td>\n",
       "      <td>0.359208</td>\n",
       "      <td>0.173443</td>\n",
       "      <td>-0.349304</td>\n",
       "      <td>-0.881387</td>\n",
       "      <td>-0.216616</td>\n",
       "      <td>0.052376</td>\n",
       "      <td>0.056026</td>\n",
       "      <td>-0.151294</td>\n",
       "      <td>0.141664</td>\n",
       "    </tr>\n",
       "    <tr>\n",
       "      <th>2</th>\n",
       "      <td>3.725494</td>\n",
       "      <td>0.705941</td>\n",
       "      <td>0.643947</td>\n",
       "      <td>2.997402</td>\n",
       "      <td>-1.643427</td>\n",
       "      <td>17.507404</td>\n",
       "      <td>2.449872</td>\n",
       "      <td>-0.648131</td>\n",
       "      <td>0.518294</td>\n",
       "      <td>-0.455307</td>\n",
       "      <td>...</td>\n",
       "      <td>-0.843261</td>\n",
       "      <td>-0.490904</td>\n",
       "      <td>-0.126753</td>\n",
       "      <td>-0.047379</td>\n",
       "      <td>-0.003237</td>\n",
       "      <td>-0.535623</td>\n",
       "      <td>-0.628630</td>\n",
       "      <td>-0.006141</td>\n",
       "      <td>0.366458</td>\n",
       "      <td>0.003479</td>\n",
       "    </tr>\n",
       "    <tr>\n",
       "      <th>3</th>\n",
       "      <td>-0.957438</td>\n",
       "      <td>-0.894400</td>\n",
       "      <td>0.647249</td>\n",
       "      <td>0.127244</td>\n",
       "      <td>-0.467387</td>\n",
       "      <td>0.018176</td>\n",
       "      <td>-0.324936</td>\n",
       "      <td>1.030230</td>\n",
       "      <td>0.085007</td>\n",
       "      <td>-0.213045</td>\n",
       "      <td>...</td>\n",
       "      <td>-0.428543</td>\n",
       "      <td>-0.103810</td>\n",
       "      <td>-0.024590</td>\n",
       "      <td>0.155730</td>\n",
       "      <td>0.269083</td>\n",
       "      <td>0.024189</td>\n",
       "      <td>-0.161122</td>\n",
       "      <td>0.108009</td>\n",
       "      <td>-0.004439</td>\n",
       "      <td>0.024942</td>\n",
       "    </tr>\n",
       "    <tr>\n",
       "      <th>4</th>\n",
       "      <td>1.014538</td>\n",
       "      <td>-0.700639</td>\n",
       "      <td>-0.495109</td>\n",
       "      <td>-0.837169</td>\n",
       "      <td>0.249238</td>\n",
       "      <td>0.098170</td>\n",
       "      <td>-2.225889</td>\n",
       "      <td>1.370825</td>\n",
       "      <td>-1.220235</td>\n",
       "      <td>0.262388</td>\n",
       "      <td>...</td>\n",
       "      <td>0.258561</td>\n",
       "      <td>-0.436444</td>\n",
       "      <td>-0.736438</td>\n",
       "      <td>-0.058406</td>\n",
       "      <td>-0.755155</td>\n",
       "      <td>-0.180743</td>\n",
       "      <td>-0.211015</td>\n",
       "      <td>0.260425</td>\n",
       "      <td>0.082596</td>\n",
       "      <td>-0.123644</td>\n",
       "    </tr>\n",
       "    <tr>\n",
       "      <th>...</th>\n",
       "      <td>...</td>\n",
       "      <td>...</td>\n",
       "      <td>...</td>\n",
       "      <td>...</td>\n",
       "      <td>...</td>\n",
       "      <td>...</td>\n",
       "      <td>...</td>\n",
       "      <td>...</td>\n",
       "      <td>...</td>\n",
       "      <td>...</td>\n",
       "      <td>...</td>\n",
       "      <td>...</td>\n",
       "      <td>...</td>\n",
       "      <td>...</td>\n",
       "      <td>...</td>\n",
       "      <td>...</td>\n",
       "      <td>...</td>\n",
       "      <td>...</td>\n",
       "      <td>...</td>\n",
       "      <td>...</td>\n",
       "      <td>...</td>\n",
       "    </tr>\n",
       "    <tr>\n",
       "      <th>177027</th>\n",
       "      <td>1.543022</td>\n",
       "      <td>-0.497680</td>\n",
       "      <td>0.807939</td>\n",
       "      <td>-0.755511</td>\n",
       "      <td>-0.632124</td>\n",
       "      <td>-0.360696</td>\n",
       "      <td>0.694340</td>\n",
       "      <td>0.185277</td>\n",
       "      <td>0.535195</td>\n",
       "      <td>0.429658</td>\n",
       "      <td>...</td>\n",
       "      <td>0.282507</td>\n",
       "      <td>-0.158829</td>\n",
       "      <td>-0.824968</td>\n",
       "      <td>-0.057336</td>\n",
       "      <td>-0.342535</td>\n",
       "      <td>-0.236842</td>\n",
       "      <td>0.244313</td>\n",
       "      <td>0.170643</td>\n",
       "      <td>-0.029425</td>\n",
       "      <td>-0.331700</td>\n",
       "    </tr>\n",
       "    <tr>\n",
       "      <th>177028</th>\n",
       "      <td>-0.926055</td>\n",
       "      <td>-0.877272</td>\n",
       "      <td>1.429316</td>\n",
       "      <td>-0.538364</td>\n",
       "      <td>-0.150701</td>\n",
       "      <td>0.138238</td>\n",
       "      <td>-0.046745</td>\n",
       "      <td>0.048704</td>\n",
       "      <td>1.347703</td>\n",
       "      <td>0.366096</td>\n",
       "      <td>...</td>\n",
       "      <td>0.543063</td>\n",
       "      <td>-0.667832</td>\n",
       "      <td>-0.253701</td>\n",
       "      <td>0.025607</td>\n",
       "      <td>0.428025</td>\n",
       "      <td>0.045389</td>\n",
       "      <td>-0.118013</td>\n",
       "      <td>0.046996</td>\n",
       "      <td>0.014427</td>\n",
       "      <td>0.000496</td>\n",
       "    </tr>\n",
       "    <tr>\n",
       "      <th>177029</th>\n",
       "      <td>-2.656850</td>\n",
       "      <td>0.332227</td>\n",
       "      <td>1.616120</td>\n",
       "      <td>0.932981</td>\n",
       "      <td>1.827407</td>\n",
       "      <td>0.406967</td>\n",
       "      <td>1.001392</td>\n",
       "      <td>-1.035822</td>\n",
       "      <td>-0.855013</td>\n",
       "      <td>-0.458260</td>\n",
       "      <td>...</td>\n",
       "      <td>-0.328758</td>\n",
       "      <td>-0.063333</td>\n",
       "      <td>-0.064622</td>\n",
       "      <td>-0.099368</td>\n",
       "      <td>-0.210936</td>\n",
       "      <td>-0.050383</td>\n",
       "      <td>-0.019919</td>\n",
       "      <td>-0.003674</td>\n",
       "      <td>-0.081426</td>\n",
       "      <td>0.228486</td>\n",
       "    </tr>\n",
       "    <tr>\n",
       "      <th>177030</th>\n",
       "      <td>-1.257369</td>\n",
       "      <td>-1.352844</td>\n",
       "      <td>1.294535</td>\n",
       "      <td>0.867997</td>\n",
       "      <td>0.381736</td>\n",
       "      <td>0.173444</td>\n",
       "      <td>0.791648</td>\n",
       "      <td>0.959995</td>\n",
       "      <td>-0.187211</td>\n",
       "      <td>0.412824</td>\n",
       "      <td>...</td>\n",
       "      <td>-0.469845</td>\n",
       "      <td>-0.003679</td>\n",
       "      <td>-0.205058</td>\n",
       "      <td>-0.466545</td>\n",
       "      <td>0.742765</td>\n",
       "      <td>-0.017228</td>\n",
       "      <td>0.027060</td>\n",
       "      <td>0.016807</td>\n",
       "      <td>-0.006531</td>\n",
       "      <td>0.112605</td>\n",
       "    </tr>\n",
       "    <tr>\n",
       "      <th>177031</th>\n",
       "      <td>-1.047890</td>\n",
       "      <td>-0.414347</td>\n",
       "      <td>1.038138</td>\n",
       "      <td>-0.533900</td>\n",
       "      <td>-0.068791</td>\n",
       "      <td>0.041215</td>\n",
       "      <td>-0.090707</td>\n",
       "      <td>-0.586682</td>\n",
       "      <td>2.220336</td>\n",
       "      <td>0.321426</td>\n",
       "      <td>...</td>\n",
       "      <td>-0.712403</td>\n",
       "      <td>0.219547</td>\n",
       "      <td>-0.155643</td>\n",
       "      <td>-0.336585</td>\n",
       "      <td>0.542763</td>\n",
       "      <td>0.050061</td>\n",
       "      <td>0.136393</td>\n",
       "      <td>-0.118298</td>\n",
       "      <td>0.081443</td>\n",
       "      <td>-0.106981</td>\n",
       "    </tr>\n",
       "  </tbody>\n",
       "</table>\n",
       "<p>177032 rows × 24 columns</p>\n",
       "</div>"
      ],
      "text/plain": [
       "            Time        V1        V2        V3        V5         V6        V7  \\\n",
       "0       0.730910 -1.375451 -0.879510 -0.546330 -1.358473   0.041745 -1.346907   \n",
       "1       1.416794  0.198492 -0.534444  1.394016  0.962896  -0.993575  0.555927   \n",
       "2       3.725494  0.705941  0.643947  2.997402 -1.643427  17.507404  2.449872   \n",
       "3      -0.957438 -0.894400  0.647249  0.127244 -0.467387   0.018176 -0.324936   \n",
       "4       1.014538 -0.700639 -0.495109 -0.837169  0.249238   0.098170 -2.225889   \n",
       "...          ...       ...       ...       ...       ...        ...       ...   \n",
       "177027  1.543022 -0.497680  0.807939 -0.755511 -0.632124  -0.360696  0.694340   \n",
       "177028 -0.926055 -0.877272  1.429316 -0.538364 -0.150701   0.138238 -0.046745   \n",
       "177029 -2.656850  0.332227  1.616120  0.932981  1.827407   0.406967  1.001392   \n",
       "177030 -1.257369 -1.352844  1.294535  0.867997  0.381736   0.173444  0.791648   \n",
       "177031 -1.047890 -0.414347  1.038138 -0.533900 -0.068791   0.041215 -0.090707   \n",
       "\n",
       "              V8        V9       V13  ...       V20       V21       V22  \\\n",
       "0       2.113711 -0.931589  0.462645  ... -0.838431  0.020353  0.099917   \n",
       "1      -0.298503 -0.116460 -1.053858  ... -1.323200  0.359208  0.173443   \n",
       "2      -0.648131  0.518294 -0.455307  ... -0.843261 -0.490904 -0.126753   \n",
       "3       1.030230  0.085007 -0.213045  ... -0.428543 -0.103810 -0.024590   \n",
       "4       1.370825 -1.220235  0.262388  ...  0.258561 -0.436444 -0.736438   \n",
       "...          ...       ...       ...  ...       ...       ...       ...   \n",
       "177027  0.185277  0.535195  0.429658  ...  0.282507 -0.158829 -0.824968   \n",
       "177028  0.048704  1.347703  0.366096  ...  0.543063 -0.667832 -0.253701   \n",
       "177029 -1.035822 -0.855013 -0.458260  ... -0.328758 -0.063333 -0.064622   \n",
       "177030  0.959995 -0.187211  0.412824  ... -0.469845 -0.003679 -0.205058   \n",
       "177031 -0.586682  2.220336  0.321426  ... -0.712403  0.219547 -0.155643   \n",
       "\n",
       "             V23       V24       V25       V26       V27       V28    Amount  \n",
       "0       1.022133 -0.334848  0.297922 -0.171010  0.052186 -0.105444 -0.015486  \n",
       "1      -0.349304 -0.881387 -0.216616  0.052376  0.056026 -0.151294  0.141664  \n",
       "2      -0.047379 -0.003237 -0.535623 -0.628630 -0.006141  0.366458  0.003479  \n",
       "3       0.155730  0.269083  0.024189 -0.161122  0.108009 -0.004439  0.024942  \n",
       "4      -0.058406 -0.755155 -0.180743 -0.211015  0.260425  0.082596 -0.123644  \n",
       "...          ...       ...       ...       ...       ...       ...       ...  \n",
       "177027 -0.057336 -0.342535 -0.236842  0.244313  0.170643 -0.029425 -0.331700  \n",
       "177028  0.025607  0.428025  0.045389 -0.118013  0.046996  0.014427  0.000496  \n",
       "177029 -0.099368 -0.210936 -0.050383 -0.019919 -0.003674 -0.081426  0.228486  \n",
       "177030 -0.466545  0.742765 -0.017228  0.027060  0.016807 -0.006531  0.112605  \n",
       "177031 -0.336585  0.542763  0.050061  0.136393 -0.118298  0.081443 -0.106981  \n",
       "\n",
       "[177032 rows x 24 columns]"
      ]
     },
     "execution_count": 66,
     "metadata": {},
     "output_type": "execute_result"
    }
   ],
   "source": [
    "XP"
   ]
  },
  {
   "cell_type": "code",
   "execution_count": 49,
   "metadata": {},
   "outputs": [
    {
     "data": {
      "text/plain": [
       "array([[-1.01288256e-01, -9.29094271e-01,  3.39154115e-01,\n",
       "         5.98328538e-02,  7.55075433e-04, -2.38371084e-02,\n",
       "        -6.07148612e-02,  3.62204502e-02, -3.24409413e-03,\n",
       "        -2.19186729e-03,  8.88968471e-04,  8.84307672e-03,\n",
       "         2.22000786e-03, -6.15774524e-03,  4.30023213e-02,\n",
       "         1.42041660e-02, -7.68785179e-03, -7.89259558e-03,\n",
       "        -2.11687827e-05, -5.57071390e-05,  1.02939993e-03,\n",
       "        -4.50527287e-03,  1.61485905e-04, -4.59798328e-03],\n",
       "       [ 3.67879347e-01,  1.17051568e-02,  2.87136051e-01,\n",
       "        -8.74151968e-01,  1.04797969e-01, -4.13774071e-02,\n",
       "        -1.29718242e-02,  2.00391849e-02,  2.60160806e-02,\n",
       "        -1.33739346e-02, -4.50885426e-02,  6.17386445e-04,\n",
       "         2.12311419e-02,  4.25070430e-03,  1.45953067e-02,\n",
       "         9.56575410e-03,  1.26519518e-02,  2.26759068e-02,\n",
       "        -1.85795025e-03, -1.35125977e-02, -3.83469949e-03,\n",
       "        -2.11938830e-03, -1.08747695e-04, -1.15120207e-02],\n",
       "       [-1.34232899e-01,  1.18497985e-01,  2.22731241e-01,\n",
       "        -5.07349667e-02, -7.93009075e-01, -5.02755741e-01,\n",
       "        -1.64192692e-01,  6.13894932e-02,  2.55473229e-02,\n",
       "         2.31710078e-02,  3.16049009e-02,  7.97927299e-03,\n",
       "        -1.41047357e-02, -9.65795754e-03,  1.11395638e-02,\n",
       "        -3.54234099e-03, -1.37243255e-02,  1.39572800e-02,\n",
       "        -6.14794937e-03,  1.60995473e-02,  1.34711132e-04,\n",
       "        -2.66063151e-03,  5.14076029e-03,  2.69035534e-03],\n",
       "       [-1.50077428e-01,  8.53086481e-04, -9.12730924e-02,\n",
       "        -1.50094144e-01, -2.87593144e-01,  6.88322374e-01,\n",
       "        -5.88706891e-01,  1.97693327e-01, -2.37639871e-02,\n",
       "         1.47605140e-02,  3.96518451e-02,  3.71319430e-04,\n",
       "        -1.21492104e-03,  6.28559703e-04, -1.39583327e-02,\n",
       "         3.60092602e-03, -1.26087671e-05,  2.70972164e-02,\n",
       "         5.17964498e-03,  2.55504074e-02,  3.38924263e-03,\n",
       "        -6.30272851e-03, -1.05282012e-04,  2.07661481e-02],\n",
       "       [ 1.46284243e-01, -2.67096190e-01, -7.41665695e-01,\n",
       "        -1.51828805e-01,  5.93531983e-02, -4.00629873e-01,\n",
       "        -3.49478096e-01,  8.45044512e-02, -9.97473933e-02,\n",
       "        -5.51300083e-02, -6.02028290e-02, -2.27248052e-02,\n",
       "         7.07902159e-03,  2.42295567e-02, -1.26911965e-01,\n",
       "        -1.88585052e-02,  6.36794130e-02,  3.59901910e-02,\n",
       "        -4.43103479e-03, -1.17569187e-02, -9.64927822e-04,\n",
       "         3.53967233e-03, -1.70026781e-02,  2.82420358e-02],\n",
       "       [ 2.10460882e-02, -1.64989189e-02,  1.24078500e-02,\n",
       "        -7.14233667e-03, -3.26595337e-02,  2.53213353e-02,\n",
       "        -2.79632943e-01, -9.55491245e-01,  2.04762539e-02,\n",
       "         6.79695220e-03, -4.92834658e-03, -2.31576286e-03,\n",
       "         7.33123779e-03,  1.93756236e-03,  2.10903233e-02,\n",
       "         5.39370987e-02, -4.22841552e-03,  4.64105058e-02,\n",
       "        -5.10362313e-03,  3.34075436e-03,  2.56262761e-04,\n",
       "        -9.46488202e-03, -2.93645726e-03, -1.63869477e-04],\n",
       "       [ 2.65692491e-03,  3.90515500e-02,  1.07550978e-01,\n",
       "         2.78706987e-03, -3.36108846e-03,  2.09142903e-03,\n",
       "         1.82614393e-02, -2.77853101e-02, -9.90563497e-01,\n",
       "        -7.05372835e-03,  3.51228506e-02,  3.26996516e-04,\n",
       "        -2.36063018e-02,  2.47135839e-02, -3.06151993e-02,\n",
       "         4.26353834e-03, -3.83746387e-03, -2.84152206e-02,\n",
       "        -8.31932864e-04, -8.17087183e-03, -4.61296195e-03,\n",
       "        -8.32955330e-03,  1.25376932e-02,  3.36084399e-03],\n",
       "       [-2.45076591e-01,  5.96000134e-03, -4.61458925e-02,\n",
       "        -1.23932250e-01,  1.37500678e-01, -8.75558418e-02,\n",
       "        -3.01422663e-02,  1.22303861e-03, -6.63650897e-03,\n",
       "         9.18281367e-01,  1.97381599e-01,  6.70766359e-02,\n",
       "        -6.33518432e-02, -1.52735205e-02,  2.27294605e-02,\n",
       "        -1.86995449e-02, -3.62470361e-02,  3.47675833e-03,\n",
       "        -3.04525237e-04,  4.01617621e-02,  6.97088832e-03,\n",
       "         3.35896201e-03, -5.27217779e-03, -6.89890622e-03],\n",
       "       [-4.28730197e-01,  2.39895591e-02, -4.20867792e-02,\n",
       "        -2.06749683e-01,  1.67351426e-01, -1.01697251e-01,\n",
       "         1.10786488e-03, -2.60410636e-02,  2.34150730e-02,\n",
       "        -3.66887922e-01,  7.27989384e-01,  1.62669028e-01,\n",
       "        -1.31491657e-01, -3.78608164e-02,  2.71465608e-02,\n",
       "        -5.02091837e-02, -1.06718942e-01,  1.02498551e-02,\n",
       "         1.09298111e-02,  8.04825817e-02,  1.33915375e-02,\n",
       "         8.52233181e-03, -6.84336151e-03, -1.06835132e-02],\n",
       "       [ 1.32008571e-01, -9.51418903e-03,  1.86066997e-02,\n",
       "         4.43079000e-02, -1.41837435e-02,  2.21823777e-03,\n",
       "        -1.58588739e-02,  1.14801983e-02,  1.44406355e-02,\n",
       "         4.10278623e-02,  3.27195964e-01, -9.20975546e-01,\n",
       "        -6.01933258e-02,  9.37623839e-02,  6.89793222e-02,\n",
       "         2.61441358e-02,  5.67907579e-02, -4.00115123e-03,\n",
       "        -4.08980214e-03, -3.55174276e-02, -1.17058345e-03,\n",
       "         2.13492369e-03, -2.85626551e-03, -7.04725605e-03],\n",
       "       [-2.70451335e-01,  1.78605350e-02, -1.06174443e-02,\n",
       "        -1.09781781e-01,  7.04412196e-02, -2.73153724e-02,\n",
       "         2.49145853e-03, -1.60306220e-02, -4.64538915e-03,\n",
       "        -7.18210528e-02, -4.05164336e-01, -1.80486061e-01,\n",
       "        -7.76078096e-01, -2.28896670e-01,  3.34512994e-02,\n",
       "        -8.65057894e-02, -1.85751303e-01,  2.19794047e-02,\n",
       "         1.81431180e-02,  8.70846935e-02,  1.20427000e-02,\n",
       "         5.35965396e-03, -3.46768832e-03, -1.04570854e-02],\n",
       "       [ 6.21694713e-02,  4.36387216e-03,  1.63166665e-02,\n",
       "         2.95784216e-02,  9.11656435e-03, -5.46029202e-03,\n",
       "        -2.68567096e-02,  7.23791000e-03, -2.22457733e-02,\n",
       "         1.31997789e-02,  7.50210635e-02, -7.32393110e-02,\n",
       "         2.02680272e-01, -9.59473171e-01, -9.98895854e-02,\n",
       "         2.80785899e-02,  9.73537952e-02,  1.48206205e-02,\n",
       "         5.49137997e-03, -1.45691991e-02, -3.82584227e-03,\n",
       "         5.06392083e-03,  1.58310548e-03,  3.15017792e-03],\n",
       "       [-4.11316311e-01,  4.30812440e-02,  7.84470236e-03,\n",
       "        -1.33456100e-01,  1.29649139e-01, -7.93832917e-02,\n",
       "        -4.14052766e-02, -1.07311492e-02, -2.33628541e-02,\n",
       "        -6.53243468e-02, -3.01744422e-01, -2.52640358e-01,\n",
       "         5.53338706e-01,  2.41505376e-02,  1.54516341e-02,\n",
       "        -2.61371742e-01, -4.78584765e-01, -2.42355001e-02,\n",
       "        -3.42951093e-03,  1.44920987e-01,  1.40775772e-02,\n",
       "         1.64847545e-02,  3.22524748e-04, -5.01945174e-03],\n",
       "       [ 5.11026786e-02, -6.49849085e-04,  3.76781048e-03,\n",
       "         2.13745614e-02, -6.74805306e-03,  6.72288060e-03,\n",
       "        -3.40032983e-02, -3.28617063e-02, -1.40329396e-02,\n",
       "         1.71088647e-04,  1.21706602e-02,  3.84247366e-02,\n",
       "        -1.30075917e-02, -2.38941816e-02,  3.60005625e-01,\n",
       "        -8.46972127e-01,  3.78107181e-01, -3.92023858e-02,\n",
       "         3.58345243e-03, -1.88106626e-02, -3.48141696e-03,\n",
       "         1.29191864e-02, -3.88006175e-03, -2.11576872e-04]])"
      ]
     },
     "execution_count": 49,
     "metadata": {},
     "output_type": "execute_result"
    }
   ],
   "source": [
    "pca.components_"
   ]
  },
  {
   "cell_type": "code",
   "execution_count": 50,
   "metadata": {},
   "outputs": [
    {
     "data": {
      "text/html": [
       "<div>\n",
       "<style scoped>\n",
       "    .dataframe tbody tr th:only-of-type {\n",
       "        vertical-align: middle;\n",
       "    }\n",
       "\n",
       "    .dataframe tbody tr th {\n",
       "        vertical-align: top;\n",
       "    }\n",
       "\n",
       "    .dataframe thead th {\n",
       "        text-align: right;\n",
       "    }\n",
       "</style>\n",
       "<table border=\"1\" class=\"dataframe\">\n",
       "  <thead>\n",
       "    <tr style=\"text-align: right;\">\n",
       "      <th></th>\n",
       "      <th>0</th>\n",
       "      <th>1</th>\n",
       "      <th>2</th>\n",
       "      <th>3</th>\n",
       "      <th>4</th>\n",
       "      <th>5</th>\n",
       "      <th>6</th>\n",
       "      <th>7</th>\n",
       "      <th>8</th>\n",
       "      <th>9</th>\n",
       "      <th>10</th>\n",
       "      <th>11</th>\n",
       "      <th>12</th>\n",
       "      <th>13</th>\n",
       "    </tr>\n",
       "  </thead>\n",
       "  <tbody>\n",
       "    <tr>\n",
       "      <th>Time</th>\n",
       "      <td>-0.101288</td>\n",
       "      <td>0.367879</td>\n",
       "      <td>-0.134233</td>\n",
       "      <td>-0.150077</td>\n",
       "      <td>0.146284</td>\n",
       "      <td>0.021046</td>\n",
       "      <td>0.002657</td>\n",
       "      <td>-0.245077</td>\n",
       "      <td>-0.428730</td>\n",
       "      <td>0.132009</td>\n",
       "      <td>-0.270451</td>\n",
       "      <td>0.062169</td>\n",
       "      <td>-0.411316</td>\n",
       "      <td>0.051103</td>\n",
       "    </tr>\n",
       "    <tr>\n",
       "      <th>V1</th>\n",
       "      <td>-0.929094</td>\n",
       "      <td>0.011705</td>\n",
       "      <td>0.118498</td>\n",
       "      <td>0.000853</td>\n",
       "      <td>-0.267096</td>\n",
       "      <td>-0.016499</td>\n",
       "      <td>0.039052</td>\n",
       "      <td>0.005960</td>\n",
       "      <td>0.023990</td>\n",
       "      <td>-0.009514</td>\n",
       "      <td>0.017861</td>\n",
       "      <td>0.004364</td>\n",
       "      <td>0.043081</td>\n",
       "      <td>-0.000650</td>\n",
       "    </tr>\n",
       "    <tr>\n",
       "      <th>V2</th>\n",
       "      <td>0.339154</td>\n",
       "      <td>0.287136</td>\n",
       "      <td>0.222731</td>\n",
       "      <td>-0.091273</td>\n",
       "      <td>-0.741666</td>\n",
       "      <td>0.012408</td>\n",
       "      <td>0.107551</td>\n",
       "      <td>-0.046146</td>\n",
       "      <td>-0.042087</td>\n",
       "      <td>0.018607</td>\n",
       "      <td>-0.010617</td>\n",
       "      <td>0.016317</td>\n",
       "      <td>0.007845</td>\n",
       "      <td>0.003768</td>\n",
       "    </tr>\n",
       "    <tr>\n",
       "      <th>V3</th>\n",
       "      <td>0.059833</td>\n",
       "      <td>-0.874152</td>\n",
       "      <td>-0.050735</td>\n",
       "      <td>-0.150094</td>\n",
       "      <td>-0.151829</td>\n",
       "      <td>-0.007142</td>\n",
       "      <td>0.002787</td>\n",
       "      <td>-0.123932</td>\n",
       "      <td>-0.206750</td>\n",
       "      <td>0.044308</td>\n",
       "      <td>-0.109782</td>\n",
       "      <td>0.029578</td>\n",
       "      <td>-0.133456</td>\n",
       "      <td>0.021375</td>\n",
       "    </tr>\n",
       "    <tr>\n",
       "      <th>V5</th>\n",
       "      <td>0.000755</td>\n",
       "      <td>0.104798</td>\n",
       "      <td>-0.793009</td>\n",
       "      <td>-0.287593</td>\n",
       "      <td>0.059353</td>\n",
       "      <td>-0.032660</td>\n",
       "      <td>-0.003361</td>\n",
       "      <td>0.137501</td>\n",
       "      <td>0.167351</td>\n",
       "      <td>-0.014184</td>\n",
       "      <td>0.070441</td>\n",
       "      <td>0.009117</td>\n",
       "      <td>0.129649</td>\n",
       "      <td>-0.006748</td>\n",
       "    </tr>\n",
       "    <tr>\n",
       "      <th>V6</th>\n",
       "      <td>-0.023837</td>\n",
       "      <td>-0.041377</td>\n",
       "      <td>-0.502756</td>\n",
       "      <td>0.688322</td>\n",
       "      <td>-0.400630</td>\n",
       "      <td>0.025321</td>\n",
       "      <td>0.002091</td>\n",
       "      <td>-0.087556</td>\n",
       "      <td>-0.101697</td>\n",
       "      <td>0.002218</td>\n",
       "      <td>-0.027315</td>\n",
       "      <td>-0.005460</td>\n",
       "      <td>-0.079383</td>\n",
       "      <td>0.006723</td>\n",
       "    </tr>\n",
       "    <tr>\n",
       "      <th>V7</th>\n",
       "      <td>-0.060715</td>\n",
       "      <td>-0.012972</td>\n",
       "      <td>-0.164193</td>\n",
       "      <td>-0.588707</td>\n",
       "      <td>-0.349478</td>\n",
       "      <td>-0.279633</td>\n",
       "      <td>0.018261</td>\n",
       "      <td>-0.030142</td>\n",
       "      <td>0.001108</td>\n",
       "      <td>-0.015859</td>\n",
       "      <td>0.002491</td>\n",
       "      <td>-0.026857</td>\n",
       "      <td>-0.041405</td>\n",
       "      <td>-0.034003</td>\n",
       "    </tr>\n",
       "    <tr>\n",
       "      <th>V8</th>\n",
       "      <td>0.036220</td>\n",
       "      <td>0.020039</td>\n",
       "      <td>0.061389</td>\n",
       "      <td>0.197693</td>\n",
       "      <td>0.084504</td>\n",
       "      <td>-0.955491</td>\n",
       "      <td>-0.027785</td>\n",
       "      <td>0.001223</td>\n",
       "      <td>-0.026041</td>\n",
       "      <td>0.011480</td>\n",
       "      <td>-0.016031</td>\n",
       "      <td>0.007238</td>\n",
       "      <td>-0.010731</td>\n",
       "      <td>-0.032862</td>\n",
       "    </tr>\n",
       "    <tr>\n",
       "      <th>V9</th>\n",
       "      <td>-0.003244</td>\n",
       "      <td>0.026016</td>\n",
       "      <td>0.025547</td>\n",
       "      <td>-0.023764</td>\n",
       "      <td>-0.099747</td>\n",
       "      <td>0.020476</td>\n",
       "      <td>-0.990563</td>\n",
       "      <td>-0.006637</td>\n",
       "      <td>0.023415</td>\n",
       "      <td>0.014441</td>\n",
       "      <td>-0.004645</td>\n",
       "      <td>-0.022246</td>\n",
       "      <td>-0.023363</td>\n",
       "      <td>-0.014033</td>\n",
       "    </tr>\n",
       "    <tr>\n",
       "      <th>V13</th>\n",
       "      <td>-0.002192</td>\n",
       "      <td>-0.013374</td>\n",
       "      <td>0.023171</td>\n",
       "      <td>0.014761</td>\n",
       "      <td>-0.055130</td>\n",
       "      <td>0.006797</td>\n",
       "      <td>-0.007054</td>\n",
       "      <td>0.918281</td>\n",
       "      <td>-0.366888</td>\n",
       "      <td>0.041028</td>\n",
       "      <td>-0.071821</td>\n",
       "      <td>0.013200</td>\n",
       "      <td>-0.065324</td>\n",
       "      <td>0.000171</td>\n",
       "    </tr>\n",
       "    <tr>\n",
       "      <th>V15</th>\n",
       "      <td>0.000889</td>\n",
       "      <td>-0.045089</td>\n",
       "      <td>0.031605</td>\n",
       "      <td>0.039652</td>\n",
       "      <td>-0.060203</td>\n",
       "      <td>-0.004928</td>\n",
       "      <td>0.035123</td>\n",
       "      <td>0.197382</td>\n",
       "      <td>0.727989</td>\n",
       "      <td>0.327196</td>\n",
       "      <td>-0.405164</td>\n",
       "      <td>0.075021</td>\n",
       "      <td>-0.301744</td>\n",
       "      <td>0.012171</td>\n",
       "    </tr>\n",
       "    <tr>\n",
       "      <th>V17</th>\n",
       "      <td>0.008843</td>\n",
       "      <td>0.000617</td>\n",
       "      <td>0.007979</td>\n",
       "      <td>0.000371</td>\n",
       "      <td>-0.022725</td>\n",
       "      <td>-0.002316</td>\n",
       "      <td>0.000327</td>\n",
       "      <td>0.067077</td>\n",
       "      <td>0.162669</td>\n",
       "      <td>-0.920976</td>\n",
       "      <td>-0.180486</td>\n",
       "      <td>-0.073239</td>\n",
       "      <td>-0.252640</td>\n",
       "      <td>0.038425</td>\n",
       "    </tr>\n",
       "    <tr>\n",
       "      <th>V18</th>\n",
       "      <td>0.002220</td>\n",
       "      <td>0.021231</td>\n",
       "      <td>-0.014105</td>\n",
       "      <td>-0.001215</td>\n",
       "      <td>0.007079</td>\n",
       "      <td>0.007331</td>\n",
       "      <td>-0.023606</td>\n",
       "      <td>-0.063352</td>\n",
       "      <td>-0.131492</td>\n",
       "      <td>-0.060193</td>\n",
       "      <td>-0.776078</td>\n",
       "      <td>0.202680</td>\n",
       "      <td>0.553339</td>\n",
       "      <td>-0.013008</td>\n",
       "    </tr>\n",
       "    <tr>\n",
       "      <th>V19</th>\n",
       "      <td>-0.006158</td>\n",
       "      <td>0.004251</td>\n",
       "      <td>-0.009658</td>\n",
       "      <td>0.000629</td>\n",
       "      <td>0.024230</td>\n",
       "      <td>0.001938</td>\n",
       "      <td>0.024714</td>\n",
       "      <td>-0.015274</td>\n",
       "      <td>-0.037861</td>\n",
       "      <td>0.093762</td>\n",
       "      <td>-0.228897</td>\n",
       "      <td>-0.959473</td>\n",
       "      <td>0.024151</td>\n",
       "      <td>-0.023894</td>\n",
       "    </tr>\n",
       "    <tr>\n",
       "      <th>V20</th>\n",
       "      <td>0.043002</td>\n",
       "      <td>0.014595</td>\n",
       "      <td>0.011140</td>\n",
       "      <td>-0.013958</td>\n",
       "      <td>-0.126912</td>\n",
       "      <td>0.021090</td>\n",
       "      <td>-0.030615</td>\n",
       "      <td>0.022729</td>\n",
       "      <td>0.027147</td>\n",
       "      <td>0.068979</td>\n",
       "      <td>0.033451</td>\n",
       "      <td>-0.099890</td>\n",
       "      <td>0.015452</td>\n",
       "      <td>0.360006</td>\n",
       "    </tr>\n",
       "    <tr>\n",
       "      <th>V21</th>\n",
       "      <td>0.014204</td>\n",
       "      <td>0.009566</td>\n",
       "      <td>-0.003542</td>\n",
       "      <td>0.003601</td>\n",
       "      <td>-0.018859</td>\n",
       "      <td>0.053937</td>\n",
       "      <td>0.004264</td>\n",
       "      <td>-0.018700</td>\n",
       "      <td>-0.050209</td>\n",
       "      <td>0.026144</td>\n",
       "      <td>-0.086506</td>\n",
       "      <td>0.028079</td>\n",
       "      <td>-0.261372</td>\n",
       "      <td>-0.846972</td>\n",
       "    </tr>\n",
       "    <tr>\n",
       "      <th>V22</th>\n",
       "      <td>-0.007688</td>\n",
       "      <td>0.012652</td>\n",
       "      <td>-0.013724</td>\n",
       "      <td>-0.000013</td>\n",
       "      <td>0.063679</td>\n",
       "      <td>-0.004228</td>\n",
       "      <td>-0.003837</td>\n",
       "      <td>-0.036247</td>\n",
       "      <td>-0.106719</td>\n",
       "      <td>0.056791</td>\n",
       "      <td>-0.185751</td>\n",
       "      <td>0.097354</td>\n",
       "      <td>-0.478585</td>\n",
       "      <td>0.378107</td>\n",
       "    </tr>\n",
       "    <tr>\n",
       "      <th>V23</th>\n",
       "      <td>-0.007893</td>\n",
       "      <td>0.022676</td>\n",
       "      <td>0.013957</td>\n",
       "      <td>0.027097</td>\n",
       "      <td>0.035990</td>\n",
       "      <td>0.046411</td>\n",
       "      <td>-0.028415</td>\n",
       "      <td>0.003477</td>\n",
       "      <td>0.010250</td>\n",
       "      <td>-0.004001</td>\n",
       "      <td>0.021979</td>\n",
       "      <td>0.014821</td>\n",
       "      <td>-0.024236</td>\n",
       "      <td>-0.039202</td>\n",
       "    </tr>\n",
       "    <tr>\n",
       "      <th>V24</th>\n",
       "      <td>-0.000021</td>\n",
       "      <td>-0.001858</td>\n",
       "      <td>-0.006148</td>\n",
       "      <td>0.005180</td>\n",
       "      <td>-0.004431</td>\n",
       "      <td>-0.005104</td>\n",
       "      <td>-0.000832</td>\n",
       "      <td>-0.000305</td>\n",
       "      <td>0.010930</td>\n",
       "      <td>-0.004090</td>\n",
       "      <td>0.018143</td>\n",
       "      <td>0.005491</td>\n",
       "      <td>-0.003430</td>\n",
       "      <td>0.003583</td>\n",
       "    </tr>\n",
       "    <tr>\n",
       "      <th>V25</th>\n",
       "      <td>-0.000056</td>\n",
       "      <td>-0.013513</td>\n",
       "      <td>0.016100</td>\n",
       "      <td>0.025550</td>\n",
       "      <td>-0.011757</td>\n",
       "      <td>0.003341</td>\n",
       "      <td>-0.008171</td>\n",
       "      <td>0.040162</td>\n",
       "      <td>0.080483</td>\n",
       "      <td>-0.035517</td>\n",
       "      <td>0.087085</td>\n",
       "      <td>-0.014569</td>\n",
       "      <td>0.144921</td>\n",
       "      <td>-0.018811</td>\n",
       "    </tr>\n",
       "    <tr>\n",
       "      <th>V26</th>\n",
       "      <td>0.001029</td>\n",
       "      <td>-0.003835</td>\n",
       "      <td>0.000135</td>\n",
       "      <td>0.003389</td>\n",
       "      <td>-0.000965</td>\n",
       "      <td>0.000256</td>\n",
       "      <td>-0.004613</td>\n",
       "      <td>0.006971</td>\n",
       "      <td>0.013392</td>\n",
       "      <td>-0.001171</td>\n",
       "      <td>0.012043</td>\n",
       "      <td>-0.003826</td>\n",
       "      <td>0.014078</td>\n",
       "      <td>-0.003481</td>\n",
       "    </tr>\n",
       "    <tr>\n",
       "      <th>V27</th>\n",
       "      <td>-0.004505</td>\n",
       "      <td>-0.002119</td>\n",
       "      <td>-0.002661</td>\n",
       "      <td>-0.006303</td>\n",
       "      <td>0.003540</td>\n",
       "      <td>-0.009465</td>\n",
       "      <td>-0.008330</td>\n",
       "      <td>0.003359</td>\n",
       "      <td>0.008522</td>\n",
       "      <td>0.002135</td>\n",
       "      <td>0.005360</td>\n",
       "      <td>0.005064</td>\n",
       "      <td>0.016485</td>\n",
       "      <td>0.012919</td>\n",
       "    </tr>\n",
       "    <tr>\n",
       "      <th>V28</th>\n",
       "      <td>0.000161</td>\n",
       "      <td>-0.000109</td>\n",
       "      <td>0.005141</td>\n",
       "      <td>-0.000105</td>\n",
       "      <td>-0.017003</td>\n",
       "      <td>-0.002936</td>\n",
       "      <td>0.012538</td>\n",
       "      <td>-0.005272</td>\n",
       "      <td>-0.006843</td>\n",
       "      <td>-0.002856</td>\n",
       "      <td>-0.003468</td>\n",
       "      <td>0.001583</td>\n",
       "      <td>0.000323</td>\n",
       "      <td>-0.003880</td>\n",
       "    </tr>\n",
       "    <tr>\n",
       "      <th>Amount</th>\n",
       "      <td>-0.004598</td>\n",
       "      <td>-0.011512</td>\n",
       "      <td>0.002690</td>\n",
       "      <td>0.020766</td>\n",
       "      <td>0.028242</td>\n",
       "      <td>-0.000164</td>\n",
       "      <td>0.003361</td>\n",
       "      <td>-0.006899</td>\n",
       "      <td>-0.010684</td>\n",
       "      <td>-0.007047</td>\n",
       "      <td>-0.010457</td>\n",
       "      <td>0.003150</td>\n",
       "      <td>-0.005019</td>\n",
       "      <td>-0.000212</td>\n",
       "    </tr>\n",
       "  </tbody>\n",
       "</table>\n",
       "</div>"
      ],
      "text/plain": [
       "               0         1         2         3         4         5         6  \\\n",
       "Time   -0.101288  0.367879 -0.134233 -0.150077  0.146284  0.021046  0.002657   \n",
       "V1     -0.929094  0.011705  0.118498  0.000853 -0.267096 -0.016499  0.039052   \n",
       "V2      0.339154  0.287136  0.222731 -0.091273 -0.741666  0.012408  0.107551   \n",
       "V3      0.059833 -0.874152 -0.050735 -0.150094 -0.151829 -0.007142  0.002787   \n",
       "V5      0.000755  0.104798 -0.793009 -0.287593  0.059353 -0.032660 -0.003361   \n",
       "V6     -0.023837 -0.041377 -0.502756  0.688322 -0.400630  0.025321  0.002091   \n",
       "V7     -0.060715 -0.012972 -0.164193 -0.588707 -0.349478 -0.279633  0.018261   \n",
       "V8      0.036220  0.020039  0.061389  0.197693  0.084504 -0.955491 -0.027785   \n",
       "V9     -0.003244  0.026016  0.025547 -0.023764 -0.099747  0.020476 -0.990563   \n",
       "V13    -0.002192 -0.013374  0.023171  0.014761 -0.055130  0.006797 -0.007054   \n",
       "V15     0.000889 -0.045089  0.031605  0.039652 -0.060203 -0.004928  0.035123   \n",
       "V17     0.008843  0.000617  0.007979  0.000371 -0.022725 -0.002316  0.000327   \n",
       "V18     0.002220  0.021231 -0.014105 -0.001215  0.007079  0.007331 -0.023606   \n",
       "V19    -0.006158  0.004251 -0.009658  0.000629  0.024230  0.001938  0.024714   \n",
       "V20     0.043002  0.014595  0.011140 -0.013958 -0.126912  0.021090 -0.030615   \n",
       "V21     0.014204  0.009566 -0.003542  0.003601 -0.018859  0.053937  0.004264   \n",
       "V22    -0.007688  0.012652 -0.013724 -0.000013  0.063679 -0.004228 -0.003837   \n",
       "V23    -0.007893  0.022676  0.013957  0.027097  0.035990  0.046411 -0.028415   \n",
       "V24    -0.000021 -0.001858 -0.006148  0.005180 -0.004431 -0.005104 -0.000832   \n",
       "V25    -0.000056 -0.013513  0.016100  0.025550 -0.011757  0.003341 -0.008171   \n",
       "V26     0.001029 -0.003835  0.000135  0.003389 -0.000965  0.000256 -0.004613   \n",
       "V27    -0.004505 -0.002119 -0.002661 -0.006303  0.003540 -0.009465 -0.008330   \n",
       "V28     0.000161 -0.000109  0.005141 -0.000105 -0.017003 -0.002936  0.012538   \n",
       "Amount -0.004598 -0.011512  0.002690  0.020766  0.028242 -0.000164  0.003361   \n",
       "\n",
       "               7         8         9        10        11        12        13  \n",
       "Time   -0.245077 -0.428730  0.132009 -0.270451  0.062169 -0.411316  0.051103  \n",
       "V1      0.005960  0.023990 -0.009514  0.017861  0.004364  0.043081 -0.000650  \n",
       "V2     -0.046146 -0.042087  0.018607 -0.010617  0.016317  0.007845  0.003768  \n",
       "V3     -0.123932 -0.206750  0.044308 -0.109782  0.029578 -0.133456  0.021375  \n",
       "V5      0.137501  0.167351 -0.014184  0.070441  0.009117  0.129649 -0.006748  \n",
       "V6     -0.087556 -0.101697  0.002218 -0.027315 -0.005460 -0.079383  0.006723  \n",
       "V7     -0.030142  0.001108 -0.015859  0.002491 -0.026857 -0.041405 -0.034003  \n",
       "V8      0.001223 -0.026041  0.011480 -0.016031  0.007238 -0.010731 -0.032862  \n",
       "V9     -0.006637  0.023415  0.014441 -0.004645 -0.022246 -0.023363 -0.014033  \n",
       "V13     0.918281 -0.366888  0.041028 -0.071821  0.013200 -0.065324  0.000171  \n",
       "V15     0.197382  0.727989  0.327196 -0.405164  0.075021 -0.301744  0.012171  \n",
       "V17     0.067077  0.162669 -0.920976 -0.180486 -0.073239 -0.252640  0.038425  \n",
       "V18    -0.063352 -0.131492 -0.060193 -0.776078  0.202680  0.553339 -0.013008  \n",
       "V19    -0.015274 -0.037861  0.093762 -0.228897 -0.959473  0.024151 -0.023894  \n",
       "V20     0.022729  0.027147  0.068979  0.033451 -0.099890  0.015452  0.360006  \n",
       "V21    -0.018700 -0.050209  0.026144 -0.086506  0.028079 -0.261372 -0.846972  \n",
       "V22    -0.036247 -0.106719  0.056791 -0.185751  0.097354 -0.478585  0.378107  \n",
       "V23     0.003477  0.010250 -0.004001  0.021979  0.014821 -0.024236 -0.039202  \n",
       "V24    -0.000305  0.010930 -0.004090  0.018143  0.005491 -0.003430  0.003583  \n",
       "V25     0.040162  0.080483 -0.035517  0.087085 -0.014569  0.144921 -0.018811  \n",
       "V26     0.006971  0.013392 -0.001171  0.012043 -0.003826  0.014078 -0.003481  \n",
       "V27     0.003359  0.008522  0.002135  0.005360  0.005064  0.016485  0.012919  \n",
       "V28    -0.005272 -0.006843 -0.002856 -0.003468  0.001583  0.000323 -0.003880  \n",
       "Amount -0.006899 -0.010684 -0.007047 -0.010457  0.003150 -0.005019 -0.000212  "
      ]
     },
     "execution_count": 50,
     "metadata": {},
     "output_type": "execute_result"
    }
   ],
   "source": [
    "pd.DataFrame(pca.components_.T,index=X_train.columns)"
   ]
  },
  {
   "cell_type": "code",
   "execution_count": 51,
   "metadata": {},
   "outputs": [
    {
     "data": {
      "image/png": "[encoded data removed]",
      "text/plain": [
       "<Figure size 432x288 with 1 Axes>"
      ]
     },
     "metadata": {
      "needs_background": "light"
     },
     "output_type": "display_data"
    }
   ],
   "source": [
    "plt.plot(np.cumsum(pca.explained_variance_ratio_))\n",
    "plt.xlabel('Number of components')\n",
    "plt.ylabel('Cumulative explained variance')\n",
    "plt.show()"
   ]
  },
  {
   "cell_type": "code",
   "execution_count": 52,
   "metadata": {},
   "outputs": [
    {
     "name": "stderr",
     "output_type": "stream",
     "text": [
      "C:\\Users\\hp\\Anaconda3\\lib\\site-packages\\sklearn\\linear_model\\logistic.py:432: FutureWarning: Default solver will be changed to 'lbfgs' in 0.22. Specify a solver to silence this warning.\n",
      "  FutureWarning)\n"
     ]
    },
    {
     "name": "stdout",
     "output_type": "stream",
     "text": [
      "auc of train 0.9138759472053001\n",
      "Confusion Matrix of train [[176728     23]\n",
      " [   137    144]]\n",
      "auc of test 0.9582159531447331\n",
      "Confusion Matrix of test [[75738    13]\n",
      " [   60    60]]\n"
     ]
    },
    {
     "data": {
      "image/png": "[encoded data removed]",
      "text/plain": [
       "<Figure size 432x288 with 1 Axes>"
      ]
     },
     "metadata": {
      "needs_background": "light"
     },
     "output_type": "display_data"
    }
   ],
   "source": [
    "model_fit(lr,X_train_pca,X_test_pca,y_train,y_test)\n"
   ]
  },
  {
   "cell_type": "code",
   "execution_count": 53,
   "metadata": {},
   "outputs": [
    {
     "name": "stdout",
     "output_type": "stream",
     "text": [
      "auc of train 0.9999977248489043\n",
      "Confusion Matrix of train [[176749      2]\n",
      " [    15    266]]\n",
      "auc of test 0.9497178805120283\n",
      "Confusion Matrix of test [[75742     9]\n",
      " [   29    91]]\n"
     ]
    },
    {
     "data": {
      "image/png": "[encoded data removed]",
      "text/plain": [
       "<Figure size 432x288 with 1 Axes>"
      ]
     },
     "metadata": {
      "needs_background": "light"
     },
     "output_type": "display_data"
    }
   ],
   "source": [
    "model_fit(rf,X_train_pca,X_test_pca,y_train,y_test)"
   ]
  }
 ],
 "metadata": {
  "kernelspec": {
   "display_name": "Python 3",
   "language": "python",
   "name": "python3"
  },
  "language_info": {
   "codemirror_mode": {
    "name": "ipython",
    "version": 3
   },
   "file_extension": ".py",
   "mimetype": "text/x-python",
   "name": "python",
   "nbconvert_exporter": "python",
   "pygments_lexer": "ipython3",
   "version": "3.7.5"
  }
 },
 "nbformat": 4,
 "nbformat_minor": 2
}
